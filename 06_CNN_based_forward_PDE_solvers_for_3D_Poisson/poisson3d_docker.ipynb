{
 "cells": [
  {
   "attachments": {
    "8dda3624-695f-4b7b-8834-40b114048014.png": {
     "image/png": "[encoded data removed]"
    }
   },
   "cell_type": "markdown",
   "metadata": {},
   "source": [
    "![image.png](attachment:8dda3624-695f-4b7b-8834-40b114048014.png)"
   ]
  },
  {
   "cell_type": "code",
   "execution_count": null,
   "metadata": {},
   "outputs": [],
   "source": [
    "import os\n",
    "import numpy as np\n",
    "import h5py as h5\n",
    "import requests\n",
    "import json\n",
    "import matplotlib.pyplot as plt\n",
    "from keras.models import model_from_json # Only for network visualization\n",
    "from tensorflow.keras.utils import plot_model # Only for network visualization"
   ]
  },
  {
   "cell_type": "markdown",
   "metadata": {},
   "source": [
    "## Helper functions"
   ]
  },
  {
   "cell_type": "code",
   "execution_count": null,
   "metadata": {},
   "outputs": [],
   "source": [
    "# Generate application JSON configuration\n",
    "def create_request(model, network, sample, batch_size=1):\n",
    "    config = {\n",
    "        \"neural_network\": {\n",
    "            \"checkpoints\": {\n",
    "                \"load\": model\n",
    "            },\n",
    "            \"data\": {\n",
    "                \"type\": \"numpy\",\n",
    "                \"test_input_path\" : sample,\n",
    "                \"test_target_path\": sample,\n",
    "                \"test_batch_size\": batch_size\n",
    "            },\n",
    "            \"loss\": {\n",
    "                \"function\": \"Poisson3d_PDE\"\n",
    "            },\n",
    "            \"layers\": network\n",
    "        }\n",
    "    }\n",
    "    \n",
    "    return json.dumps(config)"
   ]
  },
  {
   "cell_type": "code",
   "execution_count": null,
   "metadata": {},
   "outputs": [],
   "source": [
    "def display_slice(pred, truth):\n",
    "    fig, ax = plt.subplots(1, 3, figsize=[16, 16])\n",
    "    #fig.suptitle('Vertically stacked subplots')\n",
    "    ax[0].set_title('DiffNet')\n",
    "    im0 = ax[0].imshow(pred, origin='lower', cmap='jet')\n",
    "    ax[1].set_title('FEM')\n",
    "    im1 = ax[1].imshow(truth, origin='lower', cmap='jet')\n",
    "    ax[2].set_title('Error')\n",
    "    im2 = ax[2].imshow(pred - truth, origin='lower', cmap='jet')\n",
    "    fig.colorbar(im0, ax = ax[0], shrink=0.3)\n",
    "    fig.colorbar(im1, ax = ax[1], shrink=0.3)\n",
    "    fig.colorbar(im2, ax = ax[2], shrink=0.3)\n",
    "    plt.show()\n",
    "    "
   ]
  },
  {
   "cell_type": "markdown",
   "metadata": {},
   "source": [
    "### Configuration"
   ]
  },
  {
   "cell_type": "code",
   "execution_count": null,
   "metadata": {},
   "outputs": [],
   "source": [
    "model   = '/home/ubuntu/models/model_checkpoint_64x64x64_ep50.pt'\n",
    "network = '/home/ubuntu/networks/unet3d_64x64x64.json'\n",
    "sample  = '/home/ubuntu/data/nu.npy'"
   ]
  },
  {
   "cell_type": "code",
   "execution_count": null,
   "metadata": {},
   "outputs": [],
   "source": [
    "model_json = open('/home/ubuntu/networks/unet3d_64x64x64_keras.json', 'r').read()\n",
    "keras_model = model_from_json(model_json)\n",
    "plot_model(keras_model, show_shapes=True)"
   ]
  },
  {
   "cell_type": "code",
   "execution_count": null,
   "metadata": {},
   "outputs": [],
   "source": [
    "plt.imshow(np.load(sample)[0, 32, :, :], origin='lower', cmap='jet')"
   ]
  },
  {
   "cell_type": "markdown",
   "metadata": {},
   "source": [
    "### Solving 3D Poisson PDE using RML Server"
   ]
  },
  {
   "cell_type": "code",
   "execution_count": null,
   "metadata": {},
   "outputs": [],
   "source": [
    "# Send request to PDE solver and examine response\n",
    "response = requests.post('http://127.0.0.1:9080/run/dnn/60000', create_request(model, network, sample))\n",
    "data = response.json()\n",
    "data.keys()"
   ]
  },
  {
   "cell_type": "code",
   "execution_count": null,
   "metadata": {},
   "outputs": [],
   "source": [
    "print(f\"Status = {data['status']}\\nExit code = {data['exit_code']}\")\n",
    "if (data['exit_code'] != 0):\n",
    "    print(f\"Reason = {data['output']}\")"
   ]
  },
  {
   "cell_type": "code",
   "execution_count": null,
   "metadata": {},
   "outputs": [],
   "source": [
    "# Get prediction(s)\n",
    "print(f\"Num predictions = {len(data['output']['tensors'])}\")\n",
    "output = data['output']['tensors'][0]\n",
    "output.keys()"
   ]
  },
  {
   "cell_type": "code",
   "execution_count": null,
   "metadata": {},
   "outputs": [],
   "source": [
    "output['dims']"
   ]
  },
  {
   "cell_type": "code",
   "execution_count": null,
   "metadata": {},
   "outputs": [],
   "source": [
    "# Reshape prediciton values: the resulting tensor is the solution to the 3D Poisson PDE\n",
    "pred = np.asarray(output['values']).reshape(output['dims']).squeeze()\n",
    "pred.shape"
   ]
  },
  {
   "cell_type": "markdown",
   "metadata": {},
   "source": [
    "### Visualizing DiffNet prediction and FEM solution"
   ]
  },
  {
   "cell_type": "code",
   "execution_count": null,
   "metadata": {},
   "outputs": [],
   "source": [
    "fem_solution = np.load('/home/ubuntu/data/fem.npy')\n",
    "x = 45\n",
    "display_slice(pred[x, :, :], fem_solution[x, :, :])"
   ]
  },
  {
   "cell_type": "markdown",
   "metadata": {},
   "source": [
    "### Shutdown RML Server"
   ]
  },
  {
   "cell_type": "code",
   "execution_count": null,
   "metadata": {},
   "outputs": [],
   "source": [
    "response = requests.get('http://127.0.0.1:9080/stop')\n",
    "response.json()"
   ]
  },
  {
   "cell_type": "code",
   "execution_count": null,
   "metadata": {},
   "outputs": [],
   "source": []
  }
 ],
 "metadata": {
  "kernelspec": {
   "display_name": "Python 3",
   "language": "python",
   "name": "python3"
  },
  "language_info": {
   "codemirror_mode": {
    "name": "ipython",
    "version": 3
   },
   "file_extension": ".py",
   "mimetype": "text/x-python",
   "name": "python",
   "nbconvert_exporter": "python",
   "pygments_lexer": "ipython3",
   "version": "3.7.7"
  }
 },
 "nbformat": 4,
 "nbformat_minor": 4
}
