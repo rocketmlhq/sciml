{
 "cells": [
  {
   "cell_type": "markdown",
   "metadata": {},
   "source": [
    "# DiffNet Demo"
   ]
  },
  {
   "cell_type": "markdown",
   "metadata": {},
   "source": [
    "In this tutorial, we will show  how to use DiffNets for 2D and 3D Poisson's equattion"
   ]
  },
  {
   "cell_type": "markdown",
   "metadata": {},
   "source": [
    "### Preliminaries: installing dependencies and importing packages"
   ]
  },
  {
   "cell_type": "code",
   "execution_count": null,
   "metadata": {},
   "outputs": [],
   "source": []
  },
  {
   "cell_type": "code",
   "execution_count": 1,
   "metadata": {},
   "outputs": [
    {
     "name": "stderr",
     "output_type": "stream",
     "text": [
      "Global seed set to 42\n"
     ]
    }
   ],
   "source": [
    "import os\n",
    "import sys\n",
    "import json\n",
    "import torch\n",
    "import numpy as np\n",
    "\n",
    "import matplotlib\n",
    "# matplotlib.use(\"pgf\")\n",
    "matplotlib.rcParams.update({\n",
    "    # 'font.family': 'serif',\n",
    "    'font.size':12,\n",
    "})\n",
    "from matplotlib import pyplot as plt\n",
    "\n",
    "import mlflow\n",
    "import mlflow.pytorch\n",
    "from mlflow.tracking import MlflowClient\n",
    "tracking_uri = os.environ.get(\"TRACKING_URL\")\n",
    "client = MlflowClient(tracking_uri=tracking_uri)\n",
    "mlflow.set_tracking_uri(tracking_uri)\n",
    "\n",
    "\n",
    "import pytorch_lightning as pl\n",
    "from pytorch_lightning import Trainer, seed_everything\n",
    "from pytorch_lightning.loggers import TensorBoardLogger\n",
    "seed_everything(42)\n",
    "\n",
    "import DiffNet\n",
    "from DiffNet.networks.wgan_old import GoodGenerator\n",
    "from DiffNet.networks.autoencoders import AE\n",
    "from DiffNet.DiffNetFEM import DiffNet2DFEM\n",
    "from DiffNet.datasets.parametric.klsum import KLSumStochastic\n",
    "from DiffNet.datasets.single_instances.klsum import Dataset"
   ]
  },
  {
   "cell_type": "markdown",
   "metadata": {},
   "source": [
    "### Define few classes and methods"
   ]
  },
  {
   "cell_type": "code",
   "execution_count": 2,
   "metadata": {},
   "outputs": [],
   "source": [
    "from tqdm import tqdm\n",
    "from torch.utils import data\n",
    "from DiffNet.gen_input_calc import generate_diffusivity_tensor\n",
    "\n",
    "\n",
    "class KLSum(data.Dataset):\n",
    "    'PyTorch dataset for sampling coefficients'\n",
    "    def __init__(self, filename, domain_size=64, kl_terms=6):\n",
    "        \"\"\"\n",
    "        Initialization\n",
    "        \"\"\"\n",
    "        self.coeffs = np.load(filename)\n",
    "        self.domain_size = domain_size\n",
    "        self.kl_terms = kl_terms\n",
    "        self.dataset = []\n",
    "        \n",
    "        print('loading dataset')\n",
    "        for coeff in tqdm(self.coeffs):\n",
    "            domain = generate_diffusivity_tensor(coeff, output_size=self.domain_size, n_sum_nu=kl_terms).squeeze()\n",
    "            # bc1 will be source, u will be set to 1 at these locations\n",
    "            bc1 = np.zeros_like(domain)\n",
    "            bc1[:,0] = 1\n",
    "\n",
    "            # bc2 will be sink, u will be set to 0 at these locations\n",
    "            bc2 = np.zeros_like(domain)\n",
    "            bc2[:,-1] = 1\n",
    "\n",
    "            self.dataset.append(np.array([domain,bc1,bc2]))\n",
    "        self.dataset = np.array(self.dataset)\n",
    "        self.n_samples = self.dataset.shape[0]\n",
    "\n",
    "    def __len__(self):\n",
    "        'Denotes the total number of samples'\n",
    "        return self.n_samples\n",
    "\n",
    "    def __getitem__(self, index):\n",
    "        'Generates one sample of data'\n",
    "        inputs = self.dataset[index]\n",
    "        forcing = np.zeros_like(self.dataset[index][0])\n",
    "        return torch.FloatTensor(inputs), torch.FloatTensor(forcing).unsqueeze(0)\n",
    "\n"
   ]
  },
  {
   "cell_type": "code",
   "execution_count": 3,
   "metadata": {},
   "outputs": [],
   "source": [
    "class Poisson(DiffNet2DFEM):\n",
    "    \"\"\"docstring for Poisson\"\"\"\n",
    "    def __init__(self, network, dataset, **kwargs):\n",
    "        super(Poisson, self).__init__(network, dataset, **kwargs)\n",
    "\n",
    "    def loss(self, u, inputs_tensor, forcing_tensor):\n",
    "\n",
    "        f = forcing_tensor # renaming variable\n",
    "        \n",
    "        # extract diffusivity and boundary conditions here\n",
    "        nu = inputs_tensor[:,0:1,:,:]\n",
    "        bc1 = inputs_tensor[:,1:2,:,:]\n",
    "        bc2 = inputs_tensor[:,2:3,:,:]\n",
    "\n",
    "        # apply boundary conditions\n",
    "        u = torch.where(bc1>0.5,1.0+u*0.0,u)\n",
    "        u = torch.where(bc2>0.5,u*0.0,u)\n",
    "\n",
    "\n",
    "        nu_gp = self.gauss_pt_evaluation(nu)\n",
    "        f_gp = self.gauss_pt_evaluation(f)\n",
    "        u_gp = self.gauss_pt_evaluation(u)\n",
    "        u_x_gp = self.gauss_pt_evaluation_der_x(u)\n",
    "        u_y_gp = self.gauss_pt_evaluation_der_y(u)\n",
    "\n",
    "        transformation_jacobian = self.gpw.unsqueeze(-1).unsqueeze(-1).unsqueeze(0).type_as(nu_gp)\n",
    "        res_elmwise = transformation_jacobian * (nu_gp * (u_x_gp**2 + u_y_gp**2) - (u_gp * f_gp))\n",
    "        res_elmwise = torch.sum(res_elmwise, 1) \n",
    "\n",
    "        # transformation_jacobian = (0.5 * self.h)**2 * self.gpw.unsqueeze(-1).unsqueeze(-1).unsqueeze(0).type_as(nu_gp)\n",
    "        # res_elmwise = 0.5 * transformation_jacobian * (nu_gp * (u_x_gp**2 + u_y_gp**2) - (u_gp * f_gp))\n",
    "        # res_elmwise = torch.sum(res_elmwise, 1) \n",
    "\n",
    "        loss = torch.mean(res_elmwise)\n",
    "        return loss\n",
    "\n",
    "    def forward(self, batch):\n",
    "        inputs_tensor, forcing_tensor = batch\n",
    "        u = self.network(inputs_tensor[:,0:1,:,:])\n",
    "        return u, inputs_tensor, forcing_tensor\n",
    "\n",
    "    def training_step(self, batch, batch_idx):\n",
    "        u, inputs_tensor, forcing_tensor = self.forward(batch)\n",
    "        loss_val = self.loss(u, inputs_tensor, forcing_tensor).mean()\n",
    "        return {\"loss\": loss_val}\n",
    "\n",
    "    def training_step_end(self, training_step_outputs):\n",
    "        loss = training_step_outputs[\"loss\"]\n",
    "        self.log('PDE_loss', loss.item())\n",
    "        self.log('loss', loss.item())\n",
    "        return training_step_outputs\n",
    "\n",
    "    def configure_optimizers(self):\n",
    "        lr = self.learning_rate\n",
    "        # opts = [torch.optim.LBFGS(self.network.parameters(), lr=lr, max_iter=5)]\n",
    "        opts = [torch.optim.Adam(self.network.parameters(), lr=lr)]\n",
    "        # schd = []\n",
    "        schd = [torch.optim.lr_scheduler.MultiStepLR(opts[0], milestones=[10,15,30], gamma=0.1)]\n",
    "        return opts, schd\n",
    "\n",
    "    def on_epoch_end(self):\n",
    "        num_query = 6\n",
    "        plt_num_row = num_query\n",
    "        plt_num_col = 2\n",
    "        fig, axs = plt.subplots(plt_num_row, plt_num_col, figsize=(2*plt_num_col,1.2*plt_num_row),\n",
    "                            subplot_kw={'aspect': 'auto'}, sharex=True, sharey=True, squeeze=True)\n",
    "        for ax_row in axs:\n",
    "            for ax in ax_row:\n",
    "                ax.set_xticks([])\n",
    "                ax.set_yticks([])\n",
    "        \n",
    "        self.network.eval()\n",
    "        inputs, forcing = self.dataset[0:num_query]\n",
    "        forcing = forcing.repeat(num_query,1,1,1)\n",
    "\n",
    "        ub, inputs_tensor, forcing_tensor = self.forward((inputs.type_as(next(self.network.parameters())), forcing.type_as(next(self.network.parameters()))))\n",
    "        \n",
    "        loss = self.loss(ub, inputs_tensor, forcing_tensor[:,0:1,:,:])\n",
    "\n",
    "        for idx in range(num_query):\n",
    "            f = forcing_tensor # renaming variable\n",
    "            \n",
    "            # extract diffusivity and boundary conditions here\n",
    "            nu = inputs_tensor[idx,0:1,:,:]\n",
    "            u = ub[idx,0:1,:,:]\n",
    "            bc1 = inputs_tensor[idx,1:2,:,:]\n",
    "            bc2 = inputs_tensor[idx,2:3,:,:]\n",
    "\n",
    "            # apply boundary conditions\n",
    "            u = torch.where(bc1>0.5,1.0+u*0.0,u)\n",
    "            u = torch.where(bc2>0.5,u*0.0,u)\n",
    "\n",
    "            k = nu.squeeze().detach().cpu()\n",
    "            u = u.squeeze().detach().cpu()\n",
    "\n",
    "            im0 = axs[idx][0].imshow(k,cmap='jet')\n",
    "            fig.colorbar(im0, ax=axs[idx,0])\n",
    "            im1 = axs[idx][1].imshow(u,cmap='jet')\n",
    "            fig.colorbar(im1, ax=axs[idx,1])  \n",
    "        plt.savefig(os.path.join(self.logger[0].log_dir, 'contour_' + str(self.current_epoch) + '.png'))\n",
    "        self.logger[0].experiment.add_figure('Contour Plots', fig, self.current_epoch)\n",
    "        plt.close('all')\n"
   ]
  },
  {
   "cell_type": "markdown",
   "metadata": {},
   "source": [
    "### Setting up the training"
   ]
  },
  {
   "cell_type": "code",
   "execution_count": 5,
   "metadata": {},
   "outputs": [
    {
     "name": "stdout",
     "output_type": "stream",
     "text": [
      "--2021-11-12 18:48:59--  https://github.com/rocketmlhq/sciml/raw/main/05_DiffNets/sobol_6d.npy\n",
      "Resolving github.com (github.com)... 140.82.113.3\n",
      "Connecting to github.com (github.com)|140.82.113.3|:443... connected.\n",
      "HTTP request sent, awaiting response... 302 Found\n",
      "Location: https://raw.githubusercontent.com/rocketmlhq/sciml/main/05_DiffNets/sobol_6d.npy [following]\n",
      "--2021-11-12 18:48:59--  https://raw.githubusercontent.com/rocketmlhq/sciml/main/05_DiffNets/sobol_6d.npy\n",
      "Resolving raw.githubusercontent.com (raw.githubusercontent.com)... 185.199.108.133, 185.199.109.133, 185.199.110.133, ...\n",
      "Connecting to raw.githubusercontent.com (raw.githubusercontent.com)|185.199.108.133|:443... connected.\n",
      "HTTP request sent, awaiting response... 200 OK\n",
      "Length: 3145856 (3.0M) [application/octet-stream]\n",
      "Saving to: ‘sobol_6d.npy’\n",
      "\n",
      "sobol_6d.npy        100%[===================>]   3.00M  --.-KB/s    in 0.07s   \n",
      "\n",
      "2021-11-12 18:49:00 (43.6 MB/s) - ‘sobol_6d.npy’ saved [3145856/3145856]\n",
      "\n"
     ]
    }
   ],
   "source": [
    "!wget https://github.com/rocketmlhq/sciml/raw/main/05_DiffNets/sobol_6d.npy"
   ]
  },
  {
   "cell_type": "code",
   "execution_count": 6,
   "metadata": {},
   "outputs": [
    {
     "name": "stdout",
     "output_type": "stream",
     "text": [
      "Max_epochs =  10\n",
      "loading dataset\n"
     ]
    },
    {
     "name": "stderr",
     "output_type": "stream",
     "text": [
      "100%|██████████| 65536/65536 [00:59<00:00, 1102.60it/s]\n",
      "Missing logger folder: ./klsum_32\n",
      "/miniconda/lib/python3.7/site-packages/pytorch_lightning/trainer/connectors/callback_connector.py:148: LightningDeprecationWarning: Setting `Trainer(checkpoint_callback=True)` is deprecated in v1.5 and will be removed in v1.7. Please consider using `Trainer(enable_checkpointing=True)`.\n",
      "  f\"Setting `Trainer(checkpoint_callback={checkpoint_callback})` is deprecated in v1.5 and will \"\n",
      "GPU available: False, used: False\n",
      "TPU available: False, using: 0 TPU cores\n",
      "IPU available: False, using: 0 IPUs\n"
     ]
    }
   ],
   "source": [
    "kl_terms = 6\n",
    "domain_size = 32\n",
    "LR = 1e-3\n",
    "batch_size = 128\n",
    "sample_size = 65536\n",
    "sobol_file = 'sobol_'+str(kl_terms)+'d.npy'\n",
    "max_epochs = 10\n",
    "print(\"Max_epochs = \", max_epochs)\n",
    "\n",
    "dataset = KLSum(sobol_file, domain_size=domain_size, kl_terms=kl_terms)\n",
    "# dataset = Dataset('../single_instance/example-coefficients.txt', domain_size=64)\n",
    "network = AE(in_channels=1, out_channels=1, dims=16, n_downsample=2)\n",
    "basecase = Poisson(network, dataset, batch_size=batch_size, domain_size=domain_size, learning_rate=LR)\n",
    "\n",
    "# ------------------------\n",
    "# 1 INIT TRAINER\n",
    "# ------------------------\n",
    "logger = pl.loggers.TensorBoardLogger('.', name=\"klsum_\"+str(domain_size))\n",
    "csv_logger = pl.loggers.CSVLogger(logger.save_dir, name=logger.name, version=logger.version)\n",
    "\n",
    "early_stopping = pl.callbacks.early_stopping.EarlyStopping('loss',\n",
    "    min_delta=1e-8, patience=10, verbose=False, mode='max', strict=True)\n",
    "checkpoint = pl.callbacks.model_checkpoint.ModelCheckpoint(monitor='loss',\n",
    "    dirpath=logger.log_dir, filename='{epoch}-{step}',\n",
    "    mode='min', save_last=True)\n",
    "\n",
    "trainer = Trainer(callbacks=[early_stopping,checkpoint],\n",
    "    checkpoint_callback=True, logger=[logger,csv_logger],\n",
    "    max_epochs=max_epochs, deterministic=True, profiler='simple')"
   ]
  },
  {
   "cell_type": "code",
   "execution_count": 7,
   "metadata": {},
   "outputs": [],
   "source": [
    "## Utility function to add libraries to conda environment\n",
    "def add_libraries_to_conda_env(_conda_env,libraries=[],conda_dependencies=[]):\n",
    "    dependencies = _conda_env[\"dependencies\"]\n",
    "    dependencies = dependencies + conda_dependencies\n",
    "    pip_index = None\n",
    "    for _index,_element in enumerate(dependencies):\n",
    "        if type(_element) == dict:\n",
    "            if \"pip\" in _element.keys():\n",
    "                pip_index = _index\n",
    "                break\n",
    "    dependencies[pip_index][\"pip\"] =  dependencies[pip_index][\"pip\"] + libraries\n",
    "    _conda_env[\"dependencies\"] = dependencies\n",
    "    return _conda_env\n",
    "\n",
    "\n",
    "## Pytorch Model Wrapper that takes encoded image strings as inputs\n",
    "class PytorchModelWrapper(mlflow.pyfunc.PythonModel):\n",
    "    def load_context(self,context):\n",
    "        import torch\n",
    "        scripted_model = context.artifacts[\"scripted_model\"]\n",
    "        self.model = torch.jit.load(scripted_model)\n",
    "        print(\"Pytorch model initialized\")\n",
    "    \n",
    "    def predict(self, context, model_input):\n",
    "        import numpy as np\n",
    "        import torch\n",
    "        print(\"Predicting %d samples\"%len(model_input))\n",
    "        nparray_list = []\n",
    "        nparray = np.array(model_input).astype(np.float32)\n",
    "        torch_tensor = torch.from_numpy(nparray)\n",
    "        predictions = self.model(torch_tensor)\n",
    "        return json.dumps(predictions.detach().numpy().tolist())"
   ]
  },
  {
   "cell_type": "markdown",
   "metadata": {},
   "source": [
    "### Training"
   ]
  },
  {
   "cell_type": "code",
   "execution_count": null,
   "metadata": {},
   "outputs": [
    {
     "name": "stderr",
     "output_type": "stream",
     "text": [
      "2021/11/12 18:50:20 WARNING mlflow.utils.autologging_utils: You are using an unsupported version of pytorch. If you encounter errors during autologging, try upgrading / downgrading pytorch to a supported version, or try upgrading MLflow.\n",
      "2021/11/12 18:50:20 WARNING mlflow.utils.autologging_utils: MLflow autologging encountered a warning: \"/miniconda/lib/python3.7/site-packages/pytorch_lightning/core/memory.py:17: LightningDeprecationWarning: `pytorch_lightning.core.memory.get_memory_profile` and `pytorch_lightning.core.memory.get_gpu_memory_map` have been moved to `pytorch_lightning.utilities.memory` since v1.5 and will be removed in v1.7.\"\n",
      "2021/11/12 18:50:20 WARNING mlflow.utils.autologging_utils: MLflow autologging encountered a warning: \"/miniconda/lib/python3.7/site-packages/pytorch_lightning/core/memory.py:26: LightningDeprecationWarning: `pytorch_lightning.core.memory.LayerSummary` and `pytorch_lightning.core.memory.ModelSummary` have been moved to `pytorch_lightning.utilities.model_summary` since v1.5 and will be removed in v1.7.\"\n"
     ]
    },
    {
     "name": "stdout",
     "output_type": "stream",
     "text": [
      "conda env: {'name': 'mlflow-env', 'channels': ['conda-forge'], 'dependencies': ['python=3.7.11', 'pip', {'pip': ['mlflow', 'torch==1.10.0', 'torchvision==0.11.1', 'cloudpickle==2.0.0', 'git+https://github.com/adityabalu/DiffNet.git']}]}\n"
     ]
    },
    {
     "name": "stderr",
     "output_type": "stream",
     "text": [
      "2021-11-12 18:50:21.668153: W tensorflow/stream_executor/platform/default/dso_loader.cc:64] Could not load dynamic library 'libcudart.so.11.0'; dlerror: libcudart.so.11.0: cannot open shared object file: No such file or directory\n",
      "2021-11-12 18:50:21.668198: I tensorflow/stream_executor/cuda/cudart_stub.cc:29] Ignore above cudart dlerror if you do not have a GPU set up on your machine.\n",
      "/miniconda/lib/python3.7/site-packages/pytorch_lightning/loggers/csv_logs.py:58: UserWarning: Experiment logs directory ./klsum_32/version_0 exists and is not empty. Previous log files in this directory will be deleted when the new ones are saved!\n",
      "  f\"Experiment logs directory {self.log_dir} exists and is not empty.\"\n",
      "\n",
      "  | Name      | Type          | Params\n",
      "--------------------------------------------\n",
      "0 | network   | AE            | 264 K \n",
      "1 | N_gp      | ParameterList | 16    \n",
      "2 | dN_x_gp   | ParameterList | 16    \n",
      "3 | dN_y_gp   | ParameterList | 16    \n",
      "4 | d2N_x_gp  | ParameterList | 16    \n",
      "5 | d2N_y_gp  | ParameterList | 16    \n",
      "6 | d2N_xy_gp | ParameterList | 16    \n",
      "--------------------------------------------\n",
      "264 K     Trainable params\n",
      "96        Non-trainable params\n",
      "264 K     Total params\n",
      "1.058     Total estimated model params size (MB)\n",
      "/miniconda/lib/python3.7/site-packages/pytorch_lightning/callbacks/model_checkpoint.py:617: UserWarning: Checkpoint directory /home/ubuntu/efs/sciml/05_DiffNets/klsum_32/version_0 exists and is not empty.\n",
      "  rank_zero_warn(f\"Checkpoint directory {dirpath} exists and is not empty.\")\n",
      "/miniconda/lib/python3.7/site-packages/pytorch_lightning/trainer/data_loading.py:111: UserWarning: The dataloader, train_dataloader, does not have many workers which may be a bottleneck. Consider increasing the value of the `num_workers` argument` (try 20 which is the number of cpus on this machine) in the `DataLoader` init to improve performance.\n",
      "  f\"The dataloader, {name}, does not have many workers which may be a bottleneck.\"\n"
     ]
    },
    {
     "name": "stdout",
     "output_type": "stream",
     "text": [
      "Epoch 0:   6%|▌         | 30/512 [07:03<1:53:25, 14.12s/it, loss=3.37e+03, v_num=0_0]"
     ]
    }
   ],
   "source": [
    "# ------------------------\n",
    "# 4 Training\n",
    "# ------------------------\n",
    "def print_auto_logged_info(r):\n",
    "\n",
    "    tags = {k: v for k, v in r.data.tags.items() if not k.startswith(\"mlflow.\")}\n",
    "    artifacts = [f.path for f in MlflowClient().list_artifacts(r.info.run_id, \"model\")]\n",
    "    print(\"run_id: {}\".format(r.info.run_id))\n",
    "    print(\"artifacts: {}\".format(artifacts))\n",
    "    print(\"params: {}\".format(r.data.params))\n",
    "    print(\"metrics: {}\".format(r.data.metrics))\n",
    "    print(\"tags: {}\".format(tags))\n",
    "\n",
    "# Fetch the associated conda environment\n",
    "env = mlflow.pytorch.get_default_conda_env()\n",
    "env = add_libraries_to_conda_env(env,libraries=['git+https://github.com/adityabalu/DiffNet.git'])\n",
    "print(\"conda env: {}\".format(env))\n",
    "\n",
    "mlflow.pytorch.autolog()\n",
    "\n",
    "# Train the model\n",
    "with mlflow.start_run() as run:\n",
    "    trainer.fit(basecase)\n",
    "    mlflow.log_artifacts(logger.log_dir, artifact_path=\"events\")\n",
    "    # Log the model as an artifact of the MLflow run.\n",
    "    scripted_model = torch.jit.script(basecase.network)\n",
    "    torch.jit.save(scripted_model,\"scripted_model.pth\")\n",
    "    model_artifacts = {\"scripted_model\" : \"scripted_model.pth\"}\n",
    "    pyfunc_pytorch_model = PytorchModelWrapper()\n",
    "    mlflow.pytorch.log_model(\"basecase_network\",python_model=pyfunc_pytorch_model,artifacts=model_artifacts,conda_env=env)\n",
    "    print(\"\\nLogging the trained scripted model as a run artifact...\")\n",
    "    print(\"\\nThe model is logged at:\\n%s\" % os.path.join(mlflow.get_artifact_uri(), \"basecase_network\"))\n",
    "\n",
    "# ------------------------\n",
    "# 5 SAVE NETWORK\n",
    "# ------------------------\n",
    "torch.save(basecase.network, os.path.join(logger.log_dir, 'network.pt'))\n",
    "mlflow.end_run()"
   ]
  },
  {
   "cell_type": "code",
   "execution_count": null,
   "metadata": {},
   "outputs": [],
   "source": [
    "print_auto_logged_info(mlflow.get_run(run_id=run.info.run_id))"
   ]
  },
  {
   "cell_type": "code",
   "execution_count": null,
   "metadata": {},
   "outputs": [],
   "source": []
  },
  {
   "cell_type": "code",
   "execution_count": null,
   "metadata": {},
   "outputs": [],
   "source": []
  },
  {
   "cell_type": "code",
   "execution_count": null,
   "metadata": {},
   "outputs": [],
   "source": []
  },
  {
   "cell_type": "code",
   "execution_count": 99,
   "metadata": {},
   "outputs": [
    {
     "name": "stdout",
     "output_type": "stream",
     "text": [
      "400\n",
      "REST API deployment is in progress -- please try again in a few minutes!\n"
     ]
    }
   ],
   "source": [
    "import requests\n",
    "import json\n",
    "import pandas as pd\n",
    "\n",
    "url = \"http://127.0.0.1:5011/invocations\"\n",
    "data_json = json.dumps(dataset.dataset[0][0,:,:].tolist())\n",
    "\n",
    "headers = {\"Content-Type\":\"application/json\"}\n",
    "response = requests.post(url,data=data_json, headers=headers)\n",
    "\n",
    "if response.status_code == 200:\n",
    "    print(response.json())\n",
    "else:\n",
    "    print(response.status_code)\n",
    "    print(\"REST API deployment is in progress -- please try again in a few minutes!\")"
   ]
  },
  {
   "cell_type": "code",
   "execution_count": 94,
   "metadata": {},
   "outputs": [
    {
     "name": "stdout",
     "output_type": "stream",
     "text": [
      "{\"error_code\": \"BAD_REQUEST\", \"message\": \"Encountered an unexpected error while evaluating the model. Verify that the serialized input Dataframe is compatible with the model for inference.\", \"stack_trace\": \"Traceback (most recent call last):\\n  File \\\"/anaconda/envs/mlflow-5586a9c73c1dbbd7f006268613ccfb208dae4a42/lib/python3.7/site-packages/mlflow/pyfunc/scoring_server/__init__.py\\\", line 303, in transformation\\n    raw_predictions = model.predict(data)\\n  File \\\"/anaconda/envs/mlflow-5586a9c73c1dbbd7f006268613ccfb208dae4a42/lib/python3.7/site-packages/mlflow/pyfunc/__init__.py\\\", line 608, in predict\\n    return self._model_impl.predict(data)\\n  File \\\"/anaconda/envs/mlflow-5586a9c73c1dbbd7f006268613ccfb208dae4a42/lib/python3.7/site-packages/mlflow/pytorch/__init__.py\\\", line 754, in predict\\n    preds = self.pytorch_model(input_tensor)\\n  File \\\"/anaconda/envs/mlflow-5586a9c73c1dbbd7f006268613ccfb208dae4a42/lib/python3.7/site-packages/torch/nn/modules/module.py\\\", line 1051, in _call_impl\\n    return forward_call(*input, **kwargs)\\n  File \\\"/anaconda/envs/mlflow-5586a9c73c1dbbd7f006268613ccfb208dae4a42/lib/python3.7/site-packages/DiffNet/networks/autoencoders.py\\\", line 93, in forward\\n    code = self.encoder(x)\\n  File \\\"/anaconda/envs/mlflow-5586a9c73c1dbbd7f006268613ccfb208dae4a42/lib/python3.7/site-packages/torch/nn/modules/module.py\\\", line 1051, in _call_impl\\n    return forward_call(*input, **kwargs)\\n  File \\\"/anaconda/envs/mlflow-5586a9c73c1dbbd7f006268613ccfb208dae4a42/lib/python3.7/site-packages/DiffNet/networks/autoencoders.py\\\", line 38, in forward\\n    x = self.model_blocks(x)\\n  File \\\"/anaconda/envs/mlflow-5586a9c73c1dbbd7f006268613ccfb208dae4a42/lib/python3.7/site-packages/torch/nn/modules/module.py\\\", line 1051, in _call_impl\\n    return forward_call(*input, **kwargs)\\n  File \\\"/anaconda/envs/mlflow-5586a9c73c1dbbd7f006268613ccfb208dae4a42/lib/python3.7/site-packages/torch/nn/modules/container.py\\\", line 139, in forward\\n    input = module(input)\\n  File \\\"/anaconda/envs/mlflow-5586a9c73c1dbbd7f006268613ccfb208dae4a42/lib/python3.7/site-packages/torch/nn/modules/module.py\\\", line 1051, in _call_impl\\n    return forward_call(*input, **kwargs)\\n  File \\\"/anaconda/envs/mlflow-5586a9c73c1dbbd7f006268613ccfb208dae4a42/lib/python3.7/site-packages/torch/nn/modules/padding.py\\\", line 173, in forward\\n    return F.pad(input, self.padding, 'reflect')\\n  File \\\"/anaconda/envs/mlflow-5586a9c73c1dbbd7f006268613ccfb208dae4a42/lib/python3.7/site-packages/torch/nn/functional.py\\\", line 4189, in _pad\\n    raise NotImplementedError(\\\"Only 3D, 4D, 5D padding with non-constant padding are supported for now\\\")\\nNotImplementedError: Only 3D, 4D, 5D padding with non-constant padding are supported for now\\n\"}"
     ]
    }
   ],
   "source": [
    "!curl http://127.0.0.1:5011/invocations -H 'Content-Type:application/json' -d '{\"columns\": [\"a\", \"b\", \"c\"],\"data\": [[1, 2, 3], [4, 5, 6]]}'"
   ]
  },
  {
   "cell_type": "code",
   "execution_count": 100,
   "metadata": {},
   "outputs": [
    {
     "name": "stdout",
     "output_type": "stream",
     "text": [
      "Traceback (most recent call last):\n",
      "  File \"/anaconda/envs/mlflow-5586a9c73c1dbbd7f006268613ccfb208dae4a42/lib/python3.7/site-packages/mlflow/pyfunc/scoring_server/__init__.py\", line 303, in transformation\n",
      "    raw_predictions = model.predict(data)\n",
      "  File \"/anaconda/envs/mlflow-5586a9c73c1dbbd7f006268613ccfb208dae4a42/lib/python3.7/site-packages/mlflow/pyfunc/__init__.py\", line 608, in predict\n",
      "    return self._model_impl.predict(data)\n",
      "  File \"/anaconda/envs/mlflow-5586a9c73c1dbbd7f006268613ccfb208dae4a42/lib/python3.7/site-packages/mlflow/pytorch/__init__.py\", line 754, in predict\n",
      "    preds = self.pytorch_model(input_tensor)\n",
      "  File \"/anaconda/envs/mlflow-5586a9c73c1dbbd7f006268613ccfb208dae4a42/lib/python3.7/site-packages/torch/nn/modules/module.py\", line 1051, in _call_impl\n",
      "    return forward_call(*input, **kwargs)\n",
      "  File \"/anaconda/envs/mlflow-5586a9c73c1dbbd7f006268613ccfb208dae4a42/lib/python3.7/site-packages/DiffNet/networks/autoencoders.py\", line 93, in forward\n",
      "    code = self.encoder(x)\n",
      "  File \"/anaconda/envs/mlflow-5586a9c73c1dbbd7f006268613ccfb208dae4a42/lib/python3.7/site-packages/torch/nn/modules/module.py\", line 1051, in _call_impl\n",
      "    return forward_call(*input, **kwargs)\n",
      "  File \"/anaconda/envs/mlflow-5586a9c73c1dbbd7f006268613ccfb208dae4a42/lib/python3.7/site-packages/DiffNet/networks/autoencoders.py\", line 38, in forward\n",
      "    x = self.model_blocks(x)\n",
      "  File \"/anaconda/envs/mlflow-5586a9c73c1dbbd7f006268613ccfb208dae4a42/lib/python3.7/site-packages/torch/nn/modules/module.py\", line 1051, in _call_impl\n",
      "    return forward_call(*input, **kwargs)\n",
      "  File \"/anaconda/envs/mlflow-5586a9c73c1dbbd7f006268613ccfb208dae4a42/lib/python3.7/site-packages/torch/nn/modules/container.py\", line 139, in forward\n",
      "    input = module(input)\n",
      "  File \"/anaconda/envs/mlflow-5586a9c73c1dbbd7f006268613ccfb208dae4a42/lib/python3.7/site-packages/torch/nn/modules/module.py\", line 1051, in _call_impl\n",
      "    return forward_call(*input, **kwargs)\n",
      "  File \"/anaconda/envs/mlflow-5586a9c73c1dbbd7f006268613ccfb208dae4a42/lib/python3.7/site-packages/torch/nn/modules/padding.py\", line 173, in forward\n",
      "    return F.pad(input, self.padding, 'reflect')\n",
      "  File \"/anaconda/envs/mlflow-5586a9c73c1dbbd7f006268613ccfb208dae4a42/lib/python3.7/site-packages/torch/nn/functional.py\", line 4189, in _pad\n",
      "    raise NotImplementedError(\"Only 3D, 4D, 5D padding with non-constant padding are supported for now\")\n",
      "NotImplementedError: Only 3D, 4D, 5D padding with non-constant padding are supported for now\n",
      "\n"
     ]
    }
   ],
   "source": [
    "print(response.json()['stack_trace'])"
   ]
  },
  {
   "cell_type": "code",
   "execution_count": 91,
   "metadata": {},
   "outputs": [
    {
     "data": {
      "text/plain": [
       "'{\"columns\":[0,1,2,3,4,5,6,7,8,9,10,11,12,13,14,15,16,17,18,19,20,21,22,23,24,25,26,27,28,29,30,31],\"index\":[0,1,2],\"data\":[[[0.0402931964,0.0484534083,0.1198500906,0.4892311287,2.3402966844,8.9498379311,19.6491857008,20.2592881917,9.5870826225,2.4442554446,0.4558154851,0.0909005037,0.0279614754,0.0173771962,0.0244662406,0.0732954165,0.3745386673,2.3572695343,12.8053686796,44.1048373093,78.8692498253,69.0616484544,32.1143814938,9.5707378663,2.3278684897,0.5855861961,0.1829331153,0.0785167596,0.0470981408,0.0377066664,0.0374154491,0.0431122602],[0.0484534083,0.0576120408,0.1350005257,0.5066060502,2.2051342231,7.7643076023,16.1846452402,16.5252389646,8.087392396,2.2070249521,0.448392464,0.0971683018,0.0317950938,0.0203170831,0.0283214978,0.0813432335,0.3910249163,2.310871109,11.9604379686,40.2867404948,72.5915491901,65.6888257191,32.0045363141,9.9808612334,2.5009721674,0.6319110999,0.1928322272,0.0790548508,0.0448156891,0.034055255,0.0326693429,0.0374154491],[0.1198500906,0.1350005257,0.2435259606,0.6084941491,1.6807463915,3.9877051833,6.5298908808,6.4608181497,3.8042453757,1.4836116299,0.4704817489,0.1568382997,0.0706034439,0.0518199063,0.0675484748,0.1510928216,0.5018806994,1.9840027574,7.2701901065,19.6855214553,33.5541250997,33.6403622582,20.4154968456,8.3632480243,2.7093527956,0.8235645517,0.2730814355,0.1100645158,0.0571621948,0.0388286542,0.034055255,0.0377066664],[0.4892311287,0.5066060502,0.6084941491,0.8079362243,1.1003843879,1.4135311346,1.5918691847,1.5032343702,1.1852207085,0.8109686372,0.5189362984,0.3418566666,0.2556163558,0.2347362036,0.2764548658,0.4167682339,0.7666226939,1.5789578577,3.2654430339,6.0552148259,9.1226607007,10.4283206105,8.7907129924,5.5418848292,2.7539989049,1.1708513283,0.4700730524,0.197457007,0.0953607345,0.0571621948,0.0448156891,0.0470981408],[2.3402966844,2.2051342231,1.6807463915,1.1003843879,0.6794856224,0.439267177,0.3254064461,0.2920243658,0.3204514452,0.4145653989,0.5892577888,0.8457666635,1.1365753806,1.3636918768,1.4483020271,1.4026912178,1.3111870579,1.2617738187,1.3150865231,1.513271005,1.8819063642,2.3838831262,2.8308177961,2.8947621647,2.3949347697,1.5719237414,0.8466075273,0.4072748718,0.197457007,0.1100645158,0.0790548508,0.0785167596],[8.9498379311,7.7643076023,3.9877051833,1.4135311346,0.439267177,0.1564231563,0.0805824499,0.0693684019,0.1021440115,0.2328431722,0.6756621099,1.9591131635,4.5120944046,7.0125715694,6.9191714666,4.5564770047,2.3086703125,1.0920648836,0.584730989,0.4087170759,0.3954395908,0.5108525356,0.7850073919,1.2233426308,1.652268403,1.7317056013,1.3619266985,0.8466075273,0.4700730524,0.2730814355,0.1928322272,0.1829331153],[19.6491857008,16.1846452402,6.5298908808,1.5918691847,0.3254064461,0.0805824499,0.03334545,0.0281860545,0.0504037632,0.1664751533,0.7741367739,3.6046008398,12.0875583849,22.8937015688,22.0621255106,11.3881697907,3.7950104067,1.0698835679,0.3394039541,0.1527986608,0.1109482164,0.1302173745,0.2207657751,0.4480654492,0.884562416,1.431537925,1.7317056013,1.5719237414,1.1708513283,0.8235645517,0.6319110999,0.5855861961],[20.2592881917,16.5252389646,6.4608181497,1.5032343702,0.2920243658,0.0693684019,0.0281860545,0.0242291319,0.0459378643,0.1675780579,0.888131018,4.776356786,18.2892130573,38.0284504143,37.6804306503,18.3751604189,5.2775035316,1.1794551377,0.2795760435,0.0921328361,0.0503162579,0.0479464567,0.0743252955,0.1596291198,0.3882073168,0.884562416,1.652268403,2.3949347697,2.7539989049,2.7093527956,2.5009721674,2.3278684897],[9.5870826225,8.087392396,3.8042453757,1.1852207085,0.3204514452,0.1021440115,0.0504037632,0.0459378643,0.0805549154,0.2450746637,1.0339420903,4.5062458043,15.0268103296,30.1019659134,31.6732345897,17.4618581813,5.7108347647,1.379087969,0.320168771,0.092063767,0.0398153587,0.0287194451,0.0346686468,0.064396002,0.1596291198,0.4480654492,1.2233426308,2.8947621647,5.5418848292,8.3632480243,9.9808612334,9.5707378663],[2.4442554446,2.2070249521,1.4836116299,0.8109686372,0.4145653989,0.2328431722,0.1664751533,0.1675780579,0.2450746637,0.4970168449,1.2434727,3.252866647,7.4167684073,12.5155688312,13.9498474589,9.8437567391,4.5630359866,1.5502335693,0.4541305896,0.1383614683,0.0525480315,0.0287892934,0.0248827459,0.0346686468,0.0743252955,0.2207657751,0.7850073919,2.8308177961,8.7907129924,20.4154968456,32.0045363141,32.1143814938],[0.4558154851,0.448392464,0.4704817489,0.5189362984,0.5892577888,0.6756621099,0.7741367739,0.888131018,1.0339420903,1.2434727,1.5636557724,2.0466147293,2.7092560248,3.4370774393,3.8897263453,3.6452968121,2.6721351211,1.5025975642,0.6699360219,0.259208039,0.1000450336,0.0455280146,0.0287892934,0.0287194451,0.0479464567,0.1302173745,0.5108525356,2.3838831262,10.4283206105,33.6403622582,65.6888257191,69.0616484544],[0.0909005037,0.0971683018,0.1568382997,0.3418566666,0.8457666635,1.9591131635,3.6046008398,4.776356786,4.5062458043,3.252866647,2.0466147293,1.3023416825,0.9484418182,0.8420124309,0.8981580243,1.0558849283,1.2003881028,1.1547676482,0.8576505898,0.4844106722,0.2245798186,0.1000450336,0.0525480315,0.0398153587,0.0503162579,0.1109482164,0.3954395908,1.8819063642,9.1226607007,33.5541250997,72.5915491901,78.8692498253],[0.0279614754,0.0317950938,0.0706034439,0.2556163558,1.1365753806,4.5120944046,12.0875583849,18.2892130573,15.0268103296,7.4167684073,2.7092560248,0.9484418182,0.4047560939,0.2478415586,0.2285683249,0.2957614324,0.4563024324,0.6851558852,0.8349779,0.7430750013,0.4844106722,0.259208039,0.1383614683,0.092063767,0.0921328361,0.1527986608,0.4087170759,1.513271005,6.0552148259,19.6855214553,40.2867404948,44.1048373093],[0.0173771962,0.0203170831,0.0518199063,0.2347362036,1.3636918768,7.0125715694,22.8937015688,38.0284504143,30.1019659134,12.5155688312,3.4370774393,0.8420124309,0.2478415586,0.1098729888,0.081613672,0.0987761827,0.1688143073,0.3299386222,0.5936242759,0.8349779,0.8576505898,0.6699360219,0.4541305896,0.320168771,0.2795760435,0.3394039541,0.584730989,1.3150865231,3.2654430339,7.2701901065,11.9604379686,12.8053686796],[0.0244662406,0.0283214978,0.0675484748,0.2764548658,1.4483020271,6.9191714666,22.0621255106,37.6804306503,31.6732345897,13.9498474589,3.8897263453,0.8981580243,0.2285683249,0.081613672,0.0474817953,0.0465833405,0.0714220993,0.1462620012,0.3299386222,0.6851558852,1.1547676482,1.5025975642,1.5502335693,1.379087969,1.1794551377,1.0698835679,1.0920648836,1.2617738187,1.5789578577,1.9840027574,2.310871109,2.3572695343],[0.0732954165,0.0813432335,0.1510928216,0.4167682339,1.4026912178,4.5564770047,11.3881697907,18.3751604189,17.4618581813,9.8437567391,3.6452968121,1.0558849283,0.2957614324,0.0987761827,0.0465833405,0.0343326641,0.0403601609,0.0714220993,0.1688143073,0.4563024324,1.2003881028,2.6721351211,4.5630359866,5.7108347647,5.2775035316,3.7950104067,2.3086703125,1.3111870579,0.7666226939,0.5018806994,0.3910249163,0.3745386673],[0.3745386673,0.3910249163,0.5018806994,0.7666226939,1.3111870579,2.3086703125,3.7950104067,5.2775035316,5.7108347647,4.5630359866,2.6721351211,1.2003881028,0.4563024324,0.1688143073,0.0714220993,0.0403601609,0.0343326641,0.0465833405,0.0987761827,0.2957614324,1.0558849283,3.6452968121,9.8437567391,17.4618581813,18.3751604189,11.3881697907,4.5564770047,1.4026912178,0.4167682339,0.1510928216,0.0813432335,0.0732954165],[2.3572695343,2.310871109,1.9840027574,1.5789578577,1.2617738187,1.0920648836,1.0698835679,1.1794551377,1.379087969,1.5502335693,1.5025975642,1.1547676482,0.6851558852,0.3299386222,0.1462620012,0.0714220993,0.0465833405,0.0474817953,0.081613672,0.2285683249,0.8981580243,3.8897263453,13.9498474589,31.6732345897,37.6804306503,22.0621255106,6.9191714666,1.4483020271,0.2764548658,0.0675484748,0.0283214978,0.0244662406],[12.8053686796,11.9604379686,7.2701901065,3.2654430339,1.3150865231,0.584730989,0.3394039541,0.2795760435,0.320168771,0.4541305896,0.6699360219,0.8576505898,0.8349779,0.5936242759,0.3299386222,0.1688143073,0.0987761827,0.081613672,0.1098729888,0.2478415586,0.8420124309,3.4370774393,12.5155688312,30.1019659134,38.0284504143,22.8937015688,7.0125715694,1.3636918768,0.2347362036,0.0518199063,0.0203170831,0.0173771962],[44.1048373093,40.2867404948,19.6855214553,6.0552148259,1.513271005,0.4087170759,0.1527986608,0.0921328361,0.092063767,0.1383614683,0.259208039,0.4844106722,0.7430750013,0.8349779,0.6851558852,0.4563024324,0.2957614324,0.2285683249,0.2478415586,0.4047560939,0.9484418182,2.7092560248,7.4167684073,15.0268103296,18.2892130573,12.0875583849,4.5120944046,1.1365753806,0.2556163558,0.0706034439,0.0317950938,0.0279614754],[78.8692498253,72.5915491901,33.5541250997,9.1226607007,1.8819063642,0.3954395908,0.1109482164,0.0503162579,0.0398153587,0.0525480315,0.1000450336,0.2245798186,0.4844106722,0.8576505898,1.1547676482,1.2003881028,1.0558849283,0.8981580243,0.8420124309,0.9484418182,1.3023416825,2.0466147293,3.252866647,4.5062458043,4.776356786,3.6046008398,1.9591131635,0.8457666635,0.3418566666,0.1568382997,0.0971683018,0.0909005037],[69.0616484544,65.6888257191,33.6403622582,10.4283206105,2.3838831262,0.5108525356,0.1302173745,0.0479464567,0.0287194451,0.0287892934,0.0455280146,0.1000450336,0.259208039,0.6699360219,1.5025975642,2.6721351211,3.6452968121,3.8897263453,3.4370774393,2.7092560248,2.0466147293,1.5636557724,1.2434727,1.0339420903,0.888131018,0.7741367739,0.6756621099,0.5892577888,0.5189362984,0.4704817489,0.448392464,0.4558154851],[32.1143814938,32.0045363141,20.4154968456,8.7907129924,2.8308177961,0.7850073919,0.2207657751,0.0743252955,0.0346686468,0.0248827459,0.0287892934,0.0525480315,0.1383614683,0.4541305896,1.5502335693,4.5630359866,9.8437567391,13.9498474589,12.5155688312,7.4167684073,3.252866647,1.2434727,0.4970168449,0.2450746637,0.1675780579,0.1664751533,0.2328431722,0.4145653989,0.8109686372,1.4836116299,2.2070249521,2.4442554446],[9.5707378663,9.9808612334,8.3632480243,5.5418848292,2.8947621647,1.2233426308,0.4480654492,0.1596291198,0.064396002,0.0346686468,0.0287194451,0.0398153587,0.092063767,0.320168771,1.379087969,5.7108347647,17.4618581813,31.6732345897,30.1019659134,15.0268103296,4.5062458043,1.0339420903,0.2450746637,0.0805549154,0.0459378643,0.0504037632,0.1021440115,0.3204514452,1.1852207085,3.8042453757,8.087392396,9.5870826225],[2.3278684897,2.5009721674,2.7093527956,2.7539989049,2.3949347697,1.652268403,0.884562416,0.3882073168,0.1596291198,0.0743252955,0.0479464567,0.0503162579,0.0921328361,0.2795760435,1.1794551377,5.2775035316,18.3751604189,37.6804306503,38.0284504143,18.2892130573,4.776356786,0.888131018,0.1675780579,0.0459378643,0.0242291319,0.0281860545,0.0693684019,0.2920243658,1.5032343702,6.4608181497,16.5252389646,20.2592881917],[0.5855861961,0.6319110999,0.8235645517,1.1708513283,1.5719237414,1.7317056013,1.431537925,0.884562416,0.4480654492,0.2207657751,0.1302173745,0.1109482164,0.1527986608,0.3394039541,1.0698835679,3.7950104067,11.3881697907,22.0621255106,22.8937015688,12.0875583849,3.6046008398,0.7741367739,0.1664751533,0.0504037632,0.0281860545,0.03334545,0.0805824499,0.3254064461,1.5918691847,6.5298908808,16.1846452402,19.6491857008],[0.1829331153,0.1928322272,0.2730814355,0.4700730524,0.8466075273,1.3619266985,1.7317056013,1.652268403,1.2233426308,0.7850073919,0.5108525356,0.3954395908,0.4087170759,0.584730989,1.0920648836,2.3086703125,4.5564770047,6.9191714666,7.0125715694,4.5120944046,1.9591131635,0.6756621099,0.2328431722,0.1021440115,0.0693684019,0.0805824499,0.1564231563,0.439267177,1.4135311346,3.9877051833,7.7643076023,8.9498379311],[0.0785167596,0.0790548508,0.1100645158,0.197457007,0.4072748718,0.8466075273,1.5719237414,2.3949347697,2.8947621647,2.8308177961,2.3838831262,1.8819063642,1.513271005,1.3150865231,1.2617738187,1.3111870579,1.4026912178,1.4483020271,1.3636918768,1.1365753806,0.8457666635,0.5892577888,0.4145653989,0.3204514452,0.2920243658,0.3254064461,0.439267177,0.6794856224,1.1003843879,1.6807463915,2.2051342231,2.3402966844],[0.0470981408,0.0448156891,0.0571621948,0.0953607345,0.197457007,0.4700730524,1.1708513283,2.7539989049,5.5418848292,8.7907129924,10.4283206105,9.1226607007,6.0552148259,3.2654430339,1.5789578577,0.7666226939,0.4167682339,0.2764548658,0.2347362036,0.2556163558,0.3418566666,0.5189362984,0.8109686372,1.1852207085,1.5032343702,1.5918691847,1.4135311346,1.1003843879,0.8079362243,0.6084941491,0.5066060502,0.4892311287],[0.0377066664,0.034055255,0.0388286542,0.0571621948,0.1100645158,0.2730814355,0.8235645517,2.7093527956,8.3632480243,20.4154968456,33.6403622582,33.5541250997,19.6855214553,7.2701901065,1.9840027574,0.5018806994,0.1510928216,0.0675484748,0.0518199063,0.0706034439,0.1568382997,0.4704817489,1.4836116299,3.8042453757,6.4608181497,6.5298908808,3.9877051833,1.6807463915,0.6084941491,0.2435259606,0.1350005257,0.1198500906],[0.0374154491,0.0326693429,0.034055255,0.0448156891,0.0790548508,0.1928322272,0.6319110999,2.5009721674,9.9808612334,32.0045363141,65.6888257191,72.5915491901,40.2867404948,11.9604379686,2.310871109,0.3910249163,0.0813432335,0.0283214978,0.0203170831,0.0317950938,0.0971683018,0.448392464,2.2070249521,8.087392396,16.5252389646,16.1846452402,7.7643076023,2.2051342231,0.5066060502,0.1350005257,0.0576120408,0.0484534083],[0.0431122602,0.0374154491,0.0377066664,0.0470981408,0.0785167596,0.1829331153,0.5855861961,2.3278684897,9.5707378663,32.1143814938,69.0616484544,78.8692498253,44.1048373093,12.8053686796,2.3572695343,0.3745386673,0.0732954165,0.0244662406,0.0173771962,0.0279614754,0.0909005037,0.4558154851,2.4442554446,9.5870826225,20.2592881917,19.6491857008,8.9498379311,2.3402966844,0.4892311287,0.1198500906,0.0484534083,0.0402931964]],[[1.0,0.0,0.0,0.0,0.0,0.0,0.0,0.0,0.0,0.0,0.0,0.0,0.0,0.0,0.0,0.0,0.0,0.0,0.0,0.0,0.0,0.0,0.0,0.0,0.0,0.0,0.0,0.0,0.0,0.0,0.0,0.0],[1.0,0.0,0.0,0.0,0.0,0.0,0.0,0.0,0.0,0.0,0.0,0.0,0.0,0.0,0.0,0.0,0.0,0.0,0.0,0.0,0.0,0.0,0.0,0.0,0.0,0.0,0.0,0.0,0.0,0.0,0.0,0.0],[1.0,0.0,0.0,0.0,0.0,0.0,0.0,0.0,0.0,0.0,0.0,0.0,0.0,0.0,0.0,0.0,0.0,0.0,0.0,0.0,0.0,0.0,0.0,0.0,0.0,0.0,0.0,0.0,0.0,0.0,0.0,0.0],[1.0,0.0,0.0,0.0,0.0,0.0,0.0,0.0,0.0,0.0,0.0,0.0,0.0,0.0,0.0,0.0,0.0,0.0,0.0,0.0,0.0,0.0,0.0,0.0,0.0,0.0,0.0,0.0,0.0,0.0,0.0,0.0],[1.0,0.0,0.0,0.0,0.0,0.0,0.0,0.0,0.0,0.0,0.0,0.0,0.0,0.0,0.0,0.0,0.0,0.0,0.0,0.0,0.0,0.0,0.0,0.0,0.0,0.0,0.0,0.0,0.0,0.0,0.0,0.0],[1.0,0.0,0.0,0.0,0.0,0.0,0.0,0.0,0.0,0.0,0.0,0.0,0.0,0.0,0.0,0.0,0.0,0.0,0.0,0.0,0.0,0.0,0.0,0.0,0.0,0.0,0.0,0.0,0.0,0.0,0.0,0.0],[1.0,0.0,0.0,0.0,0.0,0.0,0.0,0.0,0.0,0.0,0.0,0.0,0.0,0.0,0.0,0.0,0.0,0.0,0.0,0.0,0.0,0.0,0.0,0.0,0.0,0.0,0.0,0.0,0.0,0.0,0.0,0.0],[1.0,0.0,0.0,0.0,0.0,0.0,0.0,0.0,0.0,0.0,0.0,0.0,0.0,0.0,0.0,0.0,0.0,0.0,0.0,0.0,0.0,0.0,0.0,0.0,0.0,0.0,0.0,0.0,0.0,0.0,0.0,0.0],[1.0,0.0,0.0,0.0,0.0,0.0,0.0,0.0,0.0,0.0,0.0,0.0,0.0,0.0,0.0,0.0,0.0,0.0,0.0,0.0,0.0,0.0,0.0,0.0,0.0,0.0,0.0,0.0,0.0,0.0,0.0,0.0],[1.0,0.0,0.0,0.0,0.0,0.0,0.0,0.0,0.0,0.0,0.0,0.0,0.0,0.0,0.0,0.0,0.0,0.0,0.0,0.0,0.0,0.0,0.0,0.0,0.0,0.0,0.0,0.0,0.0,0.0,0.0,0.0],[1.0,0.0,0.0,0.0,0.0,0.0,0.0,0.0,0.0,0.0,0.0,0.0,0.0,0.0,0.0,0.0,0.0,0.0,0.0,0.0,0.0,0.0,0.0,0.0,0.0,0.0,0.0,0.0,0.0,0.0,0.0,0.0],[1.0,0.0,0.0,0.0,0.0,0.0,0.0,0.0,0.0,0.0,0.0,0.0,0.0,0.0,0.0,0.0,0.0,0.0,0.0,0.0,0.0,0.0,0.0,0.0,0.0,0.0,0.0,0.0,0.0,0.0,0.0,0.0],[1.0,0.0,0.0,0.0,0.0,0.0,0.0,0.0,0.0,0.0,0.0,0.0,0.0,0.0,0.0,0.0,0.0,0.0,0.0,0.0,0.0,0.0,0.0,0.0,0.0,0.0,0.0,0.0,0.0,0.0,0.0,0.0],[1.0,0.0,0.0,0.0,0.0,0.0,0.0,0.0,0.0,0.0,0.0,0.0,0.0,0.0,0.0,0.0,0.0,0.0,0.0,0.0,0.0,0.0,0.0,0.0,0.0,0.0,0.0,0.0,0.0,0.0,0.0,0.0],[1.0,0.0,0.0,0.0,0.0,0.0,0.0,0.0,0.0,0.0,0.0,0.0,0.0,0.0,0.0,0.0,0.0,0.0,0.0,0.0,0.0,0.0,0.0,0.0,0.0,0.0,0.0,0.0,0.0,0.0,0.0,0.0],[1.0,0.0,0.0,0.0,0.0,0.0,0.0,0.0,0.0,0.0,0.0,0.0,0.0,0.0,0.0,0.0,0.0,0.0,0.0,0.0,0.0,0.0,0.0,0.0,0.0,0.0,0.0,0.0,0.0,0.0,0.0,0.0],[1.0,0.0,0.0,0.0,0.0,0.0,0.0,0.0,0.0,0.0,0.0,0.0,0.0,0.0,0.0,0.0,0.0,0.0,0.0,0.0,0.0,0.0,0.0,0.0,0.0,0.0,0.0,0.0,0.0,0.0,0.0,0.0],[1.0,0.0,0.0,0.0,0.0,0.0,0.0,0.0,0.0,0.0,0.0,0.0,0.0,0.0,0.0,0.0,0.0,0.0,0.0,0.0,0.0,0.0,0.0,0.0,0.0,0.0,0.0,0.0,0.0,0.0,0.0,0.0],[1.0,0.0,0.0,0.0,0.0,0.0,0.0,0.0,0.0,0.0,0.0,0.0,0.0,0.0,0.0,0.0,0.0,0.0,0.0,0.0,0.0,0.0,0.0,0.0,0.0,0.0,0.0,0.0,0.0,0.0,0.0,0.0],[1.0,0.0,0.0,0.0,0.0,0.0,0.0,0.0,0.0,0.0,0.0,0.0,0.0,0.0,0.0,0.0,0.0,0.0,0.0,0.0,0.0,0.0,0.0,0.0,0.0,0.0,0.0,0.0,0.0,0.0,0.0,0.0],[1.0,0.0,0.0,0.0,0.0,0.0,0.0,0.0,0.0,0.0,0.0,0.0,0.0,0.0,0.0,0.0,0.0,0.0,0.0,0.0,0.0,0.0,0.0,0.0,0.0,0.0,0.0,0.0,0.0,0.0,0.0,0.0],[1.0,0.0,0.0,0.0,0.0,0.0,0.0,0.0,0.0,0.0,0.0,0.0,0.0,0.0,0.0,0.0,0.0,0.0,0.0,0.0,0.0,0.0,0.0,0.0,0.0,0.0,0.0,0.0,0.0,0.0,0.0,0.0],[1.0,0.0,0.0,0.0,0.0,0.0,0.0,0.0,0.0,0.0,0.0,0.0,0.0,0.0,0.0,0.0,0.0,0.0,0.0,0.0,0.0,0.0,0.0,0.0,0.0,0.0,0.0,0.0,0.0,0.0,0.0,0.0],[1.0,0.0,0.0,0.0,0.0,0.0,0.0,0.0,0.0,0.0,0.0,0.0,0.0,0.0,0.0,0.0,0.0,0.0,0.0,0.0,0.0,0.0,0.0,0.0,0.0,0.0,0.0,0.0,0.0,0.0,0.0,0.0],[1.0,0.0,0.0,0.0,0.0,0.0,0.0,0.0,0.0,0.0,0.0,0.0,0.0,0.0,0.0,0.0,0.0,0.0,0.0,0.0,0.0,0.0,0.0,0.0,0.0,0.0,0.0,0.0,0.0,0.0,0.0,0.0],[1.0,0.0,0.0,0.0,0.0,0.0,0.0,0.0,0.0,0.0,0.0,0.0,0.0,0.0,0.0,0.0,0.0,0.0,0.0,0.0,0.0,0.0,0.0,0.0,0.0,0.0,0.0,0.0,0.0,0.0,0.0,0.0],[1.0,0.0,0.0,0.0,0.0,0.0,0.0,0.0,0.0,0.0,0.0,0.0,0.0,0.0,0.0,0.0,0.0,0.0,0.0,0.0,0.0,0.0,0.0,0.0,0.0,0.0,0.0,0.0,0.0,0.0,0.0,0.0],[1.0,0.0,0.0,0.0,0.0,0.0,0.0,0.0,0.0,0.0,0.0,0.0,0.0,0.0,0.0,0.0,0.0,0.0,0.0,0.0,0.0,0.0,0.0,0.0,0.0,0.0,0.0,0.0,0.0,0.0,0.0,0.0],[1.0,0.0,0.0,0.0,0.0,0.0,0.0,0.0,0.0,0.0,0.0,0.0,0.0,0.0,0.0,0.0,0.0,0.0,0.0,0.0,0.0,0.0,0.0,0.0,0.0,0.0,0.0,0.0,0.0,0.0,0.0,0.0],[1.0,0.0,0.0,0.0,0.0,0.0,0.0,0.0,0.0,0.0,0.0,0.0,0.0,0.0,0.0,0.0,0.0,0.0,0.0,0.0,0.0,0.0,0.0,0.0,0.0,0.0,0.0,0.0,0.0,0.0,0.0,0.0],[1.0,0.0,0.0,0.0,0.0,0.0,0.0,0.0,0.0,0.0,0.0,0.0,0.0,0.0,0.0,0.0,0.0,0.0,0.0,0.0,0.0,0.0,0.0,0.0,0.0,0.0,0.0,0.0,0.0,0.0,0.0,0.0],[1.0,0.0,0.0,0.0,0.0,0.0,0.0,0.0,0.0,0.0,0.0,0.0,0.0,0.0,0.0,0.0,0.0,0.0,0.0,0.0,0.0,0.0,0.0,0.0,0.0,0.0,0.0,0.0,0.0,0.0,0.0,0.0]],[[0.0,0.0,0.0,0.0,0.0,0.0,0.0,0.0,0.0,0.0,0.0,0.0,0.0,0.0,0.0,0.0,0.0,0.0,0.0,0.0,0.0,0.0,0.0,0.0,0.0,0.0,0.0,0.0,0.0,0.0,0.0,1.0],[0.0,0.0,0.0,0.0,0.0,0.0,0.0,0.0,0.0,0.0,0.0,0.0,0.0,0.0,0.0,0.0,0.0,0.0,0.0,0.0,0.0,0.0,0.0,0.0,0.0,0.0,0.0,0.0,0.0,0.0,0.0,1.0],[0.0,0.0,0.0,0.0,0.0,0.0,0.0,0.0,0.0,0.0,0.0,0.0,0.0,0.0,0.0,0.0,0.0,0.0,0.0,0.0,0.0,0.0,0.0,0.0,0.0,0.0,0.0,0.0,0.0,0.0,0.0,1.0],[0.0,0.0,0.0,0.0,0.0,0.0,0.0,0.0,0.0,0.0,0.0,0.0,0.0,0.0,0.0,0.0,0.0,0.0,0.0,0.0,0.0,0.0,0.0,0.0,0.0,0.0,0.0,0.0,0.0,0.0,0.0,1.0],[0.0,0.0,0.0,0.0,0.0,0.0,0.0,0.0,0.0,0.0,0.0,0.0,0.0,0.0,0.0,0.0,0.0,0.0,0.0,0.0,0.0,0.0,0.0,0.0,0.0,0.0,0.0,0.0,0.0,0.0,0.0,1.0],[0.0,0.0,0.0,0.0,0.0,0.0,0.0,0.0,0.0,0.0,0.0,0.0,0.0,0.0,0.0,0.0,0.0,0.0,0.0,0.0,0.0,0.0,0.0,0.0,0.0,0.0,0.0,0.0,0.0,0.0,0.0,1.0],[0.0,0.0,0.0,0.0,0.0,0.0,0.0,0.0,0.0,0.0,0.0,0.0,0.0,0.0,0.0,0.0,0.0,0.0,0.0,0.0,0.0,0.0,0.0,0.0,0.0,0.0,0.0,0.0,0.0,0.0,0.0,1.0],[0.0,0.0,0.0,0.0,0.0,0.0,0.0,0.0,0.0,0.0,0.0,0.0,0.0,0.0,0.0,0.0,0.0,0.0,0.0,0.0,0.0,0.0,0.0,0.0,0.0,0.0,0.0,0.0,0.0,0.0,0.0,1.0],[0.0,0.0,0.0,0.0,0.0,0.0,0.0,0.0,0.0,0.0,0.0,0.0,0.0,0.0,0.0,0.0,0.0,0.0,0.0,0.0,0.0,0.0,0.0,0.0,0.0,0.0,0.0,0.0,0.0,0.0,0.0,1.0],[0.0,0.0,0.0,0.0,0.0,0.0,0.0,0.0,0.0,0.0,0.0,0.0,0.0,0.0,0.0,0.0,0.0,0.0,0.0,0.0,0.0,0.0,0.0,0.0,0.0,0.0,0.0,0.0,0.0,0.0,0.0,1.0],[0.0,0.0,0.0,0.0,0.0,0.0,0.0,0.0,0.0,0.0,0.0,0.0,0.0,0.0,0.0,0.0,0.0,0.0,0.0,0.0,0.0,0.0,0.0,0.0,0.0,0.0,0.0,0.0,0.0,0.0,0.0,1.0],[0.0,0.0,0.0,0.0,0.0,0.0,0.0,0.0,0.0,0.0,0.0,0.0,0.0,0.0,0.0,0.0,0.0,0.0,0.0,0.0,0.0,0.0,0.0,0.0,0.0,0.0,0.0,0.0,0.0,0.0,0.0,1.0],[0.0,0.0,0.0,0.0,0.0,0.0,0.0,0.0,0.0,0.0,0.0,0.0,0.0,0.0,0.0,0.0,0.0,0.0,0.0,0.0,0.0,0.0,0.0,0.0,0.0,0.0,0.0,0.0,0.0,0.0,0.0,1.0],[0.0,0.0,0.0,0.0,0.0,0.0,0.0,0.0,0.0,0.0,0.0,0.0,0.0,0.0,0.0,0.0,0.0,0.0,0.0,0.0,0.0,0.0,0.0,0.0,0.0,0.0,0.0,0.0,0.0,0.0,0.0,1.0],[0.0,0.0,0.0,0.0,0.0,0.0,0.0,0.0,0.0,0.0,0.0,0.0,0.0,0.0,0.0,0.0,0.0,0.0,0.0,0.0,0.0,0.0,0.0,0.0,0.0,0.0,0.0,0.0,0.0,0.0,0.0,1.0],[0.0,0.0,0.0,0.0,0.0,0.0,0.0,0.0,0.0,0.0,0.0,0.0,0.0,0.0,0.0,0.0,0.0,0.0,0.0,0.0,0.0,0.0,0.0,0.0,0.0,0.0,0.0,0.0,0.0,0.0,0.0,1.0],[0.0,0.0,0.0,0.0,0.0,0.0,0.0,0.0,0.0,0.0,0.0,0.0,0.0,0.0,0.0,0.0,0.0,0.0,0.0,0.0,0.0,0.0,0.0,0.0,0.0,0.0,0.0,0.0,0.0,0.0,0.0,1.0],[0.0,0.0,0.0,0.0,0.0,0.0,0.0,0.0,0.0,0.0,0.0,0.0,0.0,0.0,0.0,0.0,0.0,0.0,0.0,0.0,0.0,0.0,0.0,0.0,0.0,0.0,0.0,0.0,0.0,0.0,0.0,1.0],[0.0,0.0,0.0,0.0,0.0,0.0,0.0,0.0,0.0,0.0,0.0,0.0,0.0,0.0,0.0,0.0,0.0,0.0,0.0,0.0,0.0,0.0,0.0,0.0,0.0,0.0,0.0,0.0,0.0,0.0,0.0,1.0],[0.0,0.0,0.0,0.0,0.0,0.0,0.0,0.0,0.0,0.0,0.0,0.0,0.0,0.0,0.0,0.0,0.0,0.0,0.0,0.0,0.0,0.0,0.0,0.0,0.0,0.0,0.0,0.0,0.0,0.0,0.0,1.0],[0.0,0.0,0.0,0.0,0.0,0.0,0.0,0.0,0.0,0.0,0.0,0.0,0.0,0.0,0.0,0.0,0.0,0.0,0.0,0.0,0.0,0.0,0.0,0.0,0.0,0.0,0.0,0.0,0.0,0.0,0.0,1.0],[0.0,0.0,0.0,0.0,0.0,0.0,0.0,0.0,0.0,0.0,0.0,0.0,0.0,0.0,0.0,0.0,0.0,0.0,0.0,0.0,0.0,0.0,0.0,0.0,0.0,0.0,0.0,0.0,0.0,0.0,0.0,1.0],[0.0,0.0,0.0,0.0,0.0,0.0,0.0,0.0,0.0,0.0,0.0,0.0,0.0,0.0,0.0,0.0,0.0,0.0,0.0,0.0,0.0,0.0,0.0,0.0,0.0,0.0,0.0,0.0,0.0,0.0,0.0,1.0],[0.0,0.0,0.0,0.0,0.0,0.0,0.0,0.0,0.0,0.0,0.0,0.0,0.0,0.0,0.0,0.0,0.0,0.0,0.0,0.0,0.0,0.0,0.0,0.0,0.0,0.0,0.0,0.0,0.0,0.0,0.0,1.0],[0.0,0.0,0.0,0.0,0.0,0.0,0.0,0.0,0.0,0.0,0.0,0.0,0.0,0.0,0.0,0.0,0.0,0.0,0.0,0.0,0.0,0.0,0.0,0.0,0.0,0.0,0.0,0.0,0.0,0.0,0.0,1.0],[0.0,0.0,0.0,0.0,0.0,0.0,0.0,0.0,0.0,0.0,0.0,0.0,0.0,0.0,0.0,0.0,0.0,0.0,0.0,0.0,0.0,0.0,0.0,0.0,0.0,0.0,0.0,0.0,0.0,0.0,0.0,1.0],[0.0,0.0,0.0,0.0,0.0,0.0,0.0,0.0,0.0,0.0,0.0,0.0,0.0,0.0,0.0,0.0,0.0,0.0,0.0,0.0,0.0,0.0,0.0,0.0,0.0,0.0,0.0,0.0,0.0,0.0,0.0,1.0],[0.0,0.0,0.0,0.0,0.0,0.0,0.0,0.0,0.0,0.0,0.0,0.0,0.0,0.0,0.0,0.0,0.0,0.0,0.0,0.0,0.0,0.0,0.0,0.0,0.0,0.0,0.0,0.0,0.0,0.0,0.0,1.0],[0.0,0.0,0.0,0.0,0.0,0.0,0.0,0.0,0.0,0.0,0.0,0.0,0.0,0.0,0.0,0.0,0.0,0.0,0.0,0.0,0.0,0.0,0.0,0.0,0.0,0.0,0.0,0.0,0.0,0.0,0.0,1.0],[0.0,0.0,0.0,0.0,0.0,0.0,0.0,0.0,0.0,0.0,0.0,0.0,0.0,0.0,0.0,0.0,0.0,0.0,0.0,0.0,0.0,0.0,0.0,0.0,0.0,0.0,0.0,0.0,0.0,0.0,0.0,1.0],[0.0,0.0,0.0,0.0,0.0,0.0,0.0,0.0,0.0,0.0,0.0,0.0,0.0,0.0,0.0,0.0,0.0,0.0,0.0,0.0,0.0,0.0,0.0,0.0,0.0,0.0,0.0,0.0,0.0,0.0,0.0,1.0],[0.0,0.0,0.0,0.0,0.0,0.0,0.0,0.0,0.0,0.0,0.0,0.0,0.0,0.0,0.0,0.0,0.0,0.0,0.0,0.0,0.0,0.0,0.0,0.0,0.0,0.0,0.0,0.0,0.0,0.0,0.0,1.0]]]}'"
      ]
     },
     "execution_count": 91,
     "metadata": {},
     "output_type": "execute_result"
    }
   ],
   "source": [
    "data_json"
   ]
  },
  {
   "cell_type": "code",
   "execution_count": null,
   "metadata": {},
   "outputs": [],
   "source": []
  }
 ],
 "metadata": {
  "kernelspec": {
   "display_name": "Python 3 (ipykernel)",
   "language": "python",
   "name": "python3"
  },
  "language_info": {
   "codemirror_mode": {
    "name": "ipython",
    "version": 3
   },
   "file_extension": ".py",
   "mimetype": "text/x-python",
   "name": "python",
   "nbconvert_exporter": "python",
   "pygments_lexer": "ipython3",
   "version": "3.7.11"
  }
 },
 "nbformat": 4,
 "nbformat_minor": 4
}
