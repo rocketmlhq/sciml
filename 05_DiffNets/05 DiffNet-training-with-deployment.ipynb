{
 "cells": [
  {
   "cell_type": "markdown",
   "metadata": {},
   "source": [
    "# Convolutions based FE loss function implementation\n",
    "\n",
    "## 1. Introduction\n",
    "\n",
    "In this workbook, we cover the usage of DiffNets to solve Poisson's Equation. The Poisson equation for the scalar field $u({\\bf x})$ can be written as\n",
    "\n",
    "$$\n",
    "\\begin{align}\n",
    "-\\nabla \\cdot (\\nu({\\bf x}) \\nabla u({\\bf x})) &= 0 \\ \\textrm{ in } D\\\\\n",
    "u &= 0 \\ \\textrm{ on } \\partial D\n",
    "\\end{align}\n",
    "$$\n",
    "\n",
    "where, the domain $D = [0,1]^2$ is the unit square; ${\\bf x} = (x,y)$ represents the independent variables and $\\nu({\\bf x})$ represents the *diffusivity* (or *permeability*) of the medium. In this example, $\\nu = \\nu({\\bf x}, \\omega)$ where $\\omega$ is a parameter that can be randomly chosen from a parameter space $\\Omega$. Thus, by varying $\\omega$, we can obtain different $\\nu$ fields, each of which then renders a different solution to the above Poisson's equation. This means, every time a different $\\omega$ is chosen, the solution needs to be obtained by solving the equation. But using DiffNet, we can train a model offline one time and learn the correct mapping so that we do not need to solve the equation again as long as $\\omega$ is chosen from the same parameter space $\\Omega$. Therefore, we wish to train a DiffNet $G_{nn}$ such that it is able to construct the correct mapping between the input space of $S^d$ and the space of the solutions $U^d$.\n",
    "\n",
    "For the purpose of this tutorial, it suffices to assume that the logarithm of $\\nu({\\bf x}; \\omega)$ can be expressed in summation form as follows:\n",
    "$$\n",
    "\\begin{align}\n",
    "\\ln(\\nu({\\bf x}; \\omega)) &= \\sum_{i=1}^{m}\\omega_i \\xi_i(x)\\eta_i(y)\\\\\n",
    "\\text{or},\\  \\nu({\\bf x}; \\omega) &= \\exp \\Big(\\sum_{i=1}^{m}\\omega_i \\xi_i(x)\\eta_i(y)\\Big)\n",
    "\\end{align}\n",
    "$$\n",
    "where $\\xi$ and $\\eta$ are known functions of $x$ and $y$ respectively. See Sec. 2.2.1 of [this paper](https://arxiv.org/abs/2104.14538) for more details. We choose $m=6$ for this example and assume that each $\\omega_i$ is chosen from $[-3,3]$ interval randomly. Thus, $\\omega\\in\\Omega = [-3,3]^6$.\n",
    "\n",
    "## 2. DiffNet\n",
    "A trained DiffNet can take a full field of diffusivity (or forcing) and map it to the full field solution. For example, in the below schematic, we see a trained DiffNet $G_{nn}$ takes a matrix $S^d$ (numerical version of $\\nu({\\bf x})$) as input and map it to another matrix $U^d$ (approximated version of $u({\\bf x}))$:\n",
    "![](https://raw.githubusercontent.com/rocketmlhq/sciml/main/05_DiffNets/xdiffnet-scheme.png)\n",
    "Both $S^d$ and $U^d$ are matrices (or images) of the same size ($6\\times 6$ or, $5\\times 5$ \"finite elements\"). The neural network $G_{nn}$ can be thought of as a having a UNet architecture as below:\n",
    "![](https://raw.githubusercontent.com/rocketmlhq/sciml/main/05_DiffNets/UNetArch.png)\n",
    "\n",
    "Suppose the network parameters are given by $\\theta$. Then, given such discretized representations of $S^d$ and $U^d$, DiffNet solves the Poisson's equation by minimizing the integral loss function given by:\n",
    "$$\n",
    "J(\\theta) = \\frac{1}{N_s}\\sum_{j=1}^{N_s} \\int \\nu_j({\\bf x}; \\omega)|\\nabla u_j({\\bf x}, \\theta)|^2 d{\\bf x},\n",
    "$$\n",
    "where $u_j = G_{nn}(\\nu_j, \\theta)$, i.e., the solution corresponding to the $j^{th}$ sample of diffusivity.\n",
    "\n",
    "The solution is then given by:\n",
    "$$\n",
    "\\begin{align}\n",
    "\\theta^* &= \\arg\\min J(\\theta),\\\\\n",
    "u &= G_{nn}(\\nu, \\theta^*).\n",
    "\\end{align}\n",
    "$$\n",
    "\n",
    "We minimize the loss function $J(\\theta)$ using Adam optimizer.\n",
    "\n",
    "The DiffNet library provides in-built capability to approximate full field solutions and Lagrangian basis functions as convolution kernels along with evaluations on Gauss quadrature points. To use these features for solving the Poisson's equation, we need to implement two classes:\n",
    "1. A dataset class `KLSum` (derived from `torch.utils.Dataset`): to implement the diffusivity, forcing and the boundary conditions.\n",
    "2. An equation class `Poisson` (derived from `DiffNet.DiffNetFEM`): to implement the loss function, training step, optimizer configuration, query step etc.\n",
    "\n",
    "## 3. Imports\n",
    "We begin with few imports"
   ]
  },
  {
   "cell_type": "code",
   "execution_count": 1,
   "metadata": {},
   "outputs": [
    {
     "name": "stderr",
     "output_type": "stream",
     "text": [
      "Global seed set to 42\n"
     ]
    }
   ],
   "source": [
    "import os\n",
    "import sys\n",
    "import json\n",
    "import torch\n",
    "import numpy as np\n",
    "\n",
    "import matplotlib\n",
    "# matplotlib.use(\"pgf\")\n",
    "matplotlib.rcParams.update({\n",
    "    # 'font.family': 'serif',\n",
    "    'font.size':12,\n",
    "})\n",
    "from matplotlib import pyplot as plt\n",
    "\n",
    "import pytorch_lightning as pl\n",
    "from pytorch_lightning import Trainer, seed_everything\n",
    "from pytorch_lightning.loggers import TensorBoardLogger\n",
    "seed_everything(42)\n",
    "\n",
    "import DiffNet\n",
    "from DiffNet.networks.wgan_old import GoodGenerator\n",
    "from DiffNet.networks.autoencoders import AE\n",
    "from DiffNet.DiffNetFEM import DiffNet2DFEM\n",
    "from DiffNet.datasets.parametric.klsum import KLSumStochastic\n",
    "from DiffNet.datasets.single_instances.klsum import Dataset\n",
    "\n",
    "# Suppress warnings\n",
    "import warnings\n",
    "warnings.filterwarnings(\"ignore\")"
   ]
  },
  {
   "cell_type": "markdown",
   "metadata": {},
   "source": [
    "## 4. Dataset class\n",
    "Suppose we discretize the 2D domain into regularly spaced $N\\times N$ grid points (i.e., $(N-1)\\times(N-1)$ finite elements.\n",
    "\n",
    "The `KLSum` class holds the given \"input data\" of the equation, i.e., the diffusivity ($\\nu$) and the boundary conditions ($u_{\\partial D}$). The important thing to note here is that, since DiffNet is based on full-field calculations, all three of these data need to be stored in tensor format. Specifically, since the current equation is defined on a 2D square domain, we store each of $\\nu$, $f$ and $u_{\\partial D}$ in 2D matrices of size $N\\times N$."
   ]
  },
  {
   "cell_type": "code",
   "execution_count": 2,
   "metadata": {},
   "outputs": [],
   "source": [
    "from tqdm import tqdm\n",
    "from torch.utils import data\n",
    "from DiffNet.gen_input_calc import generate_diffusivity_tensor\n",
    "\n",
    "\n",
    "class KLSum(data.Dataset):\n",
    "    'PyTorch dataset for sampling coefficients'\n",
    "    def __init__(self, domain_size=64, kl_terms=6, filename='', coeff_array=[]):\n",
    "        \"\"\"\n",
    "        Initialization\n",
    "        \"\"\"\n",
    "        if filename != '':\n",
    "            self.coeffs = np.load(filename)\n",
    "        else:\n",
    "            if coeff_array != []:\n",
    "                self.coeffs = coeff_array\n",
    "            else:\n",
    "                raise ValueError(\"Either filename or an array must be provided\")\n",
    "        self.domain_size = domain_size\n",
    "        self.kl_terms = kl_terms\n",
    "        self.dataset = []\n",
    "        \n",
    "        print('loading dataset')\n",
    "        for coeff in tqdm(self.coeffs[:100]):\n",
    "            domain = generate_diffusivity_tensor(coeff, output_size=self.domain_size, n_sum_nu=kl_terms).squeeze()\n",
    "            # bc1 will be source, u will be set to 1 at these locations\n",
    "            bc1 = np.zeros_like(domain)\n",
    "            bc1[:,0] = 1\n",
    "\n",
    "            # bc2 will be sink, u will be set to 0 at these locations\n",
    "            bc2 = np.zeros_like(domain)\n",
    "            bc2[:,-1] = 1\n",
    "\n",
    "            self.dataset.append(np.array([domain,bc1,bc2]))\n",
    "        self.dataset = np.array(self.dataset)\n",
    "        self.n_samples = self.dataset.shape[0]\n",
    "\n",
    "    def __len__(self):\n",
    "        'Denotes the total number of samples'\n",
    "        return self.n_samples\n",
    "\n",
    "    def __getitem__(self, index):\n",
    "        'Generates one sample of data'\n",
    "        inputs = self.dataset[index]\n",
    "        forcing = np.zeros_like(self.dataset[index][0])\n",
    "        return torch.FloatTensor(inputs), torch.FloatTensor(forcing).unsqueeze(0)\n",
    "\n"
   ]
  },
  {
   "cell_type": "markdown",
   "metadata": {},
   "source": [
    "## 5. Training data\n",
    "As discussed above, the formula for calculating $\\nu$ for a particular $\\omega$ is known to us. So, to create the training dataset of multiple $\\nu$, we essentially need to create a training dataset of multiple $\\omega$ chosen from the 6-dimensional space $\\Omega$ and thereafter calculate $\\nu$ at each of those $\\omega$. Before defining the "
   ]
  },
  {
   "cell_type": "code",
   "execution_count": 3,
   "metadata": {},
   "outputs": [
    {
     "name": "stdout",
     "output_type": "stream",
     "text": [
      "--2021-11-15 03:59:35--  https://github.com/rocketmlhq/sciml/raw/main/05_DiffNets/sobol_6d.npy\n",
      "Resolving github.com (github.com)... 140.82.113.3\n",
      "Connecting to github.com (github.com)|140.82.113.3|:443... connected.\n",
      "HTTP request sent, awaiting response... 302 Found\n",
      "Location: https://raw.githubusercontent.com/rocketmlhq/sciml/main/05_DiffNets/sobol_6d.npy [following]\n",
      "--2021-11-15 03:59:35--  https://raw.githubusercontent.com/rocketmlhq/sciml/main/05_DiffNets/sobol_6d.npy\n",
      "Resolving raw.githubusercontent.com (raw.githubusercontent.com)... 185.199.108.133, 185.199.110.133, 185.199.111.133, ...\n",
      "Connecting to raw.githubusercontent.com (raw.githubusercontent.com)|185.199.108.133|:443... connected.\n",
      "HTTP request sent, awaiting response... 200 OK\n",
      "Length: 3145856 (3.0M) [application/octet-stream]\n",
      "Saving to: ‘sobol_6d.npy’\n",
      "\n",
      "sobol_6d.npy        100%[===================>]   3.00M  --.-KB/s    in 0.1s    \n",
      "\n",
      "2021-11-15 03:59:36 (25.3 MB/s) - ‘sobol_6d.npy’ saved [3145856/3145856]\n",
      "\n"
     ]
    }
   ],
   "source": [
    "!wget https://github.com/rocketmlhq/sciml/raw/main/05_DiffNets/sobol_6d.npy"
   ]
  },
  {
   "cell_type": "markdown",
   "metadata": {},
   "source": [
    "## 6. Equation class\n",
    "\n",
    "Now we need to define the equation class `Poisson` that inherits the `DiffNet.DiffNetFEM` class which in turn inherits the `LightningModule` class from `pytorch_lightning.core`. The main purpose of `Poisson` is to implement the training step and the loss function along with optimizer configurations (if necessary). Let us discuss them one by one:\n",
    "* `training_step`: this function will be called by `PytorchLightning` every training step with an input `batch`. This `batch` represents the data for a minibatch and is obtained by `PytorchLightning` by calling the `__getitem__` function in the `DataRectangle` class.\n",
    "* `loss(u, I, f)`: the loss function can be implemented in many ways, but essentially takes the data of the equation and calculates the loss value. In this implementation `loss` takes the currently predicted field `u` and the other inputs (BC, nu, f). Inside this function, we evaluate the integral $J(u) = \\frac{1}{N_s}\\sum_{i=1}^{N_s} \\int \\nu_i|\\nabla u_i|^2 d{\\bf x}$. This is an important step and is done as follows:\n",
    "    * Extract `nu` and `bc` from `imputs_tensor`\n",
    "    * Apply the boundary conditions on `u` using the boundary masks (i.e., `bc1` and `bc2` that contain zeros in the interior points, and ones on the boundary points.\n",
    "    * Now we need to evaluate the values in the integrand at the Gauss quadrature points. Given any field `g` on the grid points, we can evaluate `g` on **_all_** the Gauss quadrature points in $D$, by calling `g_GP = self.gauss_pt_evaluation(g)`. The derivatives of `g` can be evaluated on the Gauss points directly by `g_x_GP = self.gauss_pt_evaluation_der_x(g)` and `g_y_GP = self.gauss_pt_evaluation_der_y(g)` for the $x$ and $y$ derivative respectively.\n",
    "    * Once all the integration values are evaluated on the quadrature points, the next step is to simply write down the integration using the quadrature data, exactly as it appears in the loss formula.\n",
    "* Along with the above two functions, some other auxiliary functions can be added to this class as needed, e.g., `do_query`, `plot_contours`, `on_epoch_end` etc.\n",
    "* `on_epoch_end` is called by `PytorchLightning` at the end of each epoch during training. We can plot the current `u` vlaue at the end of each epoch by implementing this function accordingly."
   ]
  },
  {
   "cell_type": "code",
   "execution_count": 4,
   "metadata": {},
   "outputs": [],
   "source": [
    "class Poisson(DiffNet2DFEM):\n",
    "    \"\"\"docstring for Poisson\"\"\"\n",
    "    def __init__(self, network, dataset, **kwargs):\n",
    "        super(Poisson, self).__init__(network, dataset, **kwargs)\n",
    "\n",
    "    def loss(self, u, inputs_tensor, forcing_tensor):\n",
    "\n",
    "        f = forcing_tensor # renaming variable\n",
    "        \n",
    "        # extract diffusivity and boundary conditions here\n",
    "        nu = inputs_tensor[:,0:1,:,:]\n",
    "        bc1 = inputs_tensor[:,1:2,:,:]\n",
    "        bc2 = inputs_tensor[:,2:3,:,:]\n",
    "\n",
    "        # apply boundary conditions\n",
    "        u = torch.where(bc1>0.5,1.0+u*0.0,u)\n",
    "        u = torch.where(bc2>0.5,u*0.0,u)\n",
    "\n",
    "\n",
    "        nu_gp = self.gauss_pt_evaluation(nu)\n",
    "        f_gp = self.gauss_pt_evaluation(f)\n",
    "        u_gp = self.gauss_pt_evaluation(u)\n",
    "        u_x_gp = self.gauss_pt_evaluation_der_x(u)\n",
    "        u_y_gp = self.gauss_pt_evaluation_der_y(u)\n",
    "\n",
    "        transformation_jacobian = self.gpw.unsqueeze(-1).unsqueeze(-1).unsqueeze(0).type_as(nu_gp)\n",
    "        res_elmwise = transformation_jacobian * (nu_gp * (u_x_gp**2 + u_y_gp**2) - (u_gp * f_gp))\n",
    "        res_elmwise = torch.sum(res_elmwise, 1) \n",
    "\n",
    "        # transformation_jacobian = (0.5 * self.h)**2 * self.gpw.unsqueeze(-1).unsqueeze(-1).unsqueeze(0).type_as(nu_gp)\n",
    "        # res_elmwise = 0.5 * transformation_jacobian * (nu_gp * (u_x_gp**2 + u_y_gp**2) - (u_gp * f_gp))\n",
    "        # res_elmwise = torch.sum(res_elmwise, 1) \n",
    "\n",
    "        loss = torch.mean(res_elmwise)\n",
    "        return loss\n",
    "\n",
    "    def forward(self, batch):\n",
    "        inputs_tensor, forcing_tensor = batch\n",
    "        u = self.network(inputs_tensor[:,0:1,:,:])\n",
    "        return u, inputs_tensor, forcing_tensor\n",
    "\n",
    "    def training_step(self, batch, batch_idx):\n",
    "        u, inputs_tensor, forcing_tensor = self.forward(batch)\n",
    "        loss_val = self.loss(u, inputs_tensor, forcing_tensor).mean()\n",
    "        return {\"loss\": loss_val}\n",
    "\n",
    "    def training_step_end(self, training_step_outputs):\n",
    "        loss = training_step_outputs[\"loss\"]\n",
    "        self.log('PDE_loss', loss.item())\n",
    "        self.log('loss', loss.item())\n",
    "        return training_step_outputs\n",
    "\n",
    "    def configure_optimizers(self):\n",
    "        lr = self.learning_rate\n",
    "        # opts = [torch.optim.LBFGS(self.network.parameters(), lr=lr, max_iter=5)]\n",
    "        opts = [torch.optim.Adam(self.network.parameters(), lr=lr)]\n",
    "        # schd = []\n",
    "        schd = [torch.optim.lr_scheduler.MultiStepLR(opts[0], milestones=[10,15,30], gamma=0.1)]\n",
    "        return opts, schd\n",
    "    \n",
    "    def do_query(self, inputs, forcing):\n",
    "        u, inputs_tensor, forcing_tensor = self.forward((inputs.type_as(next(self.network.parameters())), \n",
    "                                                         forcing.type_as(next(self.network.parameters()))))\n",
    "        \n",
    "        f = forcing_tensor.squeeze().detach().cpu() # renaming variable\n",
    "        \n",
    "        # extract diffusivity and boundary conditions here\n",
    "        nu = inputs_tensor[:,0:1,:,:]\n",
    "        bc1 = inputs_tensor[:,1:2,:,:]\n",
    "        bc2 = inputs_tensor[:,2:3,:,:]        \n",
    "        # process diffusivity\n",
    "        k = nu.squeeze().detach().cpu()\n",
    "\n",
    "        # apply boundary conditions\n",
    "        u = u[:,0:1,:,:]\n",
    "        u = torch.where(bc1>0.5,1.0+u*0.0,u)\n",
    "        u = torch.where(bc2>0.5,u*0.0,u)\n",
    "        u = u.squeeze().detach().cpu()\n",
    "        \n",
    "        return u, k, f\n",
    "    \n",
    "    def plot_contours(self,k,u):\n",
    "        num_sample = k.shape[0]\n",
    "        plt_num_row = k.shape[0]\n",
    "        plt_num_col = 2\n",
    "        fig, axs = plt.subplots(plt_num_row, plt_num_col, figsize=(4*plt_num_col,2*plt_num_row),\n",
    "                            subplot_kw={'aspect': 'auto'}, sharex=True, sharey=True, squeeze=True)\n",
    "        for ax_row in axs:\n",
    "            for ax in ax_row:\n",
    "                ax.set_xticks([])\n",
    "                ax.set_yticks([])              \n",
    "        \n",
    "        # print(np.linalg.norm(diff.flatten())/self.domain_size)\n",
    "#         im = axs[0].imshow(k,cmap='jet')\n",
    "#         fig.colorbar(im, ax=axs[1]); axs[1].set_title(r'$\\nu$')\n",
    "#         im = axs[1].imshow(u,cmap='jet', vmin=0.0, vmax=1.0)\n",
    "#         fig.colorbar(im, ax=axs[2]); axs[2].set_title(r'$u_{\\theta}$')\n",
    "#         plt.show()\n",
    "        \n",
    "        for idx in range(num_sample):\n",
    "            im0 = axs[idx][0].imshow(k[idx,:,:],cmap='jet')\n",
    "            fig.colorbar(im0, ax=axs[idx,0]); axs[idx,0].set_title(r'$\\nu$')\n",
    "            im1 = axs[idx][1].imshow(u[idx,:,:],cmap='jet')\n",
    "            fig.colorbar(im1, ax=axs[idx,1]); axs[idx,1].set_title(r'$u_{\\theta}$')  \n",
    "    \n",
    "    def on_epoch_end(self):\n",
    "        num_query = 6\n",
    "        plt_num_row = num_query\n",
    "        plt_num_col = 2\n",
    "        fig, axs = plt.subplots(plt_num_row, plt_num_col, figsize=(2*plt_num_col,1.2*plt_num_row),\n",
    "                            subplot_kw={'aspect': 'auto'}, sharex=True, sharey=True, squeeze=True)\n",
    "        for ax_row in axs:\n",
    "            for ax in ax_row:\n",
    "                ax.set_xticks([])\n",
    "                ax.set_yticks([])\n",
    "        \n",
    "        self.network.eval()\n",
    "        inputs, forcing = self.dataset[0:num_query]\n",
    "        forcing = forcing.repeat(num_query,1,1,1)\n",
    "\n",
    "        ub, inputs_tensor, forcing_tensor = self.forward((inputs.type_as(next(self.network.parameters())), forcing.type_as(next(self.network.parameters()))))\n",
    "        \n",
    "        loss = self.loss(ub, inputs_tensor, forcing_tensor[:,0:1,:,:])\n",
    "\n",
    "        for idx in range(num_query):\n",
    "            f = forcing_tensor # renaming variable\n",
    "            \n",
    "            # extract diffusivity and boundary conditions here\n",
    "            nu = inputs_tensor[idx,0:1,:,:]\n",
    "            u = ub[idx,0:1,:,:]\n",
    "            bc1 = inputs_tensor[idx,1:2,:,:]\n",
    "            bc2 = inputs_tensor[idx,2:3,:,:]\n",
    "\n",
    "            # apply boundary conditions\n",
    "            u = torch.where(bc1>0.5,1.0+u*0.0,u)\n",
    "            u = torch.where(bc2>0.5,u*0.0,u)\n",
    "\n",
    "            k = nu.squeeze().detach().cpu()\n",
    "            u = u.squeeze().detach().cpu()\n",
    "\n",
    "            im0 = axs[idx][0].imshow(k,cmap='jet')\n",
    "            fig.colorbar(im0, ax=axs[idx,0])\n",
    "            im1 = axs[idx][1].imshow(u,cmap='jet')\n",
    "            fig.colorbar(im1, ax=axs[idx,1])  \n",
    "        plt.savefig(os.path.join(self.logger[0].log_dir, 'contour_' + str(self.current_epoch) + '.png'))\n",
    "        self.logger[0].experiment.add_figure('Contour Plots', fig, self.current_epoch)\n",
    "        plt.close('all')\n"
   ]
  },
  {
   "cell_type": "markdown",
   "metadata": {
    "tags": []
   },
   "source": [
    "## 7. MLflow for experiment tracking and model deployment\n",
    "\n",
    "MLflow is an open source platform for managing the end-to-end machine learning lifecycle. It tackles four primary functions:\n",
    "\n",
    "- Tracking experiments to record and compare parameters and results (MLflow Tracking).\n",
    "- Managing and deploying models from a variety of ML libraries to a variety of model serving and inference platforms (MLflow Models).\n",
    "- Providing a central model store to collaboratively manage the full lifecycle of an MLflow Model, including model versioning, stage transitions, and annotations (MLflow Model Registry).\n",
    "\n",
    "More information [here](https://www.mlflow.org/docs/latest/index.html#)\n",
    "\n",
    "\n",
    "\n",
    "![image.png](https://www.mlflow.org/docs/latest/_images/scenario_4.png)\n",
    "\n",
    "- localhost maps to the server on which the current notebook is running\n",
    "\n",
    "- Tracking server maps to the server at environment variable `TRACKING_URL` that can be printed using `os.environ.get(\"TRACKING_URL\")`\n",
    "\n",
    "- Create an mlflow client that communicates with the tracking server"
   ]
  },
  {
   "cell_type": "code",
   "execution_count": 5,
   "metadata": {},
   "outputs": [],
   "source": [
    "import mlflow\n",
    "from mlflow import pyfunc\n",
    "\n",
    "# Setting a tracking uri to log the mlflow logs in a particular location tracked by \n",
    "from mlflow.tracking import MlflowClient\n",
    "tracking_uri = os.environ.get(\"TRACKING_URL\")\n",
    "client = MlflowClient(tracking_uri=tracking_uri)\n",
    "mlflow.set_tracking_uri(tracking_uri)"
   ]
  },
  {
   "cell_type": "markdown",
   "metadata": {
    "jp-MarkdownHeadingCollapsed": true,
    "tags": []
   },
   "source": [
    "## Create an experiment in mlflow database using mlflow client\n",
    "\n",
    "- Get the list of all the experiments (Click on **Experiments** tab on the sidebar to see the list)\n",
    "- Create a new experiment named *numpy_deployment* if it doesn't exist\n",
    "- Set *numpy_deployment* as the new experiment under which different **runs** are tracked"
   ]
  },
  {
   "cell_type": "markdown",
   "metadata": {
    "tags": []
   },
   "source": [
    "## MLflow Entity Hierarchy\n",
    "\n",
    "- Experiment 1\n",
    "    - Run 1\n",
    "        - Parameters\n",
    "        - Metrics\n",
    "        - Artifacts\n",
    "            - Folder 1\n",
    "                - File 1\n",
    "                - File 2\n",
    "            - Folder 2 \n",
    "    - Run 2\n",
    "    - Run 3\n",
    "\n",
    "- Experiment 2\n",
    "- Experiment 3        "
   ]
  },
  {
   "cell_type": "code",
   "execution_count": 6,
   "metadata": {},
   "outputs": [],
   "source": [
    "# Setting a tracking project experiment name to keep the experiments organized\n",
    "experiments = client.list_experiments()\n",
    "experiment_names = []\n",
    "for exp in experiments:\n",
    "    experiment_names.append(exp.name)\n",
    "experiment_name = \"diffnet_deployment\"\n",
    "if experiment_name not in experiment_names:\n",
    "    mlflow.create_experiment(experiment_name)\n",
    "mlflow.set_experiment(experiment_name)\n"
   ]
  },
  {
   "cell_type": "markdown",
   "metadata": {
    "tags": []
   },
   "source": [
    "## Python Class for inference\n",
    "\n",
    "- ModelWrapper is derived from mlflow.pyfunc.PythonModel [more info](https://www.mlflow.org/docs/latest/python_api/mlflow.pyfunc.html)\n",
    "- load_context() member function is used to load the model. In this case, it loads a keras trained model which can be loaded.\n",
    "- predict member function takes a numpy array as input and outputs another numpy array\n",
    "- An object of this class will be saved as a pickle file in blob storage"
   ]
  },
  {
   "cell_type": "code",
   "execution_count": 69,
   "metadata": {},
   "outputs": [],
   "source": [
    "## Model Wrapper that takes \n",
    "class ModelWrapper(mlflow.pyfunc.PythonModel):\n",
    "    def load_context(self,context):\n",
    "        import numpy as np\n",
    "        import torch\n",
    "        import os\n",
    "        model = torch.load(os.path.join(context.artifacts[\"model_path\"], 'network.pt'))\n",
    "        self.model = model\n",
    "        print(\"Model initialized\")\n",
    "    \n",
    "    def predict(self, context, model_input):\n",
    "        import numpy as np\n",
    "        import json\n",
    "        import torch\n",
    "        print(model_input.values.shape)\n",
    "        inputs = np.array(model_input.values.tolist())\n",
    "        print(inputs.shape)\n",
    "        if len(inputs.shape) == 4:\n",
    "            print('batch inference')\n",
    "            predictions = self.model(torch.from_numpy(inputs).float()).detach().cpu().numpy().tolist()\n",
    "        elif len(inputs.shape) == 3:\n",
    "            print('single inference')\n",
    "            inputs = inputs.unsqueeze(0)\n",
    "            predictions = self.model(torch.from_numpy(inputs).float()).detach().cpu().numpy().tolist()\n",
    "        elif len(inputs.shape) == 2:\n",
    "            print('single inference squeeze')\n",
    "            inputs = inputs.unsqueeze(0).unsqueeze(0)\n",
    "            predictions = self.model(torch.from_numpy(inputs).float()).detach().cpu().numpy().tolist()            \n",
    "        else:\n",
    "            raise ValueError('invalid input shape')\n",
    "        return json.dumps(predictions)"
   ]
  },
  {
   "cell_type": "markdown",
   "metadata": {},
   "source": [
    "## 7. Initializations"
   ]
  },
  {
   "cell_type": "code",
   "execution_count": 42,
   "metadata": {},
   "outputs": [
    {
     "name": "stdout",
     "output_type": "stream",
     "text": [
      "Max_epochs =  1\n",
      "loading dataset\n"
     ]
    },
    {
     "name": "stderr",
     "output_type": "stream",
     "text": [
      "100%|██████████| 100/100 [00:00<00:00, 1342.00it/s]\n",
      "GPU available: False, used: False\n",
      "TPU available: False, using: 0 TPU cores\n",
      "IPU available: False, using: 0 IPUs\n"
     ]
    }
   ],
   "source": [
    "kl_terms = 6\n",
    "domain_size = 32\n",
    "LR = 1e-3\n",
    "batch_size = 128\n",
    "sample_size = 65536\n",
    "sobol_file = 'sobol_'+str(kl_terms)+'d.npy'\n",
    "max_epochs = 1\n",
    "print(\"Max_epochs = \", max_epochs)\n",
    "\n",
    "dataset = KLSum(domain_size=domain_size, kl_terms=kl_terms, filename=sobol_file)\n",
    "network = AE(in_channels=1, out_channels=1, dims=16, n_downsample=2)\n",
    "basecase = Poisson(network, dataset, batch_size=batch_size, domain_size=domain_size, learning_rate=LR)\n",
    "\n",
    "# ------------------------\n",
    "# 1 INIT TRAINER\n",
    "# ------------------------\n",
    "logger = pl.loggers.TensorBoardLogger('.', name=\"klsum_\"+str(domain_size))\n",
    "csv_logger = pl.loggers.CSVLogger(logger.save_dir, name=logger.name, version=logger.version)\n",
    "\n",
    "checkpoint = pl.callbacks.model_checkpoint.ModelCheckpoint(monitor='loss',\n",
    "    dirpath=logger.log_dir, filename='{epoch}-{step}',\n",
    "    mode='min', save_last=True)\n",
    "\n",
    "trainer = Trainer(callbacks=[checkpoint],\n",
    "    checkpoint_callback=True, logger=[logger,csv_logger],\n",
    "    max_epochs=max_epochs, deterministic=True, profiler='simple')"
   ]
  },
  {
   "cell_type": "markdown",
   "metadata": {},
   "source": [
    "## 8. Training"
   ]
  },
  {
   "cell_type": "code",
   "execution_count": 43,
   "metadata": {},
   "outputs": [
    {
     "name": "stderr",
     "output_type": "stream",
     "text": [
      "\n",
      "  | Name      | Type          | Params\n",
      "--------------------------------------------\n",
      "0 | network   | AE            | 264 K \n",
      "1 | N_gp      | ParameterList | 16    \n",
      "2 | dN_x_gp   | ParameterList | 16    \n",
      "3 | dN_y_gp   | ParameterList | 16    \n",
      "4 | d2N_x_gp  | ParameterList | 16    \n",
      "5 | d2N_y_gp  | ParameterList | 16    \n",
      "6 | d2N_xy_gp | ParameterList | 16    \n",
      "--------------------------------------------\n",
      "264 K     Trainable params\n",
      "96        Non-trainable params\n",
      "264 K     Total params\n",
      "1.058     Total estimated model params size (MB)\n"
     ]
    },
    {
     "data": {
      "application/vnd.jupyter.widget-view+json": {
       "model_id": "865aef42045b4757aeca256b10644752",
       "version_major": 2,
       "version_minor": 0
      },
      "text/plain": [
       "Training: 0it [00:00, ?it/s]"
      ]
     },
     "metadata": {},
     "output_type": "display_data"
    },
    {
     "name": "stderr",
     "output_type": "stream",
     "text": [
      "FIT Profiler Report\n",
      "\n",
      "Action                             \t|  Mean duration (s)\t|Num calls      \t|  Total time (s) \t|  Percentage %   \t|\n",
      "--------------------------------------------------------------------------------------------------------------------------------------\n",
      "Total                              \t|  -              \t|_              \t|  13.179         \t|  100 %          \t|\n",
      "--------------------------------------------------------------------------------------------------------------------------------------\n",
      "run_training_epoch                 \t|  7.694          \t|1              \t|  7.694          \t|  58.379         \t|\n",
      "run_training_batch                 \t|  5.815          \t|1              \t|  5.815          \t|  44.122         \t|\n",
      "optimizer_step_with_closure_0      \t|  5.8141         \t|1              \t|  5.8141         \t|  44.115         \t|\n",
      "training_step_and_backward         \t|  5.5151         \t|1              \t|  5.5151         \t|  41.846         \t|\n",
      "backward                           \t|  4.1975         \t|1              \t|  4.1975         \t|  31.849         \t|\n",
      "on_epoch_end                       \t|  1.6709         \t|1              \t|  1.6709         \t|  12.678         \t|\n",
      "model_forward                      \t|  1.3174         \t|1              \t|  1.3174         \t|  9.9956         \t|\n",
      "training_step                      \t|  1.3111         \t|1              \t|  1.3111         \t|  9.9485         \t|\n",
      "on_train_epoch_end                 \t|  0.19472        \t|1              \t|  0.19472        \t|  1.4774         \t|\n",
      "on_train_end                       \t|  0.10015        \t|1              \t|  0.10015        \t|  0.75991        \t|\n",
      "on_train_start                     \t|  0.01849        \t|1              \t|  0.01849        \t|  0.14029        \t|\n",
      "on_pretrain_routine_start          \t|  0.012488       \t|1              \t|  0.012488       \t|  0.094754       \t|\n",
      "training_step_end                  \t|  0.005999       \t|1              \t|  0.005999       \t|  0.045518       \t|\n",
      "get_train_batch                    \t|  0.0022633      \t|2              \t|  0.0045265      \t|  0.034345       \t|\n",
      "fetch_next_train_batch             \t|  0.0022437      \t|2              \t|  0.0044873      \t|  0.034048       \t|\n",
      "on_train_batch_end                 \t|  0.0044283      \t|1              \t|  0.0044283      \t|  0.0336         \t|\n",
      "on_train_epoch_start               \t|  0.0013953      \t|1              \t|  0.0013953      \t|  0.010587       \t|\n",
      "configure_optimizers               \t|  0.00031203     \t|1              \t|  0.00031203     \t|  0.0023676      \t|\n",
      "zero_grad                          \t|  0.00017972     \t|1              \t|  0.00017972     \t|  0.0013636      \t|\n",
      "train_dataloader                   \t|  0.00017492     \t|1              \t|  0.00017492     \t|  0.0013272      \t|\n",
      "on_after_backward                  \t|  0.00014251     \t|1              \t|  0.00014251     \t|  0.0010813      \t|\n",
      "on_train_batch_start               \t|  0.00011821     \t|1              \t|  0.00011821     \t|  0.00089693     \t|\n",
      "training_batch_to_device           \t|  0.00011111     \t|1              \t|  0.00011111     \t|  0.00084306     \t|\n",
      "on_batch_end                       \t|  3.0203e-05     \t|1              \t|  3.0203e-05     \t|  0.00022917     \t|\n",
      "on_before_zero_grad                \t|  2.8303e-05     \t|1              \t|  2.8303e-05     \t|  0.00021475     \t|\n",
      "on_fit_end                         \t|  2.3202e-05     \t|1              \t|  2.3202e-05     \t|  0.00017605     \t|\n",
      "on_configure_sharded_model         \t|  2.2302e-05     \t|1              \t|  2.2302e-05     \t|  0.00016922     \t|\n",
      "on_fit_start                       \t|  2.2102e-05     \t|1              \t|  2.2102e-05     \t|  0.0001677      \t|\n",
      "teardown                           \t|  1.9902e-05     \t|1              \t|  1.9902e-05     \t|  0.00015101     \t|\n",
      "on_before_accelerator_backend_setup\t|  1.9702e-05     \t|1              \t|  1.9702e-05     \t|  0.00014949     \t|\n",
      "on_batch_start                     \t|  1.9002e-05     \t|1              \t|  1.9002e-05     \t|  0.00014418     \t|\n",
      "on_before_optimizer_step           \t|  1.6101e-05     \t|1              \t|  1.6101e-05     \t|  0.00012217     \t|\n",
      "on_epoch_start                     \t|  1.5001e-05     \t|1              \t|  1.5001e-05     \t|  0.00011382     \t|\n",
      "on_pretrain_routine_end            \t|  1.4802e-05     \t|1              \t|  1.4802e-05     \t|  0.00011231     \t|\n",
      "setup                              \t|  1.3701e-05     \t|1              \t|  1.3701e-05     \t|  0.00010396     \t|\n",
      "on_before_backward                 \t|  1.3501e-05     \t|1              \t|  1.3501e-05     \t|  0.00010244     \t|\n",
      "prepare_data                       \t|  1.3101e-05     \t|1              \t|  1.3101e-05     \t|  9.9405e-05     \t|\n",
      "configure_sharded_model            \t|  7.3e-06        \t|1              \t|  7.3e-06        \t|  5.539e-05      \t|\n",
      "on_train_dataloader                \t|  4.401e-06      \t|1              \t|  4.401e-06      \t|  3.3393e-05     \t|\n",
      "configure_callbacks                \t|  3.7e-06        \t|1              \t|  3.7e-06        \t|  2.8074e-05     \t|\n",
      "\n"
     ]
    }
   ],
   "source": [
    "trainer.fit(basecase)"
   ]
  },
  {
   "cell_type": "markdown",
   "metadata": {
    "tags": []
   },
   "source": [
    "## Register a model using mlflow\n",
    "\n",
    "- Log user-defined parameters in a remote database through a remote server\n",
    "- Create a model_wrapper object using ModelWrapper() class in the above cell\n",
    "- Create a default conda environment that need to be installed on the Docker conatiner that serves a REST API\n",
    "- Save the model object as a pickle file and conda environment as artifacts (files) in S3 or Blob Storage"
   ]
  },
  {
   "cell_type": "code",
   "execution_count": 70,
   "metadata": {},
   "outputs": [],
   "source": [
    "torch.save(basecase.network, os.path.join(logger.log_dir, 'network.pt'))\n",
    "# instantiate the python inference model wrapper for the server\n",
    "model_wrapper = ModelWrapper()\n",
    "\n",
    "\n",
    "# checkpointing and logging the model in mlflow\n",
    "artifact_path = logger.log_dir\n",
    "model_artifacts = {\"model_path\" : artifact_path}\n",
    "\n",
    "#Conda environment\n",
    "env = mlflow.pytorch.get_default_conda_env()\n",
    "\n",
    "## Utility function to add libraries to conda environment\n",
    "def add_libraries_to_conda_env(_conda_env,libraries=[],conda_dependencies=[]):\n",
    "    dependencies = _conda_env[\"dependencies\"]\n",
    "    dependencies = dependencies + conda_dependencies\n",
    "    pip_index = None\n",
    "    for _index,_element in enumerate(dependencies):\n",
    "        if type(_element) == dict:\n",
    "            if \"pip\" in _element.keys():\n",
    "                pip_index = _index\n",
    "                break\n",
    "    dependencies[pip_index][\"pip\"] =  dependencies[pip_index][\"pip\"] + libraries\n",
    "    _conda_env[\"dependencies\"] = dependencies\n",
    "    return _conda_env\n",
    "env = add_libraries_to_conda_env(env,libraries=['git+https://github.com/adityabalu/DiffNet.git'])\n",
    "with mlflow.start_run():\n",
    "    mlflow.pyfunc.log_model(\"diffnet_model\", python_model=model_wrapper, artifacts=model_artifacts, conda_env=env)"
   ]
  },
  {
   "cell_type": "markdown",
   "metadata": {},
   "source": [
    "## 9. Query"
   ]
  },
  {
   "cell_type": "code",
   "execution_count": 90,
   "metadata": {},
   "outputs": [
    {
     "name": "stdout",
     "output_type": "stream",
     "text": [
      "loading dataset\n"
     ]
    },
    {
     "name": "stderr",
     "output_type": "stream",
     "text": [
      "100%|██████████| 5/5 [00:00<00:00, 1134.70it/s]\n"
     ]
    },
    {
     "data": {
      "image/png": "[encoded data removed]",
      "text/plain": [
       "<Figure size 576x432 with 12 Axes>"
      ]
     },
     "metadata": {
      "needs_background": "light"
     },
     "output_type": "display_data"
    }
   ],
   "source": [
    "import requests\n",
    "import json\n",
    "\n",
    "query_array = np.random.rand(5,6) # five samples of size 6\n",
    "dataset = KLSum(domain_size=domain_size, kl_terms=kl_terms, filename='', coeff_array=query_array)\n",
    "\n",
    "inputs, forcing = dataset[0:3]\n",
    "nu = inputs[:,0:1,:,:].numpy()\n",
    "import pandas as pd\n",
    "################################################################################\n",
    "# *** SET MODEL URL HERE BEFORE RUNNING THIS CELL (instructions above) ***\n",
    "# Example: https://<random_string>.sciml.rocketml.net/invocations\n",
    "url = \"\"\n",
    "################################################################################\n",
    "\n",
    "u_list = []\n",
    "for idx in range(nu.shape[0]):\n",
    "    json_data = pd.DataFrame(nu[idx:idx+1,...].tolist(), columns=['image']).to_json(orient='split')\n",
    "\n",
    "    if not url:\n",
    "        raise ValueError('Model URL not set! Please read instructions on how to deploy model, set the correct URL, and try again.')\n",
    "\n",
    "    headers = {\"Content-Type\":\"application/json; format=pandas-split\"}\n",
    "\n",
    "    if url:\n",
    "        response = requests.post(url,data=json_data,headers=headers)\n",
    "        if response.status_code == 200:\n",
    "            u = np.array(json.loads(response.json())).astype(np.float32)\n",
    "            u_list.append(u)\n",
    "        else:\n",
    "            print(response.status_code)\n",
    "            print(\"REST API deployment is in progress -- please try again in a few minutes!\")\n",
    "    else:\n",
    "        print(\"Make sure that the model is in ON state. Copy the Endpoint\")\n",
    "\n",
    "u = np.array(u_list)\n",
    "\n",
    "# plot\n",
    "basecase.plot_contours(nu.squeeze(),u.squeeze())"
   ]
  }
 ],
 "metadata": {
  "kernelspec": {
   "display_name": "Python 3 (ipykernel)",
   "language": "python",
   "name": "python3"
  },
  "language_info": {
   "codemirror_mode": {
    "name": "ipython",
    "version": 3
   },
   "file_extension": ".py",
   "mimetype": "text/x-python",
   "name": "python",
   "nbconvert_exporter": "python",
   "pygments_lexer": "ipython3",
   "version": "3.7.11"
  }
 },
 "nbformat": 4,
 "nbformat_minor": 4
}
