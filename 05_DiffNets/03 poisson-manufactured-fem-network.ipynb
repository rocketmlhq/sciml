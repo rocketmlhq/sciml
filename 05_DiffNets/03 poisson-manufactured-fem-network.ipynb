{
 "cells": [
  {
   "cell_type": "markdown",
   "metadata": {},
   "source": [
    "# Convolutions based FE loss function implementation\n",
    "\n",
    "## 1. Introduction\n",
    "\n",
    "In this workbook, we cover the usage of DiffNets to solve Poisson's Equation. The Poisson equation for the scalar field $u({\\bf x})$ can be written as\n",
    "\n",
    "$$-\\nabla \\cdot (\\nu({\\bf x}) \\nabla u({\\bf x})) = f({\\bf x}) \\textrm{ in } D$$\n",
    "\n",
    "where $\\nu({\\bf x})$ represents the *diffusivity* (or *permeability*) of the medium. Without loss of generality, we consider the homogeneous case where $f({\\bf x}) = 0$.\n",
    "\n",
    "However, instead of explicitly solving the Poisson's Equation, the technique used here is to use a convolutions based Finite Element loss function.  The goal here is to show how we validate our approach using a manufactured solution. We know the the exact solution of $sin(\\pi x) sin(\\pi y)$ for the PDE. Therefore, we try to validate if our approach can provide us the same result. \n",
    "\n",
    "Unlike the previous workbook, in this one, we would be using a network to parameterize the FE solution instead of optimizing the field itself.\n",
    "\n",
    "## 2. Imports\n",
    "We begin with few imports"
   ]
  },
  {
   "cell_type": "code",
   "execution_count": 2,
   "metadata": {},
   "outputs": [
    {
     "name": "stderr",
     "output_type": "stream",
     "text": [
      "Global seed set to 42\n"
     ]
    }
   ],
   "source": [
    "import os\n",
    "import sys\n",
    "import json\n",
    "import math\n",
    "import torch\n",
    "import numpy as np\n",
    "\n",
    "import matplotlib\n",
    "# matplotlib.use(\"pgf\")\n",
    "matplotlib.rcParams.update({\n",
    "    # 'font.family': 'serif',\n",
    "    'font.size':12,\n",
    "})\n",
    "from matplotlib import pyplot as plt\n",
    "\n",
    "import pytorch_lightning as pl\n",
    "from pytorch_lightning import Trainer, seed_everything\n",
    "from pytorch_lightning.loggers import TensorBoardLogger\n",
    "seed_everything(42)\n",
    "\n",
    "import DiffNet\n",
    "from DiffNet.networks.wgan import GoodNetwork\n",
    "from DiffNet.networks.wgan_old import GoodGenerator\n",
    "from DiffNet.networks.autoencoders import AE\n",
    "from DiffNet.DiffNetFEM import DiffNet2DFEM\n",
    "from DiffNet.datasets.single_instances.rectangles import RectangleManufactured\n",
    "\n",
    "from pytorch_lightning.callbacks.base import Callback"
   ]
  },
  {
   "cell_type": "code",
   "execution_count": 3,
   "metadata": {},
   "outputs": [],
   "source": [
    "class OptimSwitchLBFGS(Callback):\n",
    "    def __init__(self, epochs=10):\n",
    "        self.switch_epoch = epochs\n",
    "\n",
    "    def on_epoch_start(self, trainer, pl_module):\n",
    "        if trainer.current_epoch == self.switch_epoch:\n",
    "            opts = [torch.optim.LBFGS(pl_module.network.parameters(), lr=1.0, max_iter=10)]\n",
    "            trainer.optimizers = opts"
   ]
  },
  {
   "cell_type": "markdown",
   "metadata": {},
   "source": [
    "## 3. Class definition\n",
    "\n",
    "We need to define a class Poisson which inherits from `DiffNet.DiffNetFEM` class. "
   ]
  },
  {
   "cell_type": "code",
   "execution_count": 4,
   "metadata": {},
   "outputs": [],
   "source": [
    "class Poisson(DiffNet2DFEM):\n",
    "    \"\"\"docstring for Poisson\"\"\"\n",
    "    def __init__(self, network, dataset, **kwargs):\n",
    "        super(Poisson, self).__init__(network, dataset, **kwargs)\n",
    "        x = np.linspace(0,1,self.domain_size)\n",
    "        y = np.linspace(0,1,self.domain_size)\n",
    "        xx, yy = np.meshgrid(x,y)\n",
    "        self.u_exact = torch.tensor(self.exact_solution(xx,yy))\n",
    "\n",
    "    def exact_solution(self, x,y):\n",
    "        return np.sin(math.pi*x)*np.sin(math.pi*y)\n",
    "\n",
    "    def loss(self, u, inputs_tensor, forcing_tensor):\n",
    "\n",
    "        f = forcing_tensor # renaming variable\n",
    "        \n",
    "        # extract diffusivity and boundary conditions here\n",
    "        nu = inputs_tensor[:,0:1,:,:]\n",
    "        bc1 = inputs_tensor[:,1:2,:,:]\n",
    "        bc2 = inputs_tensor[:,2:3,:,:]\n",
    "\n",
    "        # apply boundary conditions\n",
    "        u = torch.where(bc1>0.5,1.0+u*0.0,u)\n",
    "        u = torch.where(bc2>0.5,u*0.0,u)\n",
    "\n",
    "\n",
    "        nu_gp = self.gauss_pt_evaluation(nu)\n",
    "        f_gp = self.gauss_pt_evaluation(f)\n",
    "        u_gp = self.gauss_pt_evaluation(u)\n",
    "        u_x_gp = self.gauss_pt_evaluation_der_x(u)\n",
    "        u_y_gp = self.gauss_pt_evaluation_der_y(u)\n",
    "\n",
    "        transformation_jacobian = self.gpw.unsqueeze(-1).unsqueeze(-1).unsqueeze(0).type_as(nu_gp)\n",
    "        res_elmwise = (transformation_jacobian * (0.5 * nu_gp * (u_x_gp**2 + u_y_gp**2) - (u_gp * f_gp)))\n",
    "        res_elmwise = torch.sum(res_elmwise, 1) \n",
    "\n",
    "        loss = torch.mean(res_elmwise)\n",
    "        return loss\n",
    "\n",
    "    def forward(self, batch):\n",
    "        inputs_tensor, forcing_tensor = batch\n",
    "        return self.network(inputs_tensor), inputs_tensor, forcing_tensor\n",
    "\n",
    "    def training_step(self, batch, batch_idx):\n",
    "        u, inputs_tensor, forcing_tensor = self.forward(batch)\n",
    "        loss_val = self.loss(u, inputs_tensor, forcing_tensor).mean()\n",
    "        return {\"loss\": loss_val}\n",
    "\n",
    "    def training_step_end(self, training_step_outputs):\n",
    "        loss = training_step_outputs[\"loss\"]\n",
    "        return training_step_outputs\n",
    "\n",
    "    def configure_optimizers(self):\n",
    "        lr = self.learning_rate\n",
    "\n",
    "        opts = [torch.optim.Adam(self.network.parameters(), lr=lr)]\n",
    "\n",
    "        schd = [torch.optim.lr_scheduler.ExponentialLR(opts[0], gamma=0.95)]\n",
    "        return opts, schd\n",
    "    \n",
    "    def do_query(self, inputs, forcing):\n",
    "        u, inputs_tensor, forcing_tensor = self.forward((inputs.unsqueeze(0).type_as(next(self.network.parameters())), \n",
    "                                                         forcing.unsqueeze(0).type_as(next(self.network.parameters()))))\n",
    "        \n",
    "        f = forcing_tensor.squeeze().detach().cpu() # renaming variable\n",
    "        \n",
    "        # extract diffusivity and boundary conditions here\n",
    "        nu = inputs_tensor[:,0:1,:,:]\n",
    "        bc1 = inputs_tensor[:,1:2,:,:]\n",
    "        bc2 = inputs_tensor[:,2:3,:,:]        \n",
    "        # process diffusivity\n",
    "        k = nu.squeeze().detach().cpu()\n",
    "\n",
    "        # process u (by adding BC)\n",
    "        u = torch.where(bc1>0.5,1.0+u*0.0,u)\n",
    "        u = torch.where(bc2>0.5,u*0.0,u)        \n",
    "        u = u.squeeze().detach().cpu()\n",
    "        \n",
    "        return u, k, f\n",
    "    \n",
    "    def plot_contours(self,k,f,u,u_exact):\n",
    "        diff = u - u_exact\n",
    "        # plotting        \n",
    "        fig, axs = plt.subplots(1, 5, figsize=(3*5,2),\n",
    "                            subplot_kw={'aspect': 'auto'}, sharex=True, sharey=True, squeeze=True)\n",
    "        for ax in axs:\n",
    "            ax.set_xticks([])\n",
    "            ax.set_yticks([])              \n",
    "        \n",
    "        # print(np.linalg.norm(diff.flatten())/self.domain_size)\n",
    "        im = axs[0].imshow(f,cmap='jet')\n",
    "        fig.colorbar(im, ax=axs[0], ticks=[0.0, 4.0, 8.0, 12.0, 16.0, 20.0]); axs[0].set_title(r'$f$')\n",
    "        im = axs[1].imshow(k,cmap='jet')\n",
    "        fig.colorbar(im, ax=axs[1]); axs[1].set_title(r'$\\nu$')\n",
    "        im = axs[2].imshow(u,cmap='jet', vmin=0.0, vmax=1.0)\n",
    "        fig.colorbar(im, ax=axs[2]); axs[2].set_title(r'$u_{\\theta}$')\n",
    "        im = axs[3].imshow(u_exact,cmap='jet', vmin=0.0, vmax=1.0)\n",
    "        fig.colorbar(im, ax=axs[3]); axs[3].set_title(r'$u_{exact}$')\n",
    "        im = axs[4].imshow(diff,cmap='jet')\n",
    "        fig.colorbar(im, ax=axs[4]); axs[4].set_title(r'$u_{\\theta}-u_{exact}$')\n",
    "        plt.show()\n",
    "\n",
    "    def on_epoch_end(self):\n",
    "        inputs, forcing = self.dataset[0]\n",
    "        u, k, f = self.do_query(inputs, forcing)                \n",
    "        \n",
    "        u_exact = self.u_exact.squeeze().detach().cpu()\n",
    "        diff = u - u_exact\n",
    "        \n",
    "        self.plot_contours(k,f,u,u_exact)"
   ]
  },
  {
   "cell_type": "markdown",
   "metadata": {},
   "source": [
    "## 4. Initializations"
   ]
  },
  {
   "cell_type": "code",
   "execution_count": 5,
   "metadata": {},
   "outputs": [
    {
     "name": "stderr",
     "output_type": "stream",
     "text": [
      "/miniconda/lib/python3.7/site-packages/pytorch_lightning/trainer/connectors/callback_connector.py:148: LightningDeprecationWarning: Setting `Trainer(checkpoint_callback=<pytorch_lightning.callbacks.model_checkpoint.ModelCheckpoint object at 0x7fa69fe8dbd0>)` is deprecated in v1.5 and will be removed in v1.7. Please consider using `Trainer(enable_checkpointing=<pytorch_lightning.callbacks.model_checkpoint.ModelCheckpoint object at 0x7fa69fe8dbd0>)`.\n",
      "  f\"Setting `Trainer(checkpoint_callback={checkpoint_callback})` is deprecated in v1.5 and will \"\n",
      "GPU available: False, used: False\n",
      "TPU available: False, using: 0 TPU cores\n",
      "IPU available: False, using: 0 IPUs\n"
     ]
    }
   ],
   "source": [
    "domain_size = 16\n",
    "\n",
    "u_tensor = np.ones((1,1,domain_size,domain_size))\n",
    "network = AE(in_channels=3, out_channels=1, dims=16, n_downsample=3)\n",
    "# network = GoodNetwork(in_channels=3, out_channels=1, in_dim=domain_size, out_dim=domain_size, lowest_dim=4, filters=32)\n",
    "# network = GoodGenerator()\n",
    "dataset = RectangleManufactured(domain_size=domain_size)\n",
    "basecase = Poisson(network, dataset, batch_size=1, domain_size=domain_size, learning_rate=3e-4)\n",
    "\n",
    "# ------------------------\n",
    "# 1 INIT TRAINER\n",
    "# ------------------------\n",
    "logger = pl.loggers.TensorBoardLogger('.', name=\"mms-network\")\n",
    "csv_logger = pl.loggers.CSVLogger(logger.save_dir, name=logger.name, version=logger.version)\n",
    "\n",
    "checkpoint = pl.callbacks.model_checkpoint.ModelCheckpoint(monitor='loss',\n",
    "    dirpath=logger.log_dir, filename='{epoch}-{step}',\n",
    "    mode='min', save_last=True)\n",
    "\n",
    "lbfgs_switch = OptimSwitchLBFGS(epochs=1)\n",
    "\n",
    "trainer = Trainer(callbacks=[lbfgs_switch],\n",
    "    checkpoint_callback=checkpoint, precision=64, logger=[logger,csv_logger],\n",
    "    max_epochs=5, deterministic=True, profiler=\"simple\")"
   ]
  },
  {
   "cell_type": "markdown",
   "metadata": {},
   "source": [
    "## 5. Training\n"
   ]
  },
  {
   "cell_type": "code",
   "execution_count": null,
   "metadata": {},
   "outputs": [
    {
     "name": "stderr",
     "output_type": "stream",
     "text": [
      "2021-11-13 07:22:37.824911: W tensorflow/stream_executor/platform/default/dso_loader.cc:64] Could not load dynamic library 'libcudart.so.11.0'; dlerror: libcudart.so.11.0: cannot open shared object file: No such file or directory\n",
      "2021-11-13 07:22:37.824972: I tensorflow/stream_executor/cuda/cudart_stub.cc:29] Ignore above cudart dlerror if you do not have a GPU set up on your machine.\n",
      "/miniconda/lib/python3.7/site-packages/pytorch_lightning/loggers/csv_logs.py:58: UserWarning: Experiment logs directory ./mms-network/version_1 exists and is not empty. Previous log files in this directory will be deleted when the new ones are saved!\n",
      "  f\"Experiment logs directory {self.log_dir} exists and is not empty.\"\n",
      "\n",
      "  | Name      | Type          | Params\n",
      "--------------------------------------------\n",
      "0 | network   | AE            | 660 K \n",
      "1 | N_gp      | ParameterList | 16    \n",
      "2 | dN_x_gp   | ParameterList | 16    \n",
      "3 | dN_y_gp   | ParameterList | 16    \n",
      "4 | d2N_x_gp  | ParameterList | 16    \n",
      "5 | d2N_y_gp  | ParameterList | 16    \n",
      "6 | d2N_xy_gp | ParameterList | 16    \n",
      "--------------------------------------------\n",
      "660 K     Trainable params\n",
      "96        Non-trainable params\n",
      "661 K     Total params\n",
      "5.288     Total estimated model params size (MB)\n",
      "/miniconda/lib/python3.7/site-packages/pytorch_lightning/trainer/data_loading.py:111: UserWarning: The dataloader, train_dataloader, does not have many workers which may be a bottleneck. Consider increasing the value of the `num_workers` argument` (try 20 which is the number of cpus on this machine) in the `DataLoader` init to improve performance.\n",
      "  f\"The dataloader, {name}, does not have many workers which may be a bottleneck.\"\n"
     ]
    },
    {
     "name": "stdout",
     "output_type": "stream",
     "text": [
      "Epoch 0: 100%|██████████| 100/100 [00:24<00:00,  4.06it/s, loss=-9.68, v_num=1_1]"
     ]
    },
    {
     "data": {
      "image/png": "[encoded data removed]",
      "text/plain": [
       "<Figure size 1080x144 with 10 Axes>"
      ]
     },
     "metadata": {
      "needs_background": "light"
     },
     "output_type": "display_data"
    },
    {
     "name": "stdout",
     "output_type": "stream",
     "text": [
      "Epoch 1: 100%|██████████| 100/100 [00:43<00:00,  2.30it/s, loss=-9.69, v_num=1_1]"
     ]
    },
    {
     "data": {
      "image/png": "[encoded data removed]",
      "text/plain": [
       "<Figure size 1080x144 with 10 Axes>"
      ]
     },
     "metadata": {
      "needs_background": "light"
     },
     "output_type": "display_data"
    },
    {
     "name": "stdout",
     "output_type": "stream",
     "text": [
      "Epoch 2:  31%|███       | 31/100 [00:07<00:17,  3.89it/s, loss=-9.69, v_num=1_1] "
     ]
    }
   ],
   "source": [
    "trainer.fit(basecase)\n",
    "\n",
    "# ------------------------\n",
    "# 5 SAVE NETWORK\n",
    "# ------------------------\n",
    "torch.save(basecase.network, os.path.join(logger.log_dir, 'network.pt'))"
   ]
  },
  {
   "cell_type": "markdown",
   "metadata": {},
   "source": [
    "## 6.Query"
   ]
  },
  {
   "cell_type": "code",
   "execution_count": null,
   "metadata": {},
   "outputs": [],
   "source": [
    "basecase.dataset[0]\n",
    "inputs, forcing = basecase.dataset[0]\n",
    "u, k, f = basecase.do_query(inputs, forcing) \n",
    "u_exact = basecase.u_exact.squeeze().detach().cpu()\n",
    "# L2 error calculation\n",
    "basecase.calc_l2_err(u.numpy())\n",
    "# plot\n",
    "basecase.plot_contours(k,f,u,u_exact)"
   ]
  },
  {
   "cell_type": "code",
   "execution_count": null,
   "metadata": {},
   "outputs": [],
   "source": []
  }
 ],
 "metadata": {
  "kernelspec": {
   "display_name": "Python 3 (ipykernel)",
   "language": "python",
   "name": "python3"
  },
  "language_info": {
   "codemirror_mode": {
    "name": "ipython",
    "version": 3
   },
   "file_extension": ".py",
   "mimetype": "text/x-python",
   "name": "python",
   "nbconvert_exporter": "python",
   "pygments_lexer": "ipython3",
   "version": "3.7.11"
  }
 },
 "nbformat": 4,
 "nbformat_minor": 4
}
