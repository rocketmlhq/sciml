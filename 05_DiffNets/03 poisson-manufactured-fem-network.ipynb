{
 "cells": [
  {
   "cell_type": "markdown",
   "metadata": {},
   "source": [
    "# Convolutions based FE loss function implementation\n",
    "\n",
    "## 1. Introduction\n",
    "\n",
    "In this workbook, we cover the usage of DiffNets to solve Poisson's Equation. The Poisson equation for the scalar field $u({\\bf x})$ can be written as\n",
    "\n",
    "$$\n",
    "\\begin{align}\n",
    "-\\nabla \\cdot (\\nu({\\bf x}) \\nabla u({\\bf x})) &= f({\\bf x}) \\ \\textrm{ in } D\\\\\n",
    "u &= 0 \\ \\textrm{ on } \\partial D\n",
    "\\end{align}\n",
    "$$\n",
    "\n",
    "where, the domain $D = [0,1]^2$ is the unit square; ${\\bf x} = (x,y)$ represents the independent variables, $\\nu({\\bf x})$ represents the *diffusivity* (or *permeability*) of the medium, and $ f(\\bf x)$ is the external forcing. In this example, we take $ f({\\bf x}) = 2 \\pi^2 \\sin(\\pi x) \\sin(\\pi y)  $ and $\\nu({\\bf x}) = 1$. With this forcing, there exists an exact solution given by $u_{ex} = \\sin(\\pi x) \\sin(\\pi y)$.\n",
    "\n",
    "However, instead of solving the Poisson's Equation by setting up algebraic equations,here we use convolution based loss function inspired by the finite element method (FEM). Since we know the exact solution for the above set of equations, we can validate this approach by explicitly calculating the errors.\n",
    "\n",
    "## 2. DiffNet\n",
    "A trained DiffNet can take a full field of diffusivity (or forcing) and map it to the full field solution. For example, in the below schematic, we see a trained DiffNet $G_{nn}$ takes a matrix $S^d$ (numerical version of $\\nu({\\bf x})$) as input and map it to another matrix $U^d$ (approximated version of $u({\\bf x}))$:\n",
    "![](xdiffnet-scheme.png)\n",
    "Both $S^d$ and $U^d$ are matrices (or images) of the same size ($6\\times 6$ or, $5\\times 5$ \"finite elements\"). The neural network $G_{nn}$ can be thought of as a having a UNet architecture as below:\n",
    "![](UNetArch.png)\n",
    "\n",
    "Suppose the network parameters are given by $\\theta$. Then, given such discretized representations of $S^d$ and $U^d$, DiffNet solves the Poisson's equation by minimizing the integral loss function given by:\n",
    "$$\n",
    "J(u, \\theta) = \\frac{1}{2} \\int \\nu|\\nabla u({\\bf x}, \\theta)|^2 d{\\bf x} - \\int u f d{\\bf x},\n",
    "$$\n",
    "and the solution is then given by:\n",
    "$$\n",
    "\\begin{align}\n",
    "\\theta^* &= \\arg\\min J(u, \\theta),\\\\\n",
    "u &= G_{nn}(S^d, \\theta^*).\n",
    "\\end{align}\n",
    "$$\n",
    "\n",
    "We minimize the loss function $J(u, \\theta)$ using Adam optimizer.\n",
    "\n",
    "The DiffNet library provides in-built capability to approximate full field solutions and Lagrangian basis functions as convolution kernels along with evaluations on Gauss quadrature points. To use these features for solving the Poisson's equation, we need to implement two classes:\n",
    "1. A dataset class `DataRectangle` (derived from `torch.utils.Dataset`): to implement the diffusivity, forcing and the boundary conditions.\n",
    "2. An equation class `Poisson` (derived from `DiffNet.DiffNetFEM`): to implement the loss function, training step, optimizer configuration, query step etc.\n",
    "\n",
    "## 3. Imports\n",
    "We begin with few imports"
   ]
  },
  {
   "cell_type": "code",
   "execution_count": 1,
   "metadata": {},
   "outputs": [
    {
     "name": "stderr",
     "output_type": "stream",
     "text": [
      "/work/baskarg/bkhara/python_virtual_envs/lightning/lib/python3.6/site-packages/pandas/compat/__init__.py:120: UserWarning: Could not import the lzma module. Your installed Python is incomplete. Attempting to use lzma compression will result in a RuntimeError.\n",
      "  warnings.warn(msg)\n",
      "Global seed set to 42\n"
     ]
    }
   ],
   "source": [
    "import os\n",
    "import sys\n",
    "import json\n",
    "import math\n",
    "import torch\n",
    "import numpy as np\n",
    "\n",
    "import matplotlib\n",
    "# matplotlib.use(\"pgf\")\n",
    "matplotlib.rcParams.update({\n",
    "    # 'font.family': 'serif',\n",
    "    'font.size':12,\n",
    "})\n",
    "from matplotlib import pyplot as plt\n",
    "\n",
    "from torch.utils import data\n",
    "import pytorch_lightning as pl\n",
    "from pytorch_lightning import Trainer, seed_everything\n",
    "from pytorch_lightning.loggers import TensorBoardLogger\n",
    "seed_everything(42)\n",
    "\n",
    "import DiffNet\n",
    "from DiffNet.networks.wgan import GoodNetwork\n",
    "from DiffNet.networks.wgan_old import GoodGenerator\n",
    "from DiffNet.networks.autoencoders import AE\n",
    "from DiffNet.DiffNetFEM import DiffNet2DFEM\n",
    "\n",
    "from pytorch_lightning.callbacks.base import Callback\n",
    "\n",
    "# Suppress warnings\n",
    "import warnings\n",
    "warnings.filterwarnings(\"ignore\")"
   ]
  },
  {
   "cell_type": "code",
   "execution_count": 2,
   "metadata": {},
   "outputs": [],
   "source": [
    "class OptimSwitchLBFGS(Callback):\n",
    "    def __init__(self, epochs=10):\n",
    "        self.switch_epoch = epochs\n",
    "\n",
    "    def on_epoch_start(self, trainer, pl_module):\n",
    "        if trainer.current_epoch == self.switch_epoch:\n",
    "            opts = [torch.optim.LBFGS(pl_module.network.parameters(), lr=1.0, max_iter=10)]\n",
    "            trainer.optimizers = opts"
   ]
  },
  {
   "cell_type": "markdown",
   "metadata": {},
   "source": [
    "# 4. Dataset class\n",
    "Suppose we discretize the 2D domain into regularly spaced $N\\times N$ grid points (i.e., $(N-1)\\times(N-1)$ finite elements.\n",
    "\n",
    "The `DataRectangle` class holds the given \"input data\" of the equation, i.e., the diffusivity ($\\nu$), forcing ($f$) and the boundary conditions ($u_{\\partial D}$). The important thing to note here is that, since DiffNet is based on full-field calculations, all three of these data need to be stored in tensor format. Specifically, since the current equation is defined on a 2D square domain, we store each of $\\nu$, $f$ and $u_{\\partial D}$ in 2D matrices of size $N\\times N$."
   ]
  },
  {
   "cell_type": "code",
   "execution_count": 3,
   "metadata": {},
   "outputs": [],
   "source": [
    "class DataRectangle(data.Dataset):\n",
    "    'PyTorch dataset for sampling coefficients'\n",
    "    def __init__(self, domain_size=64):\n",
    "        \"\"\"\n",
    "        Initialization\n",
    "        \"\"\"\n",
    "        self.domain = np.ones((domain_size, domain_size))\n",
    "        # bc1 will be source, u will be set to 1 at these locations\n",
    "        self.bc1 = np.zeros((domain_size, domain_size))\n",
    "        # bc2 will be sink, u will be set to 0 at these locations\n",
    "        self.bc2 = np.zeros((domain_size, domain_size))\n",
    "        self.bc2[-1,:] = 1\n",
    "        self.bc2[0,:] = 1\n",
    "        self.bc2[:,0] = 1\n",
    "        self.bc2[:,-1] = 1\n",
    "        self.n_samples = 100\n",
    "        x = np.linspace(0,1,domain_size)\n",
    "        y = np.linspace(0,1,domain_size)\n",
    "        xx, yy = np.meshgrid(x,y)\n",
    "        self.forcing = 2. * math.pi**2 * np.sin(math.pi * xx) * np.sin(math.pi * yy)\n",
    "        \n",
    "\n",
    "    def __len__(self):\n",
    "        'Denotes the total number of samples'\n",
    "        return self.n_samples\n",
    "\n",
    "    def __getitem__(self, index):\n",
    "        'Generates one sample of data'\n",
    "        inputs = np.array([self.domain, self.bc1, self.bc2])\n",
    "        forcing = self.forcing\n",
    "        return torch.FloatTensor(inputs), torch.FloatTensor(forcing).unsqueeze(0)"
   ]
  },
  {
   "cell_type": "markdown",
   "metadata": {},
   "source": [
    "## 5. Equation class\n",
    "\n",
    "Now we need to define the equation class `Poisson` that inherits the `DiffNet.DiffNetFEM` class which in turn inherits the `LightningModule` class from `pytorch_lightning.core`. The main purpose of `Poisson` is to implement the training step and the loss function along with optimizer configurations (if necessary). Let us discuss them one by one:\n",
    "* `training_step`: this function will be called by `PytorchLightning` every training step with an input `batch`. This `batch` represents the data for a minibatch and is obtained by `PytorchLightning` by calling the `__getitem__` function in the `DataRectangle` class.\n",
    "* `loss(u, I, f)`: the loss function can be implemented in many ways, but essentially takes the data of the equation and calculates the loss value. In this implementation `loss` takes the currently predicted field `u` and the other inputs (BC, nu, f). Inside this function, we evaluate the integral $J(u) = \\frac{1}{2} \\int \\nu|\\nabla u|^2 d{\\bf x} - \\int u f d{\\bf x}$. This is an important step and is done as follows:\n",
    "    * Extract `nu` and `bc` from `imputs_tensor`\n",
    "    * Apply the boundary conditions on `u` using the boundary masks (i.e., `bc1` and `bc2` that contain zeros in the interior points, and ones on the boundary points.\n",
    "    * Now we need to evaluate the values in the integrand at the Gauss quadrature points. Given any field `g` on the grid points, we can evaluate `g` on **_all_** the Gauss quadrature points in $D$, by calling `g_GP = self.gauss_pt_evaluation(g)`. The derivatives of `g` can be evaluated on the Gauss points directly by `g_x_GP = self.gauss_pt_evaluation_der_x(g)` and `g_y_GP = self.gauss_pt_evaluation_der_y(g)` for the $x$ and $y$ derivative respectively.\n",
    "    * Once all the integration values are evaluated on the quadrature points, the next step is to simply write down the integration using the quadrature data, exactly as it appears in the loss formula.\n",
    "* Along with the above two functions, some other auxiliary functions can be added to this class as needed, e.g., `do_query`, `plot_contours`, `on_epoch_end` etc.\n",
    "* `on_epoch_end` is called by `PytorchLightning` at the end of each epoch during training. We can plot the current `u` vlaue at the end of each epoch by implementing this function accordingly."
   ]
  },
  {
   "cell_type": "code",
   "execution_count": 4,
   "metadata": {},
   "outputs": [],
   "source": [
    "class Poisson(DiffNet2DFEM):\n",
    "    \"\"\"docstring for Poisson\"\"\"\n",
    "    def __init__(self, network, dataset, **kwargs):\n",
    "        super(Poisson, self).__init__(network, dataset, **kwargs)\n",
    "        x = np.linspace(0,1,self.domain_size)\n",
    "        y = np.linspace(0,1,self.domain_size)\n",
    "        xx, yy = np.meshgrid(x,y)\n",
    "        self.u_exact = torch.tensor(self.exact_solution(xx,yy))\n",
    "\n",
    "    def exact_solution(self, x,y):\n",
    "        return np.sin(math.pi*x)*np.sin(math.pi*y)\n",
    "\n",
    "    def loss(self, u, inputs_tensor, forcing_tensor):\n",
    "\n",
    "        f = forcing_tensor # renaming variable\n",
    "        \n",
    "        # extract diffusivity and boundary conditions here\n",
    "        nu = inputs_tensor[:,0:1,:,:]\n",
    "        bc1 = inputs_tensor[:,1:2,:,:]\n",
    "        bc2 = inputs_tensor[:,2:3,:,:]\n",
    "\n",
    "        # apply boundary conditions\n",
    "        u = torch.where(bc1>0.5,1.0+u*0.0,u)\n",
    "        u = torch.where(bc2>0.5,u*0.0,u)\n",
    "\n",
    "\n",
    "        nu_gp = self.gauss_pt_evaluation(nu)\n",
    "        f_gp = self.gauss_pt_evaluation(f)\n",
    "        u_gp = self.gauss_pt_evaluation(u)\n",
    "        u_x_gp = self.gauss_pt_evaluation_der_x(u)\n",
    "        u_y_gp = self.gauss_pt_evaluation_der_y(u)\n",
    "\n",
    "        transformation_jacobian = self.gpw.unsqueeze(-1).unsqueeze(-1).unsqueeze(0).type_as(nu_gp)\n",
    "        res_elmwise = (transformation_jacobian * (0.5 * nu_gp * (u_x_gp**2 + u_y_gp**2) - (u_gp * f_gp)))\n",
    "        res_elmwise = torch.sum(res_elmwise, 1) \n",
    "\n",
    "        loss = torch.mean(res_elmwise)\n",
    "        return loss\n",
    "\n",
    "    def forward(self, batch):\n",
    "        inputs_tensor, forcing_tensor = batch\n",
    "        return self.network(inputs_tensor), inputs_tensor, forcing_tensor\n",
    "\n",
    "    def training_step(self, batch, batch_idx):\n",
    "        u, inputs_tensor, forcing_tensor = self.forward(batch)\n",
    "        loss_val = self.loss(u, inputs_tensor, forcing_tensor).mean()\n",
    "        return {\"loss\": loss_val}\n",
    "\n",
    "    def training_step_end(self, training_step_outputs):\n",
    "        loss = training_step_outputs[\"loss\"]\n",
    "        return training_step_outputs\n",
    "\n",
    "    def configure_optimizers(self):\n",
    "        lr = self.learning_rate\n",
    "\n",
    "        opts = [torch.optim.Adam(self.network.parameters(), lr=lr)]\n",
    "\n",
    "        schd = [torch.optim.lr_scheduler.ExponentialLR(opts[0], gamma=0.95)]\n",
    "        return opts, schd\n",
    "    \n",
    "    def do_query(self, inputs, forcing):\n",
    "        u, inputs_tensor, forcing_tensor = self.forward((inputs.unsqueeze(0).type_as(next(self.network.parameters())), \n",
    "                                                         forcing.unsqueeze(0).type_as(next(self.network.parameters()))))\n",
    "        \n",
    "        f = forcing_tensor.squeeze().detach().cpu() # renaming variable\n",
    "        \n",
    "        # extract diffusivity and boundary conditions here\n",
    "        nu = inputs_tensor[:,0:1,:,:]\n",
    "        bc1 = inputs_tensor[:,1:2,:,:]\n",
    "        bc2 = inputs_tensor[:,2:3,:,:]        \n",
    "        # process diffusivity\n",
    "        k = nu.squeeze().detach().cpu()\n",
    "\n",
    "        # process u (by adding BC)\n",
    "        u = torch.where(bc1>0.5,1.0+u*0.0,u)\n",
    "        u = torch.where(bc2>0.5,u*0.0,u)        \n",
    "        u = u.squeeze().detach().cpu()\n",
    "        \n",
    "        return u, k, f\n",
    "    \n",
    "    def plot_contours(self,k,f,u,u_exact):\n",
    "        diff = u - u_exact\n",
    "        # plotting        \n",
    "        fig, axs = plt.subplots(1, 5, figsize=(3*5,2),\n",
    "                            subplot_kw={'aspect': 'auto'}, sharex=True, sharey=True, squeeze=True)\n",
    "        for ax in axs:\n",
    "            ax.set_xticks([])\n",
    "            ax.set_yticks([])              \n",
    "        \n",
    "        # print(np.linalg.norm(diff.flatten())/self.domain_size)\n",
    "        im = axs[0].imshow(f,cmap='jet')\n",
    "        fig.colorbar(im, ax=axs[0], ticks=[0.0, 4.0, 8.0, 12.0, 16.0, 20.0]); axs[0].set_title(r'$f$')\n",
    "        im = axs[1].imshow(k,cmap='jet')\n",
    "        fig.colorbar(im, ax=axs[1]); axs[1].set_title(r'$\\nu$')\n",
    "        im = axs[2].imshow(u,cmap='jet', vmin=0.0, vmax=1.0)\n",
    "        fig.colorbar(im, ax=axs[2]); axs[2].set_title(r'$u_{\\theta}$')\n",
    "        im = axs[3].imshow(u_exact,cmap='jet', vmin=0.0, vmax=1.0)\n",
    "        fig.colorbar(im, ax=axs[3]); axs[3].set_title(r'$u_{exact}$')\n",
    "        im = axs[4].imshow(diff,cmap='jet')\n",
    "        fig.colorbar(im, ax=axs[4]); axs[4].set_title(r'$u_{\\theta}-u_{exact}$')\n",
    "        plt.show()\n",
    "\n",
    "    def on_epoch_end(self):\n",
    "        inputs, forcing = self.dataset[0]\n",
    "        u, k, f = self.do_query(inputs, forcing)                \n",
    "        \n",
    "        u_exact = self.u_exact.squeeze().detach().cpu()\n",
    "        diff = u - u_exact\n",
    "        \n",
    "        self.plot_contours(k,f,u,u_exact)"
   ]
  },
  {
   "cell_type": "markdown",
   "metadata": {},
   "source": [
    "## 4. Initializations"
   ]
  },
  {
   "cell_type": "code",
   "execution_count": 5,
   "metadata": {},
   "outputs": [
    {
     "name": "stderr",
     "output_type": "stream",
     "text": [
      "Missing logger folder: ./mms-network\n",
      "GPU available: True, used: False\n",
      "TPU available: False, using: 0 TPU cores\n"
     ]
    }
   ],
   "source": [
    "domain_size = 16\n",
    "\n",
    "u_tensor = np.ones((1,1,domain_size,domain_size))\n",
    "network = AE(in_channels=3, out_channels=1, dims=16, n_downsample=3)\n",
    "# network = GoodNetwork(in_channels=3, out_channels=1, in_dim=domain_size, out_dim=domain_size, lowest_dim=4, filters=32)\n",
    "# network = GoodGenerator()\n",
    "dataset = DataRectangle(domain_size=domain_size)\n",
    "basecase = Poisson(network, dataset, batch_size=1, domain_size=domain_size, learning_rate=3e-4)\n",
    "\n",
    "# ------------------------\n",
    "# 1 INIT TRAINER\n",
    "# ------------------------\n",
    "logger = pl.loggers.TensorBoardLogger('.', name=\"mms-network\")\n",
    "csv_logger = pl.loggers.CSVLogger(logger.save_dir, name=logger.name, version=logger.version)\n",
    "\n",
    "checkpoint = pl.callbacks.model_checkpoint.ModelCheckpoint(monitor='loss',\n",
    "    dirpath=logger.log_dir, filename='{epoch}-{step}',\n",
    "    mode='min', save_last=True)\n",
    "\n",
    "lbfgs_switch = OptimSwitchLBFGS(epochs=1)\n",
    "\n",
    "trainer = Trainer(callbacks=[lbfgs_switch],\n",
    "    checkpoint_callback=checkpoint, precision=64, logger=[logger,csv_logger],\n",
    "    max_epochs=5, deterministic=True, profiler=\"simple\")"
   ]
  },
  {
   "cell_type": "markdown",
   "metadata": {},
   "source": [
    "## 5. Training\n"
   ]
  },
  {
   "cell_type": "code",
   "execution_count": 6,
   "metadata": {},
   "outputs": [
    {
     "name": "stderr",
     "output_type": "stream",
     "text": [
      "\n",
      "  | Name      | Type          | Params\n",
      "--------------------------------------------\n",
      "0 | network   | AE            | 660 K \n",
      "1 | N_gp      | ParameterList | 16    \n",
      "2 | dN_x_gp   | ParameterList | 16    \n",
      "3 | dN_y_gp   | ParameterList | 16    \n",
      "4 | d2N_x_gp  | ParameterList | 16    \n",
      "5 | d2N_y_gp  | ParameterList | 16    \n",
      "6 | d2N_xy_gp | ParameterList | 16    \n",
      "--------------------------------------------\n",
      "660 K     Trainable params\n",
      "96        Non-trainable params\n",
      "661 K     Total params\n",
      "5.288     Total estimated model params size (MB)\n"
     ]
    },
    {
     "name": "stdout",
     "output_type": "stream",
     "text": [
      "                                           "
     ]
    },
    {
     "name": "stderr",
     "output_type": "stream",
     "text": [
      "Global seed set to 42\n"
     ]
    },
    {
     "name": "stdout",
     "output_type": "stream",
     "text": [
      "Epoch 0: 100%|██████████| 100/100 [00:02<00:00, 35.28it/s, loss=-9.68, v_num=0_0]"
     ]
    },
    {
     "data": {
      "image/png": "[encoded data removed]",
      "text/plain": [
       "<Figure size 1080x144 with 10 Axes>"
      ]
     },
     "metadata": {
      "needs_background": "light"
     },
     "output_type": "display_data"
    },
    {
     "name": "stdout",
     "output_type": "stream",
     "text": [
      "Epoch 1: 100%|██████████| 100/100 [00:13<00:00,  7.36it/s, loss=-9.69, v_num=0_0]"
     ]
    },
    {
     "data": {
      "image/png": "[encoded data removed]",
      "text/plain": [
       "<Figure size 1080x144 with 10 Axes>"
      ]
     },
     "metadata": {
      "needs_background": "light"
     },
     "output_type": "display_data"
    },
    {
     "name": "stdout",
     "output_type": "stream",
     "text": [
      "Epoch 2: 100%|██████████| 100/100 [00:11<00:00,  8.94it/s, loss=-9.69, v_num=0_0]"
     ]
    },
    {
     "data": {
      "image/png": "[encoded data removed]",
      "text/plain": [
       "<Figure size 1080x144 with 10 Axes>"
      ]
     },
     "metadata": {
      "needs_background": "light"
     },
     "output_type": "display_data"
    },
    {
     "name": "stdout",
     "output_type": "stream",
     "text": [
      "Epoch 3: 100%|██████████| 100/100 [00:11<00:00,  8.98it/s, loss=-9.69, v_num=0_0]"
     ]
    },
    {
     "data": {
      "image/png": "[encoded data removed]",
      "text/plain": [
       "<Figure size 1080x144 with 10 Axes>"
      ]
     },
     "metadata": {
      "needs_background": "light"
     },
     "output_type": "display_data"
    },
    {
     "name": "stdout",
     "output_type": "stream",
     "text": [
      "Epoch 4: 100%|██████████| 100/100 [00:11<00:00,  9.00it/s, loss=-9.69, v_num=0_0]"
     ]
    },
    {
     "data": {
      "image/png": "[encoded data removed]",
      "text/plain": [
       "<Figure size 1080x144 with 10 Axes>"
      ]
     },
     "metadata": {
      "needs_background": "light"
     },
     "output_type": "display_data"
    },
    {
     "name": "stdout",
     "output_type": "stream",
     "text": [
      "\r",
      "Epoch 4: 100%|██████████| 100/100 [00:11<00:00,  8.58it/s, loss=-9.69, v_num=0_0]"
     ]
    },
    {
     "name": "stderr",
     "output_type": "stream",
     "text": [
      "FIT Profiler Report\n",
      "\n",
      "Action                             \t|  Mean duration (s)\t|Num calls      \t|  Total time (s) \t|  Percentage %   \t|\n",
      "--------------------------------------------------------------------------------------------------------------------------------------\n",
      "Total                              \t|  -              \t|_              \t|  53.086         \t|  100 %          \t|\n",
      "--------------------------------------------------------------------------------------------------------------------------------------\n",
      "run_training_epoch                 \t|  10.591         \t|5              \t|  52.955         \t|  99.753         \t|\n",
      "run_training_batch                 \t|  0.096507       \t|500            \t|  48.253         \t|  90.897         \t|\n",
      "optimizer_step_and_closure_0       \t|  0.096129       \t|500            \t|  48.065         \t|  90.541         \t|\n",
      "training_step_and_backward         \t|  0.012193       \t|539            \t|  6.5719         \t|  12.38          \t|\n",
      "model_forward                      \t|  0.0059326      \t|539            \t|  3.1976         \t|  6.0235         \t|\n",
      "on_epoch_end                       \t|  0.61833        \t|5              \t|  3.0917         \t|  5.8239         \t|\n",
      "training_step                      \t|  0.0057165      \t|539            \t|  3.0812         \t|  5.8042         \t|\n",
      "backward                           \t|  0.0054415      \t|539            \t|  2.933          \t|  5.5249         \t|\n",
      "on_train_batch_end                 \t|  0.002652       \t|500            \t|  1.326          \t|  2.4978         \t|\n",
      "get_train_batch                    \t|  0.00021274     \t|500            \t|  0.10637        \t|  0.20038        \t|\n",
      "cache_result                       \t|  1.1098e-05     \t|2102           \t|  0.023328       \t|  0.043943       \t|\n",
      "on_train_epoch_start               \t|  0.0043847      \t|5              \t|  0.021924       \t|  0.041299       \t|\n",
      "on_after_backward                  \t|  2.09e-05       \t|539            \t|  0.011265       \t|  0.02122        \t|\n",
      "on_batch_end                       \t|  1.9107e-05     \t|500            \t|  0.0095535      \t|  0.017996       \t|\n",
      "on_batch_start                     \t|  1.6718e-05     \t|500            \t|  0.008359       \t|  0.015746       \t|\n",
      "on_before_zero_grad                \t|  1.5083e-05     \t|539            \t|  0.0081298      \t|  0.015314       \t|\n",
      "on_train_batch_start               \t|  1.1421e-05     \t|500            \t|  0.0057106      \t|  0.010757       \t|\n",
      "training_step_end                  \t|  1.0154e-05     \t|539            \t|  0.0054732      \t|  0.01031        \t|\n",
      "on_train_end                       \t|  0.0032147      \t|1              \t|  0.0032147      \t|  0.0060557      \t|\n",
      "on_train_start                     \t|  0.001538       \t|1              \t|  0.001538       \t|  0.0028971      \t|\n",
      "on_train_epoch_end                 \t|  0.00017871     \t|5              \t|  0.00089354     \t|  0.0016832      \t|\n",
      "on_epoch_start                     \t|  7.8088e-05     \t|5              \t|  0.00039044     \t|  0.00073549     \t|\n",
      "on_fit_start                       \t|  1.6322e-05     \t|1              \t|  1.6322e-05     \t|  3.0746e-05     \t|\n",
      "on_train_dataloader                \t|  1.125e-05      \t|1              \t|  1.125e-05      \t|  2.1192e-05     \t|\n",
      "on_before_accelerator_backend_setup\t|  8.311e-06      \t|1              \t|  8.311e-06      \t|  1.5656e-05     \t|\n",
      "\n"
     ]
    },
    {
     "name": "stdout",
     "output_type": "stream",
     "text": [
      "\n"
     ]
    }
   ],
   "source": [
    "trainer.fit(basecase)\n",
    "\n",
    "# ------------------------\n",
    "# 5 SAVE NETWORK\n",
    "# ------------------------\n",
    "torch.save(basecase.network, os.path.join(logger.log_dir, 'network.pt'))"
   ]
  },
  {
   "cell_type": "markdown",
   "metadata": {},
   "source": [
    "## 6. Query"
   ]
  },
  {
   "cell_type": "code",
   "execution_count": 7,
   "metadata": {},
   "outputs": [
    {
     "name": "stdout",
     "output_type": "stream",
     "text": [
      "J =  0.0011111111111111111\n",
      "usol.shape = (16, 16)\n",
      "uex.shape = (16, 16)\n",
      "||u_sol||, ||uex|| =  0.4945449614574405 0.4999999999999998\n",
      "||e||_{{L2}} =  0.005456027405920597\n",
      "||e|| (vector-norm) =  0.0017121349800281083\n"
     ]
    },
    {
     "data": {
      "image/png": "[encoded data removed]",
      "text/plain": [
       "<Figure size 1080x144 with 10 Axes>"
      ]
     },
     "metadata": {
      "needs_background": "light"
     },
     "output_type": "display_data"
    }
   ],
   "source": [
    "basecase.dataset[0]\n",
    "inputs, forcing = basecase.dataset[0]\n",
    "u, k, f = basecase.do_query(inputs, forcing) \n",
    "u_exact = basecase.u_exact.squeeze().detach().cpu()\n",
    "# L2 error calculation\n",
    "basecase.calc_l2_err(u.numpy())\n",
    "# plot\n",
    "basecase.plot_contours(k,f,u,u_exact)"
   ]
  },
  {
   "cell_type": "code",
   "execution_count": null,
   "metadata": {},
   "outputs": [],
   "source": []
  }
 ],
 "metadata": {
  "kernelspec": {
   "display_name": "Python 3",
   "language": "python",
   "name": "python3"
  },
  "language_info": {
   "codemirror_mode": {
    "name": "ipython",
    "version": 3
   },
   "file_extension": ".py",
   "mimetype": "text/x-python",
   "name": "python",
   "nbconvert_exporter": "python",
   "pygments_lexer": "ipython3",
   "version": "3.6.3"
  }
 },
 "nbformat": 4,
 "nbformat_minor": 4
}
