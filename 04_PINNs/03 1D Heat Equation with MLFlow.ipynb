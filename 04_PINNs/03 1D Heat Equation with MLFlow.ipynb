{
 "cells": [
  {
   "cell_type": "markdown",
   "metadata": {},
   "source": [
    "# Physics Informed Neural Networks (PINNs) for 1D Heat Equation\n",
    "\n",
    "## 1. Introduction\n",
    "In this workbook, we would be training a physics informed neural network model for 1D Heat equation. In specific, we will solve:\n",
    "\n",
    "$\\frac{\\partial{u}}{\\partial{t}} - \\nu\\nabla^{2} u(x) = f(x,t)$, where $x \\in [-1,1]$, and $t \\in (0,1]$\n",
    "\n",
    "\n",
    "We will use the concept of PINNs, where the input to the neural network is $x, t$ and the output of the network is $u(x,t)$. Loss function is evaluated by enforcing the PDE and the boundary conditions.\n",
    "\n",
    "Physics informed neural networks is made of a dense neural network that takes in the $(x,t)$ points in the domain and learns the physics from it using PDEs such as the one just above. \n",
    "\n",
    "The architecture of the network looks something like this:\n",
    "\n",
    "![](https://www.researchgate.net/profile/Zhen-Li-105/publication/335990167/figure/fig1/AS:806502679982080@1569296631121/Schematic-of-a-physics-informed-neural-network-PINN-where-the-loss-function-of-PINN.ppm)\n",
    "\n",
    "We will use the concept of PINNs, where the input to the neural network is $(x, t)$ and the output of the network is $u(x,t)$. Loss function is evaluated by enforcing the PDE and the boundary conditions.\n",
    "\n",
    "We will begin the workbook with few imports and creating some helper functions\n",
    "\n",
    "## 2. Imports and helper functions\n",
    "\n",
    "* **deepxde**    - library for solving forward and inverse problems using PINNs\n",
    "* **numpy**      - library for working multi-dimensional arrays and matrices\n",
    "* **matplotlib** - library for data visualization"
   ]
  },
  {
   "cell_type": "code",
   "execution_count": 20,
   "metadata": {},
   "outputs": [],
   "source": [
    "import os\n",
    "import deepxde as dde\n",
    "import numpy as np\n",
    "# Backend tensorflow.compat.v1 or tensorflow\n",
    "from deepxde.backend import tf\n",
    "import time \n",
    "import matplotlib.pyplot as plt\n",
    "t0 = time.time()\n",
    "\n",
    "# Suppress warnings\n",
    "import warnings\n",
    "warnings.filterwarnings(\"ignore\")\n",
    "\n",
    "import mlflow\n",
    "import shutil\n",
    "import tempfile\n",
    "import mlflow.tensorflow\n",
    "import pandas as pd\n",
    "import tensorflow as tf\n",
    "from mlflow import pyfunc\n",
    "\n",
    "# Setting a tracking uri to log the mlflow logs in a particular location tracked by \n",
    "from mlflow.tracking import MlflowClient\n",
    "tracking_uri = os.environ.get(\"TRACKING_URL\")\n",
    "client = MlflowClient(tracking_uri=tracking_uri)\n",
    "mlflow.set_tracking_uri(tracking_uri)\n",
    "\n",
    "# Setting a tracking project experiment name to keep the experiments organized\n",
    "experiments = client.list_experiments()\n",
    "experiment_names = []\n",
    "for exp in experiments:\n",
    "    experiment_names.append(exp.name)\n",
    "experiment_name = \"pinn_deployment\"\n",
    "if experiment_name not in experiment_names:\n",
    "    mlflow.create_experiment(experiment_name)\n",
    "mlflow.set_experiment(experiment_name)\n",
    "mlflow.tensorflow.autolog()"
   ]
  },
  {
   "cell_type": "markdown",
   "metadata": {},
   "source": [
    "## Helper function to plot $u(x,t)$"
   ]
  },
  {
   "cell_type": "code",
   "execution_count": 21,
   "metadata": {},
   "outputs": [],
   "source": [
    "def plot(geom_time,data,name):\n",
    "    plt.figure()\n",
    "    plt.scatter(geom_time[:,0], geom_time[:,1],s = 20, c=np.reshape(data, (len(data),)), cmap='jet')\n",
    "    plt.colorbar()\n",
    "    plt.xlabel('x domain')\n",
    "    plt.ylabel('time domain')\n",
    "    plt.title(name)\n",
    "    plt.show()"
   ]
  },
  {
   "cell_type": "markdown",
   "metadata": {},
   "source": [
    "## Functions used to calcuate neural network loss\n",
    "\n",
    "PDE: $pde(x,y) : \\frac{\\partial{u}}{\\partial{t}} - \\nu\\nabla^{2} u(x) =0$, where $\\nu = 0.3$ \n",
    "\n",
    "Boundary conditions $func(x): \\sin(\\pi x)e^{x}$\n",
    "\n",
    "Deepxde provides help functions to compute first and second derivatives\n",
    "\n",
    "_dde.grad.jacobian_ is used to compute Jacobian matrix $J: J[i][j] = \\frac{dy_i}{dx_j}$, where $i,j=0,…,dim_x-1$\n",
    "\n",
    "_dde.grad.Hessian_ is used to compute Hessian matrix $H: H[i][j] = \\frac{d^2y}{dx_i dx_j}$, where $i,j=0,…,dim_x-1$"
   ]
  },
  {
   "cell_type": "code",
   "execution_count": 22,
   "metadata": {},
   "outputs": [],
   "source": [
    "# define the PDE for 1D Heat equations\n",
    "def pde(x, y):\n",
    "    dy_t = dde.grad.jacobian(y, x, j=1)\n",
    "    dy_xx = dde.grad.hessian(y, x, j=0)\n",
    "\n",
    "    return (\n",
    "        dy_t\n",
    "        - dy_xx*0.3)\n",
    "    \n",
    "\n",
    "def func(x):\n",
    "    return np.sin(np.pi * x[:, 0:1]) * np.exp(-x[:, 1:])"
   ]
  },
  {
   "cell_type": "markdown",
   "metadata": {},
   "source": [
    "## 2. initialization\n",
    "Define geometry and time horizons for simulation"
   ]
  },
  {
   "cell_type": "code",
   "execution_count": 23,
   "metadata": {},
   "outputs": [],
   "source": [
    "geom = dde.geometry.Interval(-1, 1)\n",
    "timedomain = dde.geometry.TimeDomain(0, 1)\n",
    "geomtime = dde.geometry.GeometryXTime(geom, timedomain)"
   ]
  },
  {
   "cell_type": "markdown",
   "metadata": {},
   "source": [
    "Define boundary conditions and initial conditions"
   ]
  },
  {
   "cell_type": "code",
   "execution_count": 24,
   "metadata": {},
   "outputs": [],
   "source": [
    "bc = dde.DirichletBC(geomtime, func, lambda _, on_boundary: on_boundary)\n",
    "ic = dde.IC(geomtime, func, lambda _, on_initial: on_initial)"
   ]
  },
  {
   "cell_type": "markdown",
   "metadata": {},
   "source": [
    "Create data points needed for building the model"
   ]
  },
  {
   "cell_type": "code",
   "execution_count": 25,
   "metadata": {},
   "outputs": [
    {
     "name": "stdout",
     "output_type": "stream",
     "text": [
      "Warning: 1000 points required, but 1035 points sampled.\n"
     ]
    }
   ],
   "source": [
    "data = dde.data.TimePDE(\n",
    "    geomtime,\n",
    "    pde,\n",
    "    [bc, ic],\n",
    "    num_domain=4000,\n",
    "    num_boundary=2000,\n",
    "    num_initial=1000,\n",
    "    solution=func,\n",
    "    num_test=1000,\n",
    ")"
   ]
  },
  {
   "cell_type": "markdown",
   "metadata": {},
   "source": [
    "### Steps in building the model \n",
    "\n",
    "- Define the number of layers and neurons per layer in the neural network\n",
    "- Define activation function on these layers _tanh_\n",
    "- Define function for initial weights for training _Glorot uniform_\n",
    "- Train the network using Adam optimizer with learning rate of 0.001"
   ]
  },
  {
   "cell_type": "code",
   "execution_count": 26,
   "metadata": {},
   "outputs": [
    {
     "name": "stdout",
     "output_type": "stream",
     "text": [
      "Compiling model...\n",
      "Building feed-forward neural network...\n",
      "'build' took 0.047724 s\n",
      "\n",
      "'compile' took 0.390208 s\n",
      "\n"
     ]
    }
   ],
   "source": [
    "layer_size = [2] + [32] * 3 + [1]\n",
    "\n",
    "activation = \"tanh\"\n",
    "initializer = \"Glorot uniform\"\n",
    "\n",
    "net = dde.maps.FNN(layer_size, activation, initializer)\n",
    "model = dde.Model(data, net)\n",
    "model.compile(\"adam\", lr=0.001, metrics=[\"l2 relative error\"])"
   ]
  },
  {
   "cell_type": "markdown",
   "metadata": {},
   "source": [
    "## 3. Training\n"
   ]
  },
  {
   "cell_type": "code",
   "execution_count": null,
   "metadata": {},
   "outputs": [
    {
     "name": "stdout",
     "output_type": "stream",
     "text": [
      "Initializing variables...\n",
      "Training model...\n",
      "\n",
      "Step      Train loss                        Test loss                         Test metric   \n",
      "0         [1.13e-01, 9.24e-02, 6.92e-01]    [1.11e-01, 9.24e-02, 6.92e-01]    [1.32e+00]    \n"
     ]
    }
   ],
   "source": [
    "t1 = time.time()\n",
    "\n",
    "losshistory, train_state = model.train(epochs=3000)\n",
    "\n",
    "t2 = time.time()\n",
    "print(\"training time:\",(t2-t1))"
   ]
  },
  {
   "cell_type": "markdown",
   "metadata": {},
   "source": [
    "## 4. Post-training Visualization"
   ]
  },
  {
   "cell_type": "code",
   "execution_count": null,
   "metadata": {},
   "outputs": [],
   "source": [
    "model.save('./pinn_heat1d', protocol='tf.train.Saver', verbose=0)\n",
    "dde.postprocessing.plot_loss_history(losshistory)\n",
    "plt.show()\n",
    "\n",
    "\n",
    "x_data = np.linspace(-1,1,num = 100)\n",
    "t_data = np.linspace(0,1,num = 100)\n",
    "test_x , test_t = np.meshgrid(x_data, t_data)\n",
    "test_domain = np.vstack((np.ravel(test_x), np.ravel(test_t))).T\n",
    "predicted_solution = model.predict(test_domain)\n",
    "residual = model.predict(test_domain,operator=pde)\n",
    "\n",
    "\n",
    "\n",
    "plot(test_domain,predicted_solution,\"predicted solution\")\n",
    "\n",
    "\n",
    "plot(test_domain,residual,\"residual\")\n",
    "\n",
    "\n",
    "print(\"total time\")\n",
    "print(t2-t0)"
   ]
  },
  {
   "cell_type": "code",
   "execution_count": null,
   "metadata": {},
   "outputs": [],
   "source": []
  }
 ],
 "metadata": {
  "kernelspec": {
   "display_name": "Python 3 (ipykernel)",
   "language": "python",
   "name": "python3"
  },
  "language_info": {
   "codemirror_mode": {
    "name": "ipython",
    "version": 3
   },
   "file_extension": ".py",
   "mimetype": "text/x-python",
   "name": "python",
   "nbconvert_exporter": "python",
   "pygments_lexer": "ipython3",
   "version": "3.7.11"
  }
 },
 "nbformat": 4,
 "nbformat_minor": 4
}
