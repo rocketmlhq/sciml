{
 "cells": [
  {
   "cell_type": "markdown",
   "metadata": {},
   "source": [
    "# Physics Informed Neural Networks (PINNs) for 1D Heat Equation\n",
    "\n",
    "## 1. Introduction\n",
    "In this workbook, we would be training a physics informed neural network model for 1D Heat equation. In specific, we will solve:\n",
    "\n",
    "$\\frac{\\partial{u}}{\\partial{t}} - \\nu\\nabla^{2} u(x) = f(x,t)$, where $x \\in [-1,1]$, and $t \\in (0,1]$\n",
    "\n",
    "\n",
    "We will use the concept of PINNs, where the input to the neural network is $x, t$ and the output of the network is $u(x,t)$. Loss function is evaluated by enforcing the PDE and the boundary conditions.\n",
    "\n",
    "Physics informed neural networks is made of a dense neural network that takes in the $(x,t)$ points in the domain and learns the physics from it using PDEs such as the one just above. \n",
    "\n",
    "The architecture of the network looks something like this:\n",
    "\n",
    "![](https://www.researchgate.net/profile/Zhen-Li-105/publication/335990167/figure/fig1/AS:806502679982080@1569296631121/Schematic-of-a-physics-informed-neural-network-PINN-where-the-loss-function-of-PINN.ppm)\n",
    "\n",
    "We will use the concept of PINNs, where the input to the neural network is $(x, t)$ and the output of the network is $u(x,t)$. Loss function is evaluated by enforcing the PDE and the boundary conditions.\n",
    "\n",
    "We will begin the workbook with few imports and creating some helper functions\n",
    "\n",
    "## 2. Imports and helper functions\n",
    "\n",
    "* **deepxde**    - library for solving forward and inverse problems using PINNs\n",
    "* **numpy**      - library for working multi-dimensional arrays and matrices\n",
    "* **matplotlib** - library for data visualization"
   ]
  },
  {
   "cell_type": "code",
   "execution_count": 1,
   "metadata": {},
   "outputs": [
    {
     "name": "stderr",
     "output_type": "stream",
     "text": [
      "Using backend: tensorflow.compat.v1\n",
      "\n",
      "2021-11-15 03:26:03.225209: W tensorflow/stream_executor/platform/default/dso_loader.cc:64] Could not load dynamic library 'libcudart.so.11.0'; dlerror: libcudart.so.11.0: cannot open shared object file: No such file or directory\n",
      "2021-11-15 03:26:03.225246: I tensorflow/stream_executor/cuda/cudart_stub.cc:29] Ignore above cudart dlerror if you do not have a GPU set up on your machine.\n"
     ]
    },
    {
     "name": "stdout",
     "output_type": "stream",
     "text": [
      "WARNING:tensorflow:From /miniconda/lib/python3.7/site-packages/tensorflow/python/compat/v2_compat.py:101: disable_resource_variables (from tensorflow.python.ops.variable_scope) is deprecated and will be removed in a future version.\n",
      "Instructions for updating:\n",
      "non-resource variables are not supported in the long term\n",
      "WARNING:tensorflow:From /miniconda/lib/python3.7/site-packages/deepxde/nn/initializers.py:120: The name tf.keras.initializers.he_normal is deprecated. Please use tf.compat.v1.keras.initializers.he_normal instead.\n",
      "\n"
     ]
    }
   ],
   "source": [
    "import os\n",
    "import deepxde as dde\n",
    "import numpy as np\n",
    "# Backend tensorflow.compat.v1 or tensorflow\n",
    "from deepxde.backend import tf\n",
    "import time \n",
    "import matplotlib.pyplot as plt\n",
    "t0 = time.time()\n",
    "\n",
    "# Suppress warnings\n",
    "import warnings\n",
    "warnings.filterwarnings(\"ignore\")\n",
    "\n",
    "import mlflow\n",
    "import shutil\n",
    "import tempfile"
   ]
  },
  {
   "cell_type": "markdown",
   "metadata": {
    "tags": []
   },
   "source": [
    "## MLflow for experiment tracking and model deployment\n",
    "\n",
    "MLflow is an open source platform for managing the end-to-end machine learning lifecycle. It tackles four primary functions:\n",
    "\n",
    "- Tracking experiments to record and compare parameters and results (MLflow Tracking).\n",
    "- Managing and deploying models from a variety of ML libraries to a variety of model serving and inference platforms (MLflow Models).\n",
    "- Providing a central model store to collaboratively manage the full lifecycle of an MLflow Model, including model versioning, stage transitions, and annotations (MLflow Model Registry).\n",
    "\n",
    "More information [here](https://www.mlflow.org/docs/latest/index.html#)\n",
    "\n",
    "\n",
    "\n",
    "![image.png](https://www.mlflow.org/docs/latest/_images/scenario_4.png)\n",
    "\n",
    "- localhost maps to the server on which the current notebook is running\n",
    "\n",
    "- Tracking server maps to the server at environment variable `TRACKING_URL` that can be printed using `os.environ.get(\"TRACKING_URL\")`\n",
    "\n",
    "- Create an mlflow client that communicates with the tracking server"
   ]
  },
  {
   "cell_type": "code",
   "execution_count": 2,
   "metadata": {},
   "outputs": [],
   "source": [
    "from mlflow import pyfunc\n",
    "\n",
    "# Setting a tracking uri to log the mlflow logs in a particular location tracked by \n",
    "from mlflow.tracking import MlflowClient\n",
    "tracking_uri = os.environ.get(\"TRACKING_URL\")\n",
    "client = MlflowClient(tracking_uri=tracking_uri)\n",
    "mlflow.set_tracking_uri(tracking_uri)"
   ]
  },
  {
   "cell_type": "markdown",
   "metadata": {
    "jp-MarkdownHeadingCollapsed": true,
    "tags": []
   },
   "source": [
    "## Create an experiment in mlflow database using mlflow client\n",
    "\n",
    "- Get the list of all the experiments (Click on **Experiments** tab on the sidebar to see the list)\n",
    "- Create a new experiment named *numpy_deployment* if it doesn't exist\n",
    "- Set *numpy_deployment* as the new experiment under which different **runs** are tracked"
   ]
  },
  {
   "cell_type": "markdown",
   "metadata": {
    "tags": []
   },
   "source": [
    "## MLflow Entity Hierarchy\n",
    "\n",
    "- Experiment 1\n",
    "    - Run 1\n",
    "        - Parameters\n",
    "        - Metrics\n",
    "        - Artifacts\n",
    "            - Folder 1\n",
    "                - File 1\n",
    "                - File 2\n",
    "            - Folder 2 \n",
    "    - Run 2\n",
    "    - Run 3\n",
    "\n",
    "- Experiment 2\n",
    "- Experiment 3        "
   ]
  },
  {
   "cell_type": "code",
   "execution_count": 3,
   "metadata": {},
   "outputs": [],
   "source": [
    "# Setting a tracking project experiment name to keep the experiments organized\n",
    "experiments = client.list_experiments()\n",
    "experiment_names = []\n",
    "for exp in experiments:\n",
    "    experiment_names.append(exp.name)\n",
    "experiment_name = \"pinn_deployment\"\n",
    "if experiment_name not in experiment_names:\n",
    "    mlflow.create_experiment(experiment_name)\n",
    "mlflow.set_experiment(experiment_name)\n"
   ]
  },
  {
   "cell_type": "markdown",
   "metadata": {
    "tags": []
   },
   "source": [
    "## Python Class for inference\n",
    "\n",
    "- ModelWrapper is derived from mlflow.pyfunc.PythonModel [more info](https://www.mlflow.org/docs/latest/python_api/mlflow.pyfunc.html)\n",
    "- load_context() member function is used to load the model. In this case, it loads a keras trained model which can be loaded.\n",
    "- predict member function takes a numpy array as input and outputs another numpy array\n",
    "- An object of this class will be saved as a pickle file in blob storage"
   ]
  },
  {
   "cell_type": "code",
   "execution_count": 4,
   "metadata": {},
   "outputs": [],
   "source": [
    "## Model Wrapper that takes \n",
    "class ModelWrapper(mlflow.pyfunc.PythonModel):\n",
    "    def load_context(self,context):\n",
    "        import numpy as np\n",
    "        import tensorflow as tf\n",
    "        import deepxde as dde\n",
    "        \n",
    "        def pde(x, y):\n",
    "            dy_t = dde.grad.jacobian(y, x, j=1)\n",
    "            dy_xx = dde.grad.hessian(y, x, j=0)\n",
    "\n",
    "            return (\n",
    "                dy_t\n",
    "                - dy_xx*0.3)\n",
    "\n",
    "\n",
    "        def func(x):\n",
    "            return np.sin(np.pi * x[:, 0:1]) * np.exp(-x[:, 1:])\n",
    "\n",
    "        geom = dde.geometry.Interval(-1, 1)\n",
    "        timedomain = dde.geometry.TimeDomain(0, 1)\n",
    "        geomtime = dde.geometry.GeometryXTime(geom, timedomain)\n",
    "        bc = dde.DirichletBC(geomtime, func, lambda _, on_boundary: on_boundary)\n",
    "        ic = dde.IC(geomtime, func, lambda _, on_initial: on_initial)\n",
    "        data = dde.data.TimePDE(\n",
    "            geomtime,\n",
    "            pde,\n",
    "            [bc, ic],\n",
    "            num_domain=1,\n",
    "            num_boundary=1,\n",
    "            num_initial=1,\n",
    "            solution=func,\n",
    "            num_test=1,\n",
    "        )\n",
    "        layer_size = [2] + [32] * 3 + [1]\n",
    "        activation = \"tanh\"\n",
    "        initializer = \"Glorot uniform\"\n",
    "        net = dde.maps.FNN(layer_size, activation, initializer)\n",
    "        model = dde.Model(data, net)\n",
    "        model.compile(\"adam\", lr=0.001, metrics=[\"l2 relative error\"])\n",
    "        model.restore(context.artifacts[\"model_path\"]+'/model-100')\n",
    "        self.model = model\n",
    "        print(\"Model initialized\")\n",
    "    \n",
    "    def predict(self, context, model_input):\n",
    "        import numpy as np\n",
    "        import pandas as pd\n",
    "        import json\n",
    "        data_list = model_input.values\n",
    "        inputs = np.array(data_list)\n",
    "        if len(inputs.shape) == 2:\n",
    "            print('batch inference')\n",
    "            predictions = self.model.predict(inputs)\n",
    "            predictions = predictions.tolist()\n",
    "        elif len(inputs.shape) == 1:\n",
    "            print('single inference')\n",
    "            predictions = self.model.predict(np.expand_dims(inputs,0))\n",
    "            predictions = predictions.tolist()\n",
    "        else:\n",
    "            raise ValueError('invalid input shape')\n",
    "        return json.dumps(predictions)"
   ]
  },
  {
   "cell_type": "markdown",
   "metadata": {},
   "source": [
    "## Helper function to plot $u(x,t)$"
   ]
  },
  {
   "cell_type": "code",
   "execution_count": 5,
   "metadata": {},
   "outputs": [],
   "source": [
    "def plot(geom_time,data,name):\n",
    "    plt.figure()\n",
    "    plt.scatter(geom_time[:,0], geom_time[:,1],s = 20, c=np.reshape(data, (len(data),)), cmap='jet')\n",
    "    plt.colorbar()\n",
    "    plt.xlabel('x domain')\n",
    "    plt.ylabel('time domain')\n",
    "    plt.title(name)\n",
    "    plt.show()"
   ]
  },
  {
   "cell_type": "markdown",
   "metadata": {},
   "source": [
    "## Functions used to calcuate neural network loss\n",
    "\n",
    "PDE: $pde(x,y) : \\frac{\\partial{u}}{\\partial{t}} - \\nu\\nabla^{2} u(x) =0$, where $\\nu = 0.3$ \n",
    "\n",
    "Boundary conditions $func(x): \\sin(\\pi x)e^{x}$\n",
    "\n",
    "Deepxde provides help functions to compute first and second derivatives\n",
    "\n",
    "_dde.grad.jacobian_ is used to compute Jacobian matrix $J: J[i][j] = \\frac{dy_i}{dx_j}$, where $i,j=0,…,dim_x-1$\n",
    "\n",
    "_dde.grad.Hessian_ is used to compute Hessian matrix $H: H[i][j] = \\frac{d^2y}{dx_i dx_j}$, where $i,j=0,…,dim_x-1$"
   ]
  },
  {
   "cell_type": "code",
   "execution_count": 6,
   "metadata": {},
   "outputs": [],
   "source": [
    "# define the PDE for 1D Heat equations\n",
    "def pde(x, y):\n",
    "    dy_t = dde.grad.jacobian(y, x, j=1)\n",
    "    dy_xx = dde.grad.hessian(y, x, j=0)\n",
    "\n",
    "    return (\n",
    "        dy_t\n",
    "        - dy_xx*0.3)\n",
    "    \n",
    "\n",
    "def func(x):\n",
    "    return np.sin(np.pi * x[:, 0:1]) * np.exp(-x[:, 1:])"
   ]
  },
  {
   "cell_type": "markdown",
   "metadata": {},
   "source": [
    "## 2. model instantiation\n",
    "Define the model for training PINN"
   ]
  },
  {
   "cell_type": "code",
   "execution_count": 7,
   "metadata": {},
   "outputs": [
    {
     "name": "stdout",
     "output_type": "stream",
     "text": [
      "Warning: 1000 points required, but 1035 points sampled.\n",
      "Compiling model...\n",
      "Building feed-forward neural network...\n",
      "'build' took 0.046276 s\n",
      "\n"
     ]
    },
    {
     "name": "stderr",
     "output_type": "stream",
     "text": [
      "2021-11-15 03:26:07.067776: W tensorflow/stream_executor/platform/default/dso_loader.cc:64] Could not load dynamic library 'libcuda.so.1'; dlerror: libcuda.so.1: cannot open shared object file: No such file or directory\n",
      "2021-11-15 03:26:07.067810: W tensorflow/stream_executor/cuda/cuda_driver.cc:269] failed call to cuInit: UNKNOWN ERROR (303)\n",
      "2021-11-15 03:26:07.067849: I tensorflow/stream_executor/cuda/cuda_diagnostics.cc:156] kernel driver does not appear to be running on this host (knrphwgg-6889997f5d-w24t4): /proc/driver/nvidia/version does not exist\n",
      "2021-11-15 03:26:07.068181: I tensorflow/core/platform/cpu_feature_guard.cc:142] This TensorFlow binary is optimized with oneAPI Deep Neural Network Library (oneDNN) to use the following CPU instructions in performance-critical operations:  AVX2 AVX512F FMA\n",
      "To enable them in other operations, rebuild TensorFlow with the appropriate compiler flags.\n"
     ]
    },
    {
     "name": "stdout",
     "output_type": "stream",
     "text": [
      "'compile' took 0.355327 s\n",
      "\n"
     ]
    }
   ],
   "source": [
    "geom = dde.geometry.Interval(-1, 1)\n",
    "timedomain = dde.geometry.TimeDomain(0, 1)\n",
    "geomtime = dde.geometry.GeometryXTime(geom, timedomain)\n",
    "bc = dde.DirichletBC(geomtime, func, lambda _, on_boundary: on_boundary)\n",
    "ic = dde.IC(geomtime, func, lambda _, on_initial: on_initial)\n",
    "data = dde.data.TimePDE(\n",
    "    geomtime,\n",
    "    pde,\n",
    "    [bc, ic],\n",
    "    num_domain=4000,\n",
    "    num_boundary=2000,\n",
    "    num_initial=1000,\n",
    "    solution=func,\n",
    "    num_test=1000,\n",
    ")\n",
    "layer_size = [2] + [32] * 3 + [1]\n",
    "\n",
    "activation = \"tanh\"\n",
    "initializer = \"Glorot uniform\"\n",
    "\n",
    "net = dde.maps.FNN(layer_size, activation, initializer)\n",
    "model = dde.Model(data, net)\n",
    "model.compile(\"adam\", lr=0.001, metrics=[\"l2 relative error\"])"
   ]
  },
  {
   "cell_type": "markdown",
   "metadata": {},
   "source": [
    "## 3. Training\n"
   ]
  },
  {
   "cell_type": "code",
   "execution_count": 8,
   "metadata": {},
   "outputs": [
    {
     "name": "stdout",
     "output_type": "stream",
     "text": [
      "Initializing variables...\n",
      "Training model...\n",
      "\n",
      "Step      Train loss                        Test loss                         Test metric   \n",
      "0         [5.40e-02, 2.94e-02, 6.05e-01]    [5.36e-02, 2.94e-02, 6.05e-01]    [1.16e+00]    \n",
      "100       [9.40e-03, 5.65e-02, 3.05e-01]    [7.33e-03, 5.65e-02, 3.05e-01]    [8.69e-01]    \n",
      "\n",
      "Best model at step 100:\n",
      "  train loss: 3.71e-01\n",
      "  test loss: 3.69e-01\n",
      "  test metric: [8.69e-01]\n",
      "\n",
      "'train' took 4.916609 s\n",
      "\n",
      "training time: 4.917330980300903\n"
     ]
    }
   ],
   "source": [
    "t1 = time.time()\n",
    "\n",
    "epochs = 100\n",
    "losshistory, train_state = model.train(epochs=epochs)\n",
    "\n",
    "t2 = time.time()\n",
    "print(\"training time:\",(t2-t1))"
   ]
  },
  {
   "cell_type": "markdown",
   "metadata": {},
   "source": [
    "## 4. Model Deployment"
   ]
  },
  {
   "cell_type": "markdown",
   "metadata": {
    "tags": []
   },
   "source": [
    "## Register a model using mlflow\n",
    "\n",
    "- Log user-defined parameters in a remote database through a remote server\n",
    "- Create a model_wrapper object using ModelWrapper() class in the above cell\n",
    "- Create a default conda environment that need to be installed on the Docker conatiner that serves a REST API\n",
    "- Save the model object as a pickle file and conda environment as artifacts (files) in S3 or Blob Storage"
   ]
  },
  {
   "cell_type": "code",
   "execution_count": 9,
   "metadata": {},
   "outputs": [
    {
     "data": {
      "image/png": "[encoded data removed]",
      "text/plain": [
       "<Figure size 432x288 with 1 Axes>"
      ]
     },
     "metadata": {
      "needs_background": "light"
     },
     "output_type": "display_data"
    },
    {
     "name": "stdout",
     "output_type": "stream",
     "text": [
      "INFO:tensorflow:./pinn1d/model-100 is not in all_model_checkpoint_paths. Manually adding it.\n"
     ]
    }
   ],
   "source": [
    "dde.postprocessing.plot_loss_history(losshistory)\n",
    "plt.show()\n",
    "\n",
    "\n",
    "## Utility function to add libraries to conda environment\n",
    "def add_libraries_to_conda_env(_conda_env,libraries=[],conda_dependencies=[]):\n",
    "    dependencies = _conda_env[\"dependencies\"]\n",
    "    dependencies = dependencies + conda_dependencies\n",
    "    pip_index = None\n",
    "    for _index,_element in enumerate(dependencies):\n",
    "        if type(_element) == dict:\n",
    "            if \"pip\" in _element.keys():\n",
    "                pip_index = _index\n",
    "                break\n",
    "    dependencies[pip_index][\"pip\"] =  dependencies[pip_index][\"pip\"] + libraries\n",
    "    _conda_env[\"dependencies\"] = dependencies\n",
    "    return _conda_env\n",
    "\n",
    "# checkpointing and logging the model in mlflow\n",
    "model_wrapper = ModelWrapper()\n",
    "artifact_path = './pinn1d/model'\n",
    "model.save(artifact_path)\n",
    "model_artifacts = {\"model_path\" : os.path.split(artifact_path)[0]}\n",
    "env = mlflow.tensorflow.get_default_conda_env()\n",
    "env = add_libraries_to_conda_env(env,libraries=['deepxde'])\n",
    "\n",
    "with mlflow.start_run():\n",
    "    mlflow.log_param(\"epochs\",epochs)\n",
    "    mlflow.pyfunc.log_model(\"pinn_model\", python_model=model_wrapper, artifacts=model_artifacts, conda_env=env)"
   ]
  },
  {
   "cell_type": "markdown",
   "metadata": {
    "tags": []
   },
   "source": [
    "## 4. Deploying the model\n",
    "The above code logs a model in the experiments tab. For more info please refer [here](https://rocketml.gitbook.io/rocketml-user-guide/experiments). \n",
    "\n",
    "### 4.1 Find experiment in experiment list and click on it\n",
    "![experiments_list](https://github.com/rocketmlhq/sciml/raw/e8abbef269c5bee9d2b69398495fc5ced7457708/03_Deployment/experiments_list.png)\n",
    "\n",
    "### 4.2 Find run in runs list and click on it\n",
    "![runs_list](https://github.com/rocketmlhq/sciml/raw/e8abbef269c5bee9d2b69398495fc5ced7457708/03_Deployment/runs_list.png)\n",
    "\n",
    "### 4.3 Get run details and click on artifacts\n",
    "![run_details](https://github.com/rocketmlhq/sciml/raw/e8abbef269c5bee9d2b69398495fc5ced7457708/03_Deployment/run_details.png)\n",
    "\n",
    "### 4.4 Check different files logged as artifacts\n",
    "![artifacts](https://github.com/rocketmlhq/sciml/raw/e8abbef269c5bee9d2b69398495fc5ced7457708/03_Deployment/artifacts.png)\n",
    "\n",
    "- An MLflow Model is a standard format for packaging machine learning models that can be used in a variety of downstream tools [More Details](https://www.mlflow.org/docs/latest/models.html#storage-format)\n",
    "- ModelWrapper() object is saved as pkl file\n",
    "- conda.yaml and requirements.txt file are used to manage Python environment\n",
    "- Numpy file is saved in artifacts folder within the main folder (np_model)\n",
    "\n",
    "### 4.5 Deploy ML model as a REST API service\n",
    "\n",
    "Click on **Convert To Model** and fill the form. **Note: For deploying the PINN model, please select atleast 4096 memory for deployment**\n",
    "\n",
    "![model_deployment](https://github.com/rocketmlhq/sciml/raw/e8abbef269c5bee9d2b69398495fc5ced7457708/03_Deployment/model_deployment.png)\n",
    "\n",
    "### 4.6 Go to models tab and wait until the model turns to **ON** state\n",
    "![model_list](https://github.com/rocketmlhq/sciml/raw/e8abbef269c5bee9d2b69398495fc5ced7457708/03_Deployment/model_list.png)\n",
    "\n",
    "## 5. Use the Endpoint and Query from the server\n",
    "\n",
    "There are two methods to perform query... The first is using `requests` library and the other using `curl` shell command."
   ]
  },
  {
   "cell_type": "code",
   "execution_count": 65,
   "metadata": {},
   "outputs": [
    {
     "name": "stdout",
     "output_type": "stream",
     "text": [
      "[[-0.30753154]\n",
      " [-0.31334445]\n",
      " [-0.3189779 ]\n",
      " ...\n",
      " [ 0.0614724 ]\n",
      " [ 0.05806611]\n",
      " [ 0.05459545]]\n"
     ]
    }
   ],
   "source": [
    "import requests\n",
    "import json\n",
    "\n",
    "################################################################################\n",
    "# *** SET MODEL URL HERE BEFORE RUNNING THIS CELL (instructions above) ***\n",
    "# Example: https://<random_string>.sciml.rocketml.net/invocations\n",
    "url = \"\"\n",
    "################################################################################\n",
    "\n",
    "if not url:\n",
    "    raise ValueError('Model URL not set! Please read instructions on how to deploy model, set the correct URL, and try again.')\n",
    "\n",
    "headers = {\"Content-Type\":\"application/json; format=pandas-split\"}\n",
    "\n",
    "# First case, run inference on single data point\n",
    "x_data = np.linspace(-1,1,num = 100)\n",
    "t_data = np.linspace(0,1,num = 100)\n",
    "test_x , test_t = np.meshgrid(x_data, t_data)\n",
    "test_domain = np.vstack((np.ravel(test_x), np.ravel(test_t))).T\n",
    "# json_data = json.dumps(test_domain.tolist())\n",
    "import pandas as pd\n",
    "json_data = pd.DataFrame(test_domain, columns=['xx','tt']).to_json(orient='split')\n",
    "\n",
    "if url:\n",
    "    response = requests.post(url,data=json_data,headers=headers)\n",
    "    if response.status_code == 200:\n",
    "        output = np.array(json.loads(response.json())).astype(np.float32)\n",
    "        print(output)\n",
    "    else:\n",
    "        print(response.status_code)\n",
    "        print(\"REST API deployment is in progress -- please try again in a few minutes!\")\n",
    "else:\n",
    "    print(\"Make sure that the model is in ON state. Copy the Endpoint\")"
   ]
  },
  {
   "cell_type": "code",
   "execution_count": 67,
   "metadata": {},
   "outputs": [
    {
     "data": {
      "image/png": "[encoded data removed]",
      "text/plain": [
       "<Figure size 432x288 with 2 Axes>"
      ]
     },
     "metadata": {
      "needs_background": "light"
     },
     "output_type": "display_data"
    }
   ],
   "source": [
    "plot(test_domain,output,\"predicted solution\")"
   ]
  }
 ],
 "metadata": {
  "kernelspec": {
   "display_name": "Python 3 (ipykernel)",
   "language": "python",
   "name": "python3"
  },
  "language_info": {
   "codemirror_mode": {
    "name": "ipython",
    "version": 3
   },
   "file_extension": ".py",
   "mimetype": "text/x-python",
   "name": "python",
   "nbconvert_exporter": "python",
   "pygments_lexer": "ipython3",
   "version": "3.7.11"
  }
 },
 "nbformat": 4,
 "nbformat_minor": 4
}
