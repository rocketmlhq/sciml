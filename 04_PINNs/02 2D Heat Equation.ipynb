{
 "cells": [
  {
   "cell_type": "markdown",
   "id": "7cc00c83-000a-465a-8e09-72ac8e8233eb",
   "metadata": {},
   "source": [
    "# Physics Informed Neural Networks (PINNs) for 2D Heat Equation\n",
    "\n",
    "## 1. Introduction\n",
    "In this workbook, we would be training a physics informed neural network model for 1D Heat equation.\n",
    "\n",
    "$$\\frac{\\partial u}{\\partial t} - \\nu \\Big( \\frac{\\partial^2 u}{\\partial x^2} + \\frac{\\partial^2 u}{\\partial y^2} \\Big)= 0$$\n",
    "\n",
    "Physics informed neural networks is made of a dense neural network that takes in the $(x,t)$ points in the domain and learns the physics from it using PDEs such as the one just above. \n",
    "\n",
    "The architecture of the network looks something like this:\n",
    "\n",
    "![](https://www.researchgate.net/profile/Zhen-Li-105/publication/335990167/figure/fig1/AS:806502679982080@1569296631121/Schematic-of-a-physics-informed-neural-network-PINN-where-the-loss-function-of-PINN.ppm)\n",
    "\n",
    "We will begin the workbook with few imports and creating some helper functions\n",
    "\n",
    "## 2. Imports and helper functions"
   ]
  },
  {
   "cell_type": "code",
   "execution_count": 1,
   "id": "0f3e002e-a44d-4436-b9a2-b2485e86b2d1",
   "metadata": {},
   "outputs": [
    {
     "name": "stderr",
     "output_type": "stream",
     "text": [
      "Using backend: tensorflow.compat.v1\n",
      "\n",
      "2021-11-13 22:29:25.398080: W tensorflow/stream_executor/platform/default/dso_loader.cc:64] Could not load dynamic library 'libcudart.so.11.0'; dlerror: libcudart.so.11.0: cannot open shared object file: No such file or directory\n",
      "2021-11-13 22:29:25.398123: I tensorflow/stream_executor/cuda/cudart_stub.cc:29] Ignore above cudart dlerror if you do not have a GPU set up on your machine.\n"
     ]
    },
    {
     "name": "stdout",
     "output_type": "stream",
     "text": [
      "WARNING:tensorflow:From /miniconda/lib/python3.7/site-packages/tensorflow/python/compat/v2_compat.py:101: disable_resource_variables (from tensorflow.python.ops.variable_scope) is deprecated and will be removed in a future version.\n",
      "Instructions for updating:\n",
      "non-resource variables are not supported in the long term\n",
      "WARNING:tensorflow:From /miniconda/lib/python3.7/site-packages/deepxde/nn/initializers.py:120: The name tf.keras.initializers.he_normal is deprecated. Please use tf.compat.v1.keras.initializers.he_normal instead.\n",
      "\n"
     ]
    }
   ],
   "source": [
    "import deepxde as dde\n",
    "import numpy as np\n",
    "# Backend tensorflow.compat.v1 or tensorflow\n",
    "from deepxde.backend import tf\n",
    "import time \n",
    "import matplotlib.pyplot as plt\n",
    "import os\n",
    "from PIL import Image\n",
    "t0 = time.time()\n",
    "save_directory = './results'\n",
    "\n",
    "# Suppress warnings\n",
    "import warnings\n",
    "warnings.filterwarnings(\"ignore\")\n",
    "\n",
    "def plot(geom_time,resolution,data,save_directory,name):  #output_data = pred[:,j]\n",
    "    img_save_directory = save_directory + 'visualize_result'\n",
    "    if not os.path.exists(img_save_directory):\n",
    "        os.makedirs(img_save_directory)\n",
    "    img_save_directory = img_save_directory + '/'\n",
    "    fig = plt.figure()\n",
    "    ims_test = []\n",
    "    if name[-10:] =='prediction':\n",
    "        t_max = 1\n",
    "        t_min = -1\n",
    "        \n",
    "    else:\n",
    "        t_max = np.max(data)\n",
    "        t_min = np.min(data)\n",
    "    nx, ny,nt = resolution \n",
    "    data = data.reshape((len(data),)) \n",
    "    for t in range(nt):\n",
    "        plt.scatter(geom_time[:,0][nx*ny*t:nx*ny*(t+1)],geom_time[:,1][nx*ny*t:nx*ny*(t+1)], \n",
    "            c=data[nx*ny*t:nx*ny*(t+1)].reshape((len(data[nx*ny*t:nx*ny*(t+1)]),)), cmap='jet',vmin=t_min, vmax=t_max, s= 200, marker = 's')\n",
    "        plt.colorbar()\n",
    "        plt.xlabel('x domain')\n",
    "        plt.ylabel('y domain')\n",
    "        plt.title( 't = ' + \"{:.3f}\".format(geom_time[:,2][nx*ny*t +1 ]))\n",
    "        plt.show()\n",
    "        filename = name + '_' +str(t)\n",
    "        plt.savefig(os.path.join(img_save_directory, filename + '.png'))\n",
    "        plt.close()\n",
    "        im = Image.open(os.path.join(img_save_directory, filename + '.png'))\n",
    "        ims_test.append(im)    \n",
    "    ims_test[0].save(os.path.join(img_save_directory + name + '.gif'),save_all = True, \n",
    "            append_images = ims_test[1:], optimize = False, duration = 60, loop = 1000)\n",
    "    im.show()\n",
    "\n",
    "\n",
    "def plot_mean_data_history(duration, resolution, data,title,save_directory):\n",
    "    nx,ny,nt = resolution\n",
    "    m = []\n",
    "    for t in range(nt):\n",
    "        mean_t = np.mean(abs(data[nx*ny*t:nx*ny*(t+1)]))\n",
    "        m.append(mean_t)\n",
    "\n",
    "    time = np.array(range(nt))*(duration/nt)\n",
    "    time = time.reshape((nt,1))\n",
    "    plt.plot(time, np.asarray(m))\n",
    "    plt.title(title)\n",
    "    if not os.path.exists(save_directory):\n",
    "        os.makedirs(save_directory)\n",
    "    plt.savefig(os.path.join(save_directory, 'mean_' + title + '_history.png'))\n",
    "\n",
    "\n",
    "def pde(X, u):\n",
    "    du_X = tf.gradients(u, X)[0]\n",
    "    du_x, du_y, du_t = du_X[:, 0:1], du_X[:, 1:2],du_X[:, 2:3]\n",
    "    du_xx  = tf.gradients(du_x, X)[0][:, 0:1]\n",
    "    du_yy = tf.gradients(du_y, X)[0][:, 1:2]\n",
    "    return du_t-0.5*(du_xx + du_yy)\n",
    "    \n",
    "\n",
    "def func(x):\n",
    "    return np.sin(np.pi * x[:, 0:1]) * np.exp(-x[:, 1:2])* np.exp(-x[:, 2:3])"
   ]
  },
  {
   "cell_type": "markdown",
   "id": "6451b179-e08b-4f12-a513-9a0d1d77d59e",
   "metadata": {},
   "source": [
    "## 2. initialization\n",
    "Initialize the geometry, time domain and the Dirichlet BC and IC"
   ]
  },
  {
   "cell_type": "code",
   "execution_count": 2,
   "id": "f4e6d8d3-b784-41ae-a468-074a690715ff",
   "metadata": {},
   "outputs": [
    {
     "name": "stdout",
     "output_type": "stream",
     "text": [
      "Warning: 200 points required, but 225 points sampled.\n",
      "Warning: 10000 points required, but 11250 points sampled.\n"
     ]
    }
   ],
   "source": [
    "geom = dde.geometry.geometry_2d.Rectangle([-1,-1], [1,1])\n",
    "timedomain = dde.geometry.TimeDomain(0, 1)\n",
    "geomtime = dde.geometry.GeometryXTime(geom, timedomain)\n",
    "\n",
    "bc = dde.DirichletBC(geomtime, func, lambda _, on_boundary: on_boundary)\n",
    "ic = dde.IC(geomtime, func, lambda _, on_initial: on_initial)\n",
    "data = dde.data.TimePDE(\n",
    "    geomtime,\n",
    "    pde,\n",
    "    [],\n",
    "    num_domain=40000,\n",
    "    num_boundary=20000,\n",
    "    num_initial=10000,\n",
    "    solution=func,\n",
    "    num_test=10000,\n",
    ")"
   ]
  },
  {
   "cell_type": "markdown",
   "id": "31e26c8a-f118-45bd-8f91-b725f71fa6ee",
   "metadata": {},
   "source": [
    "Initialize the network and compile the model"
   ]
  },
  {
   "cell_type": "code",
   "execution_count": 3,
   "id": "cd305e42-701b-4f9c-987b-3b7826d23467",
   "metadata": {},
   "outputs": [
    {
     "name": "stdout",
     "output_type": "stream",
     "text": [
      "Compiling model...\n",
      "Building feed-forward neural network...\n",
      "'build' took 0.046935 s\n",
      "\n"
     ]
    },
    {
     "name": "stderr",
     "output_type": "stream",
     "text": [
      "2021-11-13 22:29:29.861934: W tensorflow/stream_executor/platform/default/dso_loader.cc:64] Could not load dynamic library 'libcuda.so.1'; dlerror: libcuda.so.1: cannot open shared object file: No such file or directory\n",
      "2021-11-13 22:29:29.861968: W tensorflow/stream_executor/cuda/cuda_driver.cc:269] failed call to cuInit: UNKNOWN ERROR (303)\n",
      "2021-11-13 22:29:29.861987: I tensorflow/stream_executor/cuda/cuda_diagnostics.cc:156] kernel driver does not appear to be running on this host (bneievrk-76946f66f-dtbkv): /proc/driver/nvidia/version does not exist\n",
      "2021-11-13 22:29:29.862219: I tensorflow/core/platform/cpu_feature_guard.cc:142] This TensorFlow binary is optimized with oneAPI Deep Neural Network Library (oneDNN) to use the following CPU instructions in performance-critical operations:  AVX2 AVX512F FMA\n",
      "To enable them in other operations, rebuild TensorFlow with the appropriate compiler flags.\n"
     ]
    },
    {
     "name": "stdout",
     "output_type": "stream",
     "text": [
      "'compile' took 0.417882 s\n",
      "\n"
     ]
    }
   ],
   "source": [
    "initializer = \"Glorot uniform\"\n",
    "optimizer = \"adam\"\n",
    "\n",
    "\n",
    "layer_size = [3] + [32]*3 + [1]\n",
    "activation = \"tanh\"\n",
    "net = dde.maps.FNN(layer_size, activation, initializer)\n",
    "\n",
    "model = dde.Model(data, net)\n",
    "\n",
    "model.compile(optimizer, lr=0.001)"
   ]
  },
  {
   "cell_type": "markdown",
   "id": "f9d979fa-b250-4d24-b797-8a08493181ad",
   "metadata": {},
   "source": [
    "## 3. Training\n"
   ]
  },
  {
   "cell_type": "code",
   "execution_count": null,
   "id": "3561a8c6-f58c-491b-9490-2a482b5d30a4",
   "metadata": {},
   "outputs": [
    {
     "name": "stdout",
     "output_type": "stream",
     "text": [
      "Initializing variables...\n",
      "Training model...\n",
      "\n",
      "Step      Train loss    Test loss     Test metric\n",
      "0         [5.78e-02]    [5.28e-02]    []  \n",
      "1000      [1.82e-06]    [1.50e-06]    []  \n",
      "2000      [5.52e-07]    [5.12e-07]    []  \n",
      "3000      [2.19e-07]    [2.01e-07]    []  \n",
      "4000      [1.05e-07]    [9.43e-08]    []  \n"
     ]
    }
   ],
   "source": [
    "t1 = time.time()\n",
    "\n",
    "losshistory, train_state = model.train(epochs=10000)\n",
    "t2 = time.time()\n",
    "print(\"training time:\", (t2-t1))"
   ]
  },
  {
   "cell_type": "markdown",
   "id": "b183bf25-e1fe-45fb-ae19-dde3024b8c8f",
   "metadata": {},
   "source": [
    "## 4. Post-training Visualization"
   ]
  },
  {
   "cell_type": "code",
   "execution_count": null,
   "id": "d998accd-f5e4-4421-9066-74879a5a1164",
   "metadata": {},
   "outputs": [],
   "source": [
    "dde.postprocessing.plot_loss_history(losshistory)\n",
    "plt.show()\n",
    "\n",
    "\n",
    "x = np.linspace(-1, 1, 100)\n",
    "y = np.linspace(-1, 1, 100)\n",
    "t = np.linspace(0, 1, 21)\n",
    "test_x , test_t, test_y = np.meshgrid(x, t,y)\n",
    "test_domain = np.vstack((np.ravel(test_x), np.ravel(test_y),np.ravel(test_t))).T\n",
    "\n",
    "\n",
    "prediction = model.predict(test_domain)\n",
    "residual = model.predict(test_domain, operator=pde)\n",
    "plot_mean_data_history(1, (100,100,21), np.abs(residual),'residual',save_directory)\n",
    "plot(test_domain,(100,100,21), prediction, save_directory,'prediction')\n",
    "#plot(test_domain,(100,100,21), residual, save_directory,'prediction')\n",
    "print(\"total time\")\n",
    "print(t2-t0)"
   ]
  },
  {
   "cell_type": "code",
   "execution_count": null,
   "id": "befe25bd-4e0a-4400-90f2-88b869e2aa2f",
   "metadata": {},
   "outputs": [],
   "source": []
  }
 ],
 "metadata": {
  "kernelspec": {
   "display_name": "Python 3 (ipykernel)",
   "language": "python",
   "name": "python3"
  },
  "language_info": {
   "codemirror_mode": {
    "name": "ipython",
    "version": 3
   },
   "file_extension": ".py",
   "mimetype": "text/x-python",
   "name": "python",
   "nbconvert_exporter": "python",
   "pygments_lexer": "ipython3",
   "version": "3.7.11"
  }
 },
 "nbformat": 4,
 "nbformat_minor": 5
}
